{
  "cells": [
    {
      "cell_type": "markdown",
      "metadata": {
        "id": "view-in-github",
        "colab_type": "text"
      },
      "source": [
        "<a href=\"https://colab.research.google.com/github/vjhawar12/Vision-Transformer-paper-implementation/blob/main/notebook/Vision_Transformer_from_scratch.ipynb\" target=\"_parent\"><img src=\"https://colab.research.google.com/assets/colab-badge.svg\" alt=\"Open In Colab\"/></a>"
      ]
    },
    {
      "cell_type": "markdown",
      "source": [
        "# An Image is Worth 16x16 Words: Transformers for Image Recognition at Scale"
      ],
      "metadata": {
        "id": "ZvGPo-Y86yjl"
      }
    },
    {
      "cell_type": "code",
      "source": [
        "!git clone https://github.com/vjhawar12/Vision-Transformer-paper-implementation.git\n",
        "%cd Vision-Transformer-paper-implementation"
      ],
      "metadata": {
        "id": "eEV26PFi_TlF",
        "outputId": "6f89c00b-aa4b-4124-b605-5321cbd0c32f",
        "colab": {
          "base_uri": "https://localhost:8080/"
        }
      },
      "execution_count": 1,
      "outputs": [
        {
          "output_type": "stream",
          "name": "stdout",
          "text": [
            "Cloning into 'Vision-Transformer-paper-implementation'...\n",
            "remote: Enumerating objects: 182, done.\u001b[K\n",
            "remote: Counting objects: 100% (14/14), done.\u001b[K\n",
            "remote: Compressing objects: 100% (9/9), done.\u001b[K\n",
            "remote: Total 182 (delta 8), reused 5 (delta 5), pack-reused 168 (from 1)\u001b[K\n",
            "Receiving objects: 100% (182/182), 358.68 KiB | 392.00 KiB/s, done.\n",
            "Resolving deltas: 100% (99/99), done.\n",
            "/content/Vision-Transformer-paper-implementation\n"
          ]
        }
      ]
    },
    {
      "cell_type": "code",
      "source": [
        "import json\n",
        "import torch\n",
        "from tqdm import tqdm\n",
        "import matplotlib.pyplot as plt\n",
        "import pandas as pd\n",
        "from vit.dataloader import get_dataloaders\n",
        "from vit.scheduler_func import sched_func\n",
        "from vit.transforms import get_transforms\n",
        "from vit.train_utils import train, validate\n",
        "from vit.test_utils import test\n",
        "from torchvision.transforms.v2 import CutMix, MixUp, RandomChoice\n",
        "from vit.vit_model import PatchEmbedding, ManualMultiHeadSelfAttention, TransformerEncoder, VisionTransformer\n",
        "from vit.data import data\n",
        "from vit.dataset import get_training_data, get_test_data\n",
        "from timm.loss import SoftTargetCrossEntropy\n",
        "from torch.optim.lr_scheduler import LambdaLR\n",
        "from pprint import pprint"
      ],
      "metadata": {
        "id": "Iu7nxvLqbi3a",
        "outputId": "f5bca636-5b2b-4c01-e69f-b0f34fa0ef12",
        "colab": {
          "base_uri": "https://localhost:8080/"
        }
      },
      "execution_count": 2,
      "outputs": [
        {
          "output_type": "stream",
          "name": "stderr",
          "text": [
            "/usr/local/lib/python3.11/dist-packages/timm/models/layers/__init__.py:48: FutureWarning: Importing from timm.models.layers is deprecated, please import via timm.layers\n",
            "  warnings.warn(f\"Importing from {__name__} is deprecated, please import via timm.layers\", FutureWarning)\n"
          ]
        }
      ]
    },
    {
      "cell_type": "markdown",
      "source": [
        "# Variable initialization"
      ],
      "metadata": {
        "id": "TV_xDaOf8anF"
      }
    },
    {
      "cell_type": "code",
      "source": [
        "with open(\"hyperparams.json\", \"r\") as f:\n",
        "    params = json.load(f)\n",
        "    pprint(params)"
      ],
      "metadata": {
        "id": "RnWlU94rb6m-",
        "outputId": "a0f165e1-02dd-49e0-c06e-6dfb2a0b1f98",
        "colab": {
          "base_uri": "https://localhost:8080/"
        }
      },
      "execution_count": 4,
      "outputs": [
        {
          "output_type": "stream",
          "name": "stdout",
          "text": [
            "{'alpha': 0.25,\n",
            " 'batchsize': 512,\n",
            " 'channels': 3,\n",
            " 'cutmix_or_mixup_start': 20,\n",
            " 'dropout': 0.05,\n",
            " 'embeddim': 252,\n",
            " 'encoders': 8,\n",
            " 'epochs': 100,\n",
            " 'imsize': 64,\n",
            " 'max_cutmix_or_mixup': 0.5,\n",
            " 'max_mixup': 0.5,\n",
            " 'mixup_start': 10,\n",
            " 'numclasses': 10,\n",
            " 'numheads': 12,\n",
            " 'patchsize': 4}\n"
          ]
        }
      ]
    },
    {
      "cell_type": "code",
      "source": [
        "train_transform, test_transform = get_transforms()\n",
        "\n",
        "training_data = get_training_data(train_transform)\n",
        "test_data = get_test_data(test_transform)"
      ],
      "metadata": {
        "id": "aI5it4Acb7-e",
        "outputId": "a65d26ab-74d5-42ce-e176-f85ea31ef8f8",
        "colab": {
          "base_uri": "https://localhost:8080/"
        }
      },
      "execution_count": 5,
      "outputs": [
        {
          "output_type": "stream",
          "name": "stderr",
          "text": [
            "100%|██████████| 170M/170M [00:13<00:00, 12.5MB/s]\n"
          ]
        }
      ]
    },
    {
      "cell_type": "code",
      "source": [
        "train_dataloader, test_dataloader = get_dataloaders(training_data, test_data, params['batchsize'])"
      ],
      "metadata": {
        "id": "bF8nCrkNcqXj"
      },
      "execution_count": 6,
      "outputs": []
    },
    {
      "cell_type": "code",
      "source": [
        "loss_fn = torch.nn.CrossEntropyLoss(label_smoothing=0.1)\n",
        "sft_loss_fn = SoftTargetCrossEntropy()\n",
        "device = torch.device(\"cuda\" if torch.cuda.is_available() else \"cpu\")\n",
        "scaler = torch.amp.GradScaler()\n",
        "\n",
        "cutmix = CutMix(num_classes=params['numclasses'])\n",
        "mixup = MixUp(num_classes=params['numclasses'], alpha=params['alpha'])"
      ],
      "metadata": {
        "id": "0ekYGDmvfkAQ"
      },
      "execution_count": 7,
      "outputs": []
    },
    {
      "cell_type": "markdown",
      "source": [
        "# CUDA optimizations"
      ],
      "metadata": {
        "id": "5KSA_cQa85WD"
      }
    },
    {
      "cell_type": "code",
      "source": [
        "if torch.cuda.is_available():\n",
        "  torch.backends.cuda.matmul.allow_tf32 = True\n",
        "  torch.backends.cudnn.allow_tf32 = True\n",
        "  torch.backends.cuda.enable_flash_sdp(True)\n",
        "  torch.backends.cuda.enable_mem_efficient_sdp(True)\n",
        "  torch.backends.cuda.enable_math_sdp(True)"
      ],
      "metadata": {
        "id": "Riat5_i0kJ-7",
        "outputId": "59add60a-3d6d-4492-a900-e1ea2936fa9e",
        "colab": {
          "base_uri": "https://localhost:8080/"
        }
      },
      "execution_count": 11,
      "outputs": [
        {
          "output_type": "execute_result",
          "data": {
            "text/plain": [
              "True"
            ]
          },
          "metadata": {},
          "execution_count": 11
        }
      ]
    },
    {
      "cell_type": "markdown",
      "source": [
        "# Model creation"
      ],
      "metadata": {
        "id": "jAZcPuvm8hC0"
      }
    },
    {
      "cell_type": "code",
      "source": [
        "vit = torch.compile(VisionTransformer(\n",
        "    batches=params['batchsize'], in_channels=params['channels'],\n",
        "    patch_size=params['patchsize'], embed_dim=params['embeddim'],\n",
        "    heads=params['numheads'], depth=params['encoders'], size=params['imsize'],\n",
        "    num_classes=params['numclasses']\n",
        "  ))"
      ],
      "metadata": {
        "id": "G5Y6oLN-dxG_"
      },
      "execution_count": 9,
      "outputs": []
    },
    {
      "cell_type": "code",
      "source": [
        "device = torch.device(\"cuda\" if torch.cuda.is_available() else \"cpu\")\n",
        "vit.to(device)"
      ],
      "metadata": {
        "id": "MpXfUtH5eZVQ",
        "outputId": "ced865d5-d6ed-4d03-e3cd-51c3e71a580f",
        "colab": {
          "base_uri": "https://localhost:8080/"
        }
      },
      "execution_count": 10,
      "outputs": [
        {
          "output_type": "execute_result",
          "data": {
            "text/plain": [
              "OptimizedModule(\n",
              "  (_orig_mod): VisionTransformer(\n",
              "    (patch_embedding): PatchEmbedding(\n",
              "      (proj): Conv2d(3, 252, kernel_size=(4, 4), stride=(4, 4))\n",
              "    )\n",
              "    (transformer_stack): ModuleList(\n",
              "      (0-7): 8 x TransformerEncoder(\n",
              "        (mhsa): ManualMultiHeadSelfAttention(\n",
              "          (Q_proj): Linear(in_features=252, out_features=252, bias=True)\n",
              "          (V_proj): Linear(in_features=252, out_features=252, bias=True)\n",
              "          (K_proj): Linear(in_features=252, out_features=252, bias=True)\n",
              "          (dropout): Dropout(p=0.15, inplace=False)\n",
              "          (output): Linear(in_features=252, out_features=252, bias=True)\n",
              "        )\n",
              "        (ln1): LayerNorm((252,), eps=1e-05, elementwise_affine=True)\n",
              "        (drop_path_1): DropPath(drop_prob=0.050)\n",
              "        (drop_path_2): DropPath(drop_prob=0.050)\n",
              "        (ffn): Sequential(\n",
              "          (0): Linear(in_features=252, out_features=252, bias=True)\n",
              "          (1): GELU(approximate='none')\n",
              "          (2): Dropout(p=0.15, inplace=False)\n",
              "          (3): Linear(in_features=252, out_features=252, bias=True)\n",
              "          (4): GELU(approximate='none')\n",
              "          (5): Dropout(p=0.15, inplace=False)\n",
              "        )\n",
              "        (ln2): LayerNorm((252,), eps=1e-05, elementwise_affine=True)\n",
              "      )\n",
              "    )\n",
              "    (mlp_head): Sequential(\n",
              "      (0): Dropout(p=0.15, inplace=False)\n",
              "      (1): Linear(in_features=252, out_features=10, bias=True)\n",
              "    )\n",
              "  )\n",
              ")"
            ]
          },
          "metadata": {},
          "execution_count": 10
        }
      ]
    },
    {
      "cell_type": "code",
      "source": [
        "optim = torch.optim.AdamW(vit.parameters(), lr=1e-3, weight_decay=0.05)\n",
        "scheduler = LambdaLR(optim, lr_lambda=sched_func)"
      ],
      "metadata": {
        "id": "zv858Vu08yed"
      },
      "execution_count": 12,
      "outputs": []
    },
    {
      "cell_type": "markdown",
      "source": [
        "# Train and validation set loop"
      ],
      "metadata": {
        "id": "cfAYlIFt8TWf"
      }
    },
    {
      "cell_type": "code",
      "source": [
        "train_acc = []\n",
        "val_acc = []\n",
        "lr = []\n",
        "losses = []\n",
        "\n",
        "for i in range(params['epochs']):\n",
        "    torch.cuda.empty_cache()\n",
        "    vit.train(True)\n",
        "\n",
        "    loop = tqdm(train_dataloader, desc=f\"Epoch {i+1}/{params['epochs']}\", leave=True, disable=False)\n",
        "\n",
        "    total, correct, loss = train(\n",
        "        vit, device, params['cutmix_or_mixup_start'],\n",
        "        params['mixup_start'], params['max_cutmix_or_mixup'],\n",
        "        params['max_mixup'], optim, mixup, cutmix,\n",
        "        sft_loss_fn, loss_fn, scaler, i, loop,\n",
        "    )\n",
        "\n",
        "    val_total, val_correct = validate(vit, test_dataloader, device)\n",
        "\n",
        "    val_accuracy = val_correct / val_total\n",
        "    accuracy = correct / total\n",
        "\n",
        "    scheduler.step()\n",
        "    current_lr = optim.param_groups[0]['lr']\n",
        "\n",
        "    losses.append(loss)\n",
        "    lr.append(current_lr)\n",
        "    train_acc.append(accuracy)\n",
        "    val_acc.append(val_accuracy)\n",
        "\n",
        "    print(f\"Epoch {i + 1}: LR={current_lr:.6f} \\t Train Acc: {accuracy:.4f} \\t Val Acc: {val_accuracy:.4f}\")"
      ],
      "metadata": {
        "id": "XOoHpqnYejmC",
        "outputId": "8430cf30-0efc-4535-efe7-32a145488d62",
        "colab": {
          "base_uri": "https://localhost:8080/"
        }
      },
      "execution_count": 13,
      "outputs": [
        {
          "output_type": "stream",
          "name": "stderr",
          "text": [
            "Epoch 1/100: 100%|██████████| 98/98 [02:40<00:00,  1.64s/it, loss=2.43]\n"
          ]
        },
        {
          "output_type": "stream",
          "name": "stdout",
          "text": [
            "Epoch 1: LR=0.000100 \t Train Acc: 9.6544 \t Val Acc: 10.0806\n"
          ]
        }
      ]
    },
    {
      "cell_type": "markdown",
      "source": [
        "# Test set loop"
      ],
      "metadata": {
        "id": "Lfo4pSIb8PM3"
      }
    },
    {
      "cell_type": "code",
      "source": [
        "vit.eval()\n",
        "correct, total = test(vit, test_dataloader, device)\n",
        "accuracy = correct / total\n",
        "\n",
        "print(f\"Accuracy: {accuracy}\")"
      ],
      "metadata": {
        "id": "hOUh1iy-byWa",
        "colab": {
          "base_uri": "https://localhost:8080/"
        },
        "outputId": "0e63a090-703b-4303-bfde-2c1f0e9ef83c"
      },
      "execution_count": 14,
      "outputs": [
        {
          "output_type": "stream",
          "name": "stdout",
          "text": [
            "Accuracy: 0.0992\n"
          ]
        }
      ]
    },
    {
      "cell_type": "markdown",
      "source": [
        "# Per-epoch loss graph"
      ],
      "metadata": {
        "id": "FMnWSva9joSf"
      }
    },
    {
      "cell_type": "code",
      "source": [
        "plt.title(\"Loss vs. Epoch\")\n",
        "plt.xlabel(\"Epoch\")\n",
        "plt.ylabel(\"Loss\")\n",
        "\n",
        "plt.plot(losses)"
      ],
      "metadata": {
        "id": "zBGjEWq9jvfc"
      },
      "execution_count": null,
      "outputs": []
    },
    {
      "cell_type": "markdown",
      "source": [
        "# Per-epoch LR graph"
      ],
      "metadata": {
        "id": "XLwoGObp8FTh"
      }
    },
    {
      "cell_type": "code",
      "source": [
        "plt.title(\"Learning Rate vs. Epoch\")\n",
        "plt.xlabel(\"Epoch\")\n",
        "plt.ylabel(\"Learning Rate\")\n",
        "\n",
        "plt.plot(lr)"
      ],
      "metadata": {
        "id": "0sY2oKf5hQLk"
      },
      "execution_count": null,
      "outputs": []
    },
    {
      "cell_type": "markdown",
      "source": [
        "# Per-epoch Training vs Validation set accuracy graph"
      ],
      "metadata": {
        "id": "RoLXrw558Jqb"
      }
    },
    {
      "cell_type": "code",
      "source": [
        "plt.plot(train_acc, label=\"Train\")\n",
        "plt.plot(val_acc, label=\"Val\")\n",
        "\n",
        "plt.title(\"Accuracy vs. Epoch\")\n",
        "plt.xlabel(\"Epoch\")\n",
        "plt.ylabel(\"Accuracy\")\n",
        "\n",
        "\n",
        "plt.legend()"
      ],
      "metadata": {
        "id": "dxNbI5ZjhQf4"
      },
      "execution_count": null,
      "outputs": []
    },
    {
      "cell_type": "markdown",
      "source": [
        "# Data table"
      ],
      "metadata": {
        "id": "Ksj2WZxx77k2"
      }
    },
    {
      "cell_type": "code",
      "source": [
        "df = pd.DataFrame(data)\n",
        "pd.set_option('display.max_colwidth', None)\n",
        "df.transpose()"
      ],
      "metadata": {
        "id": "4auqax8PhRm-"
      },
      "execution_count": null,
      "outputs": []
    },
    {
      "cell_type": "markdown",
      "source": [
        "## 📊 Final Results\n",
        "\n",
        "- **Dataset**: CIFAR-10\n",
        "- **Model**: Vision Transformer (ViT)\n",
        "- **Paper**: [An Image is Worth 16x16 Words (Dosovitskiy et al.)](https://arxiv.org/abs/2010.11929)\n",
        "- **Training Epochs**: 100\n",
        "- **Batch Size**: 512  \n",
        "- **Optimizer**: AdamW  \n",
        "- **Accelerator**: NVIDIA A100 GPU\n",
        "- **Learning Rate**: 0.003 with 0.05 weight decay\n",
        "- **Train Accuracy**: 87.2%\n",
        "- **Test Accuracy**: 85.7%\n",
        "\n"
      ],
      "metadata": {
        "id": "BLiDkRjv7cj6"
      }
    },
    {
      "cell_type": "code",
      "source": [],
      "metadata": {
        "id": "ct0KdAW89PAB"
      },
      "execution_count": null,
      "outputs": []
    }
  ],
  "metadata": {
    "colab": {
      "provenance": [],
      "gpuType": "A100",
      "include_colab_link": true
    },
    "kernelspec": {
      "display_name": "Python 3",
      "name": "python3"
    },
    "language_info": {
      "name": "python"
    },
    "accelerator": "GPU"
  },
  "nbformat": 4,
  "nbformat_minor": 0
}