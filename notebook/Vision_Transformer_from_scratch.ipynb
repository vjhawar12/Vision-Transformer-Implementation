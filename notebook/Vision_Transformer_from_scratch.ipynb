{
  "cells": [
    {
      "cell_type": "markdown",
      "metadata": {
        "id": "view-in-github",
        "colab_type": "text"
      },
      "source": [
        "<a href=\"https://colab.research.google.com/github/vjhawar12/Vision-Transformer-paper-implementation/blob/main/notebook/Vision_Transformer_from_scratch.ipynb\" target=\"_parent\"><img src=\"https://colab.research.google.com/assets/colab-badge.svg\" alt=\"Open In Colab\"/></a>"
      ]
    },
    {
      "cell_type": "markdown",
      "source": [
        "# An Image is Worth 16x16 Words: Transformers for Image Recognition at Scale"
      ],
      "metadata": {
        "id": "ZvGPo-Y86yjl"
      }
    },
    {
      "cell_type": "markdown",
      "source": [
        "### 📌 **Quick Start:**\n",
        "If you just want to test the pretrained model without training:\n",
        "\n",
        "👉 Scroll down to **\"🔍 Load Pretrained Model and Evaluate on CIFAR-10 Test Set\"**\n",
        "\n",
        "Before that:\n",
        "\n",
        "- ✅ **Clone the GitHub repository**\n",
        "- ✅ **Import the necessary modules**\n",
        "- ✅ **Load the training hyperparameters**\n",
        "\n"
      ],
      "metadata": {
        "id": "WrEWySurpVid"
      }
    },
    {
      "cell_type": "markdown",
      "source": [
        "#Cloning Repo"
      ],
      "metadata": {
        "id": "vSmMukMxwFkO"
      }
    },
    {
      "cell_type": "code",
      "source": [
        "!git clone https://github.com/vjhawar12/Vision-Transformer-paper-implementation.git\n",
        "%cd Vision-Transformer-paper-implementation"
      ],
      "metadata": {
        "id": "eEV26PFi_TlF"
      },
      "execution_count": null,
      "outputs": []
    },
    {
      "cell_type": "markdown",
      "source": [
        "#  Importing libraries"
      ],
      "metadata": {
        "id": "M4ix0NjEwL-p"
      }
    },
    {
      "cell_type": "code",
      "source": [
        "import json\n",
        "import torch\n",
        "from tqdm import tqdm\n",
        "import matplotlib.pyplot as plt\n",
        "import pandas as pd\n",
        "from vit.dataloader import get_dataloaders\n",
        "from vit.scheduler_func import sched_func\n",
        "from vit.transforms import get_transforms\n",
        "from vit.train_utils import train, validate\n",
        "from vit.test_utils import test\n",
        "from torchvision.transforms.v2 import CutMix, MixUp, RandomChoice\n",
        "from vit.vit_model import PatchEmbedding, ManualMultiHeadSelfAttention, TransformerEncoder, VisionTransformer\n",
        "from vit.data import data\n",
        "from vit.dataset import get_training_data, get_test_data\n",
        "from timm.loss import SoftTargetCrossEntropy\n",
        "from torch.optim.lr_scheduler import LambdaLR\n",
        "from pprint import pprint"
      ],
      "metadata": {
        "id": "Iu7nxvLqbi3a"
      },
      "execution_count": null,
      "outputs": []
    },
    {
      "cell_type": "markdown",
      "source": [
        "# Loading hyperparameters"
      ],
      "metadata": {
        "id": "TV_xDaOf8anF"
      }
    },
    {
      "cell_type": "code",
      "source": [
        "with open(\"hyperparams.json\", \"r\") as f:\n",
        "    params = json.load(f)\n",
        "    pprint(params)"
      ],
      "metadata": {
        "id": "RnWlU94rb6m-",
        "outputId": "bd28ffb2-18c7-40f9-afae-3b79efb5d641",
        "colab": {
          "base_uri": "https://localhost:8080/"
        }
      },
      "execution_count": null,
      "outputs": [
        {
          "output_type": "stream",
          "name": "stdout",
          "text": [
            "{'alpha': 0.25,\n",
            " 'batchsize': 512,\n",
            " 'channels': 3,\n",
            " 'cutmix_or_mixup_start': 20,\n",
            " 'dropout': 0.05,\n",
            " 'embeddim': 252,\n",
            " 'encoders': 8,\n",
            " 'epochs': 100,\n",
            " 'imsize': 64,\n",
            " 'max_cutmix_or_mixup': 0.5,\n",
            " 'max_mixup': 0.5,\n",
            " 'mixup_bias': 0.7,\n",
            " 'mixup_start': 10,\n",
            " 'numclasses': 10,\n",
            " 'numheads': 12,\n",
            " 'patchsize': 4}\n"
          ]
        }
      ]
    },
    {
      "cell_type": "markdown",
      "source": [
        "# Variable initialization"
      ],
      "metadata": {
        "id": "q2Hn11KWwTET"
      }
    },
    {
      "cell_type": "code",
      "source": [
        "train_transform, test_transform = get_transforms()\n",
        "\n",
        "training_data = get_training_data(train_transform)\n",
        "test_data = get_test_data(test_transform)"
      ],
      "metadata": {
        "id": "aI5it4Acb7-e"
      },
      "execution_count": null,
      "outputs": []
    },
    {
      "cell_type": "code",
      "source": [
        "train_dataloader, test_dataloader = get_dataloaders(training_data, test_data, params['batchsize'])"
      ],
      "metadata": {
        "id": "bF8nCrkNcqXj"
      },
      "execution_count": null,
      "outputs": []
    },
    {
      "cell_type": "code",
      "source": [
        "loss_fn = torch.nn.CrossEntropyLoss(label_smoothing=0.1)\n",
        "sft_loss_fn = SoftTargetCrossEntropy()\n",
        "device = torch.device(\"cuda\" if torch.cuda.is_available() else \"cpu\")\n",
        "scaler = torch.amp.GradScaler()\n",
        "\n",
        "cutmix = CutMix(num_classes=params['numclasses'])\n",
        "mixup = MixUp(num_classes=params['numclasses'], alpha=params['alpha'])"
      ],
      "metadata": {
        "id": "0ekYGDmvfkAQ"
      },
      "execution_count": null,
      "outputs": []
    },
    {
      "cell_type": "markdown",
      "source": [
        "# CUDA optimizations"
      ],
      "metadata": {
        "id": "5KSA_cQa85WD"
      }
    },
    {
      "cell_type": "code",
      "source": [
        "if torch.cuda.is_available():\n",
        "  torch.backends.cuda.matmul.allow_tf32 = True\n",
        "  torch.backends.cudnn.allow_tf32 = True\n",
        "  torch.backends.cuda.enable_flash_sdp(True)\n",
        "  torch.backends.cuda.enable_mem_efficient_sdp(True)\n",
        "  torch.backends.cuda.enable_math_sdp(True)"
      ],
      "metadata": {
        "id": "Riat5_i0kJ-7"
      },
      "execution_count": null,
      "outputs": []
    },
    {
      "cell_type": "markdown",
      "source": [
        "# Model creation"
      ],
      "metadata": {
        "id": "jAZcPuvm8hC0"
      }
    },
    {
      "cell_type": "code",
      "source": [
        "vit = torch.compile(VisionTransformer(\n",
        "    batches=params['batchsize'], in_channels=params['channels'],\n",
        "    patch_size=params['patchsize'], embed_dim=params['embeddim'],\n",
        "    heads=params['numheads'], depth=params['encoders'], size=params['imsize'],\n",
        "    num_classes=params['numclasses']\n",
        "  ))"
      ],
      "metadata": {
        "id": "G5Y6oLN-dxG_"
      },
      "execution_count": null,
      "outputs": []
    },
    {
      "cell_type": "code",
      "source": [
        "device = torch.device(\"cuda\" if torch.cuda.is_available() else \"cpu\")\n",
        "vit.to(device)"
      ],
      "metadata": {
        "id": "MpXfUtH5eZVQ"
      },
      "execution_count": null,
      "outputs": []
    },
    {
      "cell_type": "code",
      "source": [
        "optim = torch.optim.AdamW(vit.parameters(), lr=1e-3, weight_decay=0.05)\n",
        "scheduler = LambdaLR(optim, lr_lambda=sched_func)"
      ],
      "metadata": {
        "id": "zv858Vu08yed"
      },
      "execution_count": null,
      "outputs": []
    },
    {
      "cell_type": "markdown",
      "source": [
        "# Train and validation set loop"
      ],
      "metadata": {
        "id": "cfAYlIFt8TWf"
      }
    },
    {
      "cell_type": "code",
      "source": [
        "train_acc = []\n",
        "val_acc = []\n",
        "lr = []\n",
        "losses = []\n",
        "\n",
        "for i in range(params['epochs']):\n",
        "    torch.cuda.empty_cache()\n",
        "    vit.train(True)\n",
        "\n",
        "    loop = tqdm(train_dataloader, desc=f\"Epoch {i+1}/{params['epochs']}\", leave=True, disable=False)\n",
        "\n",
        "    total, correct, loss = train(\n",
        "        vit, device, params['cutmix_or_mixup_start'],\n",
        "        params['mixup_start'], params['max_cutmix_or_mixup'],\n",
        "        params['max_mixup'], optim, mixup, cutmix,\n",
        "        sft_loss_fn, loss_fn, scaler, i, loop,\n",
        "    )\n",
        "\n",
        "    val_total, val_correct = validate(vit, test_dataloader, device)\n",
        "\n",
        "    val_accuracy = val_correct / val_total\n",
        "    accuracy = correct / total\n",
        "\n",
        "    scheduler.step()\n",
        "    current_lr = optim.param_groups[0]['lr']\n",
        "\n",
        "    losses.append(loss)\n",
        "    lr.append(current_lr)\n",
        "    train_acc.append(accuracy)\n",
        "    val_acc.append(val_accuracy)\n",
        "\n",
        "    print(f\"Epoch {i + 1}: LR={current_lr:.6f} \\t Train Acc: {accuracy:.4f} \\t Val Acc: {val_accuracy:.4f}\")"
      ],
      "metadata": {
        "id": "XOoHpqnYejmC"
      },
      "execution_count": null,
      "outputs": []
    },
    {
      "cell_type": "markdown",
      "source": [
        "# Test set loop"
      ],
      "metadata": {
        "id": "Lfo4pSIb8PM3"
      }
    },
    {
      "cell_type": "code",
      "source": [
        "vit.eval()\n",
        "correct, total = test(vit, test_dataloader, device)\n",
        "accuracy = correct / total\n",
        "\n",
        "print(f\"Accuracy: {accuracy}\")"
      ],
      "metadata": {
        "id": "hOUh1iy-byWa",
        "colab": {
          "base_uri": "https://localhost:8080/"
        },
        "outputId": "88004bd6-0ea9-43c4-a61d-8953a2c38fbc"
      },
      "execution_count": null,
      "outputs": [
        {
          "output_type": "stream",
          "name": "stdout",
          "text": [
            "Accuracy: 0.8588\n"
          ]
        }
      ]
    },
    {
      "cell_type": "markdown",
      "source": [
        "# Per-epoch loss graph"
      ],
      "metadata": {
        "id": "FMnWSva9joSf"
      }
    },
    {
      "cell_type": "code",
      "source": [
        "plt.title(\"Loss vs. Epoch\")\n",
        "plt.xlabel(\"Epoch\")\n",
        "plt.ylabel(\"Loss\")\n",
        "\n",
        "plt.plot(losses)"
      ],
      "metadata": {
        "id": "zBGjEWq9jvfc",
        "outputId": "56d84d3f-02c4-4455-b2b3-15596cb592d6",
        "colab": {
          "base_uri": "https://localhost:8080/",
          "height": 490
        }
      },
      "execution_count": null,
      "outputs": [
        {
          "output_type": "execute_result",
          "data": {
            "text/plain": [
              "[<matplotlib.lines.Line2D at 0x7bc11c9349d0>]"
            ]
          },
          "metadata": {},
          "execution_count": 13
        },
        {
          "output_type": "display_data",
          "data": {
            "text/plain": [
              "<Figure size 640x480 with 1 Axes>"
            ],
            "image/png": "[encoded data removed]"
          },
          "metadata": {}
        }
      ]
    },
    {
      "cell_type": "markdown",
      "source": [
        "# Per-epoch LR graph"
      ],
      "metadata": {
        "id": "XLwoGObp8FTh"
      }
    },
    {
      "cell_type": "code",
      "source": [
        "plt.title(\"Learning Rate vs. Epoch\")\n",
        "plt.xlabel(\"Epoch\")\n",
        "plt.ylabel(\"Learning Rate\")\n",
        "\n",
        "plt.plot(lr)"
      ],
      "metadata": {
        "id": "0sY2oKf5hQLk",
        "outputId": "3506f40a-dd3f-4c25-a61a-af880d39db92",
        "colab": {
          "base_uri": "https://localhost:8080/",
          "height": 490
        }
      },
      "execution_count": null,
      "outputs": [
        {
          "output_type": "execute_result",
          "data": {
            "text/plain": [
              "[<matplotlib.lines.Line2D at 0x7bc1248369d0>]"
            ]
          },
          "metadata": {},
          "execution_count": 14
        },
        {
          "output_type": "display_data",
          "data": {
            "text/plain": [
              "<Figure size 640x480 with 1 Axes>"
            ],
            "image/png": "[encoded data removed]"
          },
          "metadata": {}
        }
      ]
    },
    {
      "cell_type": "markdown",
      "source": [
        "# Per-epoch Training vs Validation set accuracy graph"
      ],
      "metadata": {
        "id": "RoLXrw558Jqb"
      }
    },
    {
      "cell_type": "code",
      "source": [
        "plt.plot(train_acc, label=\"Train\")\n",
        "plt.plot(val_acc, label=\"Val\")\n",
        "\n",
        "plt.title(\"Accuracy vs. Epoch\")\n",
        "plt.xlabel(\"Epoch\")\n",
        "plt.ylabel(\"Accuracy\")\n",
        "\n",
        "\n",
        "plt.legend()"
      ],
      "metadata": {
        "id": "dxNbI5ZjhQf4",
        "outputId": "ad506f5d-2edf-4d8a-f824-c4a43438b46c",
        "colab": {
          "base_uri": "https://localhost:8080/",
          "height": 490
        }
      },
      "execution_count": null,
      "outputs": [
        {
          "output_type": "execute_result",
          "data": {
            "text/plain": [
              "<matplotlib.legend.Legend at 0x7bc124a4ca10>"
            ]
          },
          "metadata": {},
          "execution_count": 15
        },
        {
          "output_type": "display_data",
          "data": {
            "text/plain": [
              "<Figure size 640x480 with 1 Axes>"
            ],
            "image/png": "[encoded data removed]"
          },
          "metadata": {}
        }
      ]
    },
    {
      "cell_type": "markdown",
      "source": [
        "# Data table"
      ],
      "metadata": {
        "id": "Ksj2WZxx77k2"
      }
    },
    {
      "cell_type": "code",
      "source": [
        "df = pd.DataFrame(data)\n",
        "pd.set_option('display.max_colwidth', None)\n",
        "df.transpose()"
      ],
      "metadata": {
        "id": "4auqax8PhRm-",
        "outputId": "52fce087-2067-493c-a923-0e865691ed7c",
        "colab": {
          "base_uri": "https://localhost:8080/",
          "height": 811
        }
      },
      "execution_count": null,
      "outputs": [
        {
          "output_type": "execute_result",
          "data": {
            "text/plain": [
              "                                         0              1   \\\n",
              "Trial #                                   1              2   \n",
              "Image size                               32             32   \n",
              "Embedding dimension                     384            384   \n",
              "Number of heads                          12             12   \n",
              "Number of encoders                        8              8   \n",
              "Batch size                              128            128   \n",
              "Epochs                                   20             20   \n",
              "Patch size                                4              4   \n",
              "Optimizer                               SGD           Adam   \n",
              "Learning rate                         0.001          0.001   \n",
              "Normalization                            No             No   \n",
              "Loss function                 Cross entropy  Cross entropy   \n",
              "Dropout regularization value            NaN           0.15   \n",
              "Data Augmentation                      None           None   \n",
              "Scheduler                              None           None   \n",
              "Accuracy %                            23.24          23.24   \n",
              "\n",
              "                                                       2   \\\n",
              "Trial #                                                 3   \n",
              "Image size                                             32   \n",
              "Embedding dimension                                   384   \n",
              "Number of heads                                        12   \n",
              "Number of encoders                                      8   \n",
              "Batch size                                            128   \n",
              "Epochs                                                 50   \n",
              "Patch size                                              4   \n",
              "Optimizer                                             SGD   \n",
              "Learning rate                                         0.1   \n",
              "Normalization                                         Yes   \n",
              "Loss function                               Cross entropy   \n",
              "Dropout regularization value                         0.15   \n",
              "Data Augmentation             Jittering + horizontal flip   \n",
              "Scheduler                                            None   \n",
              "Accuracy %                                          33.36   \n",
              "\n",
              "                                                                     3   \\\n",
              "Trial #                                                               4   \n",
              "Image size                                                           32   \n",
              "Embedding dimension                                                 192   \n",
              "Number of heads                                                      12   \n",
              "Number of encoders                                                    8   \n",
              "Batch size                                                          128   \n",
              "Epochs                                                               30   \n",
              "Patch size                                                            4   \n",
              "Optimizer                                                         AdamW   \n",
              "Learning rate                                                    0.0003   \n",
              "Normalization                                                       Yes   \n",
              "Loss function                                             Cross entropy   \n",
              "Dropout regularization value                                       0.15   \n",
              "Data Augmentation             Jittering + random crop + horizontal flip   \n",
              "Scheduler                                           Cosine Annealing LR   \n",
              "Accuracy %                                                         10.0   \n",
              "\n",
              "                                                                     4   \\\n",
              "Trial #                                                               5   \n",
              "Image size                                                           32   \n",
              "Embedding dimension                                                 192   \n",
              "Number of heads                                                      12   \n",
              "Number of encoders                                                    8   \n",
              "Batch size                                                          128   \n",
              "Epochs                                                               30   \n",
              "Patch size                                                            8   \n",
              "Optimizer                                                         AdamW   \n",
              "Learning rate                                                    0.0003   \n",
              "Normalization                                                       Yes   \n",
              "Loss function                                             Cross entropy   \n",
              "Dropout regularization value                                       0.15   \n",
              "Data Augmentation             Jittering + random crop + horizontal flip   \n",
              "Scheduler                                           Cosine Annealing LR   \n",
              "Accuracy %                                                        37.53   \n",
              "\n",
              "                                                                     5   \\\n",
              "Trial #                                                               6   \n",
              "Image size                                                           32   \n",
              "Embedding dimension                                                 192   \n",
              "Number of heads                                                       8   \n",
              "Number of encoders                                                    8   \n",
              "Batch size                                                          128   \n",
              "Epochs                                                               30   \n",
              "Patch size                                                            4   \n",
              "Optimizer                                                         AdamW   \n",
              "Learning rate                                                    0.0003   \n",
              "Normalization                                                       Yes   \n",
              "Loss function                                             Cross entropy   \n",
              "Dropout regularization value                                       0.15   \n",
              "Data Augmentation             Jittering + random crop + horizontal flip   \n",
              "Scheduler                                           Cosine Annealing LR   \n",
              "Accuracy %                                                        70.49   \n",
              "\n",
              "                                                                     6   \\\n",
              "Trial #                                                               7   \n",
              "Image size                                                           32   \n",
              "Embedding dimension                                                 192   \n",
              "Number of heads                                                       8   \n",
              "Number of encoders                                                    6   \n",
              "Batch size                                                          128   \n",
              "Epochs                                                               30   \n",
              "Patch size                                                            4   \n",
              "Optimizer                                                         AdamW   \n",
              "Learning rate                               3e-4 with 1e-5 weight decay   \n",
              "Normalization                                                       Yes   \n",
              "Loss function                                             Cross entropy   \n",
              "Dropout regularization value                                        0.1   \n",
              "Data Augmentation             Jittering + random crop + horizontal flip   \n",
              "Scheduler                                           Cosine Annealing LR   \n",
              "Accuracy %                                                        71.44   \n",
              "\n",
              "                                                                                                       7   \\\n",
              "Trial #                                                                                                 8   \n",
              "Image size                                                                                             64   \n",
              "Embedding dimension                                                                                   252   \n",
              "Number of heads                                                                                        12   \n",
              "Number of encoders                                                                                      8   \n",
              "Batch size                                                                                            128   \n",
              "Epochs                                                                                                100   \n",
              "Patch size                                                                                              4   \n",
              "Optimizer                                                                                           AdamW   \n",
              "Learning rate                                                                0.003 with 0.05 weight decay   \n",
              "Normalization                                                                                         Yes   \n",
              "Loss function                                                          Cross entropy + soft cross entropy   \n",
              "Dropout regularization value                                                                         0.05   \n",
              "Data Augmentation             Jittering + random crop + horizontal flip + mild mixup starting at epoch 20   \n",
              "Scheduler                                                             Cosine Annealing LR + linear warmup   \n",
              "Accuracy %                                                                                          75.69   \n",
              "\n",
              "                                                                                                       8   \\\n",
              "Trial #                                                                                                 9   \n",
              "Image size                                                                                             64   \n",
              "Embedding dimension                                                                                   252   \n",
              "Number of heads                                                                                        12   \n",
              "Number of encoders                                                                                      8   \n",
              "Batch size                                                                                            128   \n",
              "Epochs                                                                                                100   \n",
              "Patch size                                                                                              4   \n",
              "Optimizer                                                                                           AdamW   \n",
              "Learning rate                                                                0.003 with 0.05 weight decay   \n",
              "Normalization                                                                                         Yes   \n",
              "Loss function                                                          Cross entropy + soft cross entropy   \n",
              "Dropout regularization value                                                                         0.05   \n",
              "Data Augmentation             Jittering + random crop + horizontal flip + mild mixup starting at epoch 20   \n",
              "Scheduler                                                             Cosine Annealing LR + linear warmup   \n",
              "Accuracy %                                                                                          83.07   \n",
              "\n",
              "                                                                                                       9   \\\n",
              "Trial #                                                                                                10   \n",
              "Image size                                                                                             64   \n",
              "Embedding dimension                                                                                   252   \n",
              "Number of heads                                                                                        12   \n",
              "Number of encoders                                                                                      8   \n",
              "Batch size                                                                                            512   \n",
              "Epochs                                                                                                100   \n",
              "Patch size                                                                                              4   \n",
              "Optimizer                                                                                           AdamW   \n",
              "Learning rate                                                                0.003 with 0.05 weight decay   \n",
              "Normalization                                                                                         Yes   \n",
              "Loss function                                                          Cross entropy + soft cross entropy   \n",
              "Dropout regularization value                                                                         0.05   \n",
              "Data Augmentation             Jittering + random crop + horizontal flip + mild mixup starting at epoch 10   \n",
              "Scheduler                                                             Cosine Annealing LR + linear warmup   \n",
              "Accuracy %                                                                                          84.21   \n",
              "\n",
              "                                                                                                                                          10  \n",
              "Trial #                                                                                                                                   11  \n",
              "Image size                                                                                                                                64  \n",
              "Embedding dimension                                                                                                                      252  \n",
              "Number of heads                                                                                                                           12  \n",
              "Number of encoders                                                                                                                        12  \n",
              "Batch size                                                                                                                               512  \n",
              "Epochs                                                                                                                                   100  \n",
              "Patch size                                                                                                                                 4  \n",
              "Optimizer                                                                                                                              AdamW  \n",
              "Learning rate                                                                                                   0.003 with 0.05 weight decay  \n",
              "Normalization                                                                                                                            Yes  \n",
              "Loss function                                                                                             Cross entropy + soft cross entropy  \n",
              "Dropout regularization value                                                                                                            0.05  \n",
              "Data Augmentation             Jittering + random crop + horizontal flip + mild mixup starting at epoch 10 + mild cutmix starting at epoch 20  \n",
              "Scheduler                                                 Custom scheduler implementation: Linear warmup + hold for 30 epochs + cosine decay  \n",
              "Accuracy %                                                                                                                             85.68  "
            ],
            "text/html": [
              "\n",
              "  <div id=\"df-5c216782-0e0d-44cf-82ae-283200e7dad0\" class=\"colab-df-container\">\n",
              "    <div>\n",
              "<style scoped>\n",
              "    .dataframe tbody tr th:only-of-type {\n",
              "        vertical-align: middle;\n",
              "    }\n",
              "\n",
              "    .dataframe tbody tr th {\n",
              "        vertical-align: top;\n",
              "    }\n",
              "\n",
              "    .dataframe thead th {\n",
              "        text-align: right;\n",
              "    }\n",
              "</style>\n",
              "<table border=\"1\" class=\"dataframe\">\n",
              "  <thead>\n",
              "    <tr style=\"text-align: right;\">\n",
              "      <th></th>\n",
              "      <th>0</th>\n",
              "      <th>1</th>\n",
              "      <th>2</th>\n",
              "      <th>3</th>\n",
              "      <th>4</th>\n",
              "      <th>5</th>\n",
              "      <th>6</th>\n",
              "      <th>7</th>\n",
              "      <th>8</th>\n",
              "      <th>9</th>\n",
              "      <th>10</th>\n",
              "    </tr>\n",
              "  </thead>\n",
              "  <tbody>\n",
              "    <tr>\n",
              "      <th>Trial #</th>\n",
              "      <td>1</td>\n",
              "      <td>2</td>\n",
              "      <td>3</td>\n",
              "      <td>4</td>\n",
              "      <td>5</td>\n",
              "      <td>6</td>\n",
              "      <td>7</td>\n",
              "      <td>8</td>\n",
              "      <td>9</td>\n",
              "      <td>10</td>\n",
              "      <td>11</td>\n",
              "    </tr>\n",
              "    <tr>\n",
              "      <th>Image size</th>\n",
              "      <td>32</td>\n",
              "      <td>32</td>\n",
              "      <td>32</td>\n",
              "      <td>32</td>\n",
              "      <td>32</td>\n",
              "      <td>32</td>\n",
              "      <td>32</td>\n",
              "      <td>64</td>\n",
              "      <td>64</td>\n",
              "      <td>64</td>\n",
              "      <td>64</td>\n",
              "    </tr>\n",
              "    <tr>\n",
              "      <th>Embedding dimension</th>\n",
              "      <td>384</td>\n",
              "      <td>384</td>\n",
              "      <td>384</td>\n",
              "      <td>192</td>\n",
              "      <td>192</td>\n",
              "      <td>192</td>\n",
              "      <td>192</td>\n",
              "      <td>252</td>\n",
              "      <td>252</td>\n",
              "      <td>252</td>\n",
              "      <td>252</td>\n",
              "    </tr>\n",
              "    <tr>\n",
              "      <th>Number of heads</th>\n",
              "      <td>12</td>\n",
              "      <td>12</td>\n",
              "      <td>12</td>\n",
              "      <td>12</td>\n",
              "      <td>12</td>\n",
              "      <td>8</td>\n",
              "      <td>8</td>\n",
              "      <td>12</td>\n",
              "      <td>12</td>\n",
              "      <td>12</td>\n",
              "      <td>12</td>\n",
              "    </tr>\n",
              "    <tr>\n",
              "      <th>Number of encoders</th>\n",
              "      <td>8</td>\n",
              "      <td>8</td>\n",
              "      <td>8</td>\n",
              "      <td>8</td>\n",
              "      <td>8</td>\n",
              "      <td>8</td>\n",
              "      <td>6</td>\n",
              "      <td>8</td>\n",
              "      <td>8</td>\n",
              "      <td>8</td>\n",
              "      <td>12</td>\n",
              "    </tr>\n",
              "    <tr>\n",
              "      <th>Batch size</th>\n",
              "      <td>128</td>\n",
              "      <td>128</td>\n",
              "      <td>128</td>\n",
              "      <td>128</td>\n",
              "      <td>128</td>\n",
              "      <td>128</td>\n",
              "      <td>128</td>\n",
              "      <td>128</td>\n",
              "      <td>128</td>\n",
              "      <td>512</td>\n",
              "      <td>512</td>\n",
              "    </tr>\n",
              "    <tr>\n",
              "      <th>Epochs</th>\n",
              "      <td>20</td>\n",
              "      <td>20</td>\n",
              "      <td>50</td>\n",
              "      <td>30</td>\n",
              "      <td>30</td>\n",
              "      <td>30</td>\n",
              "      <td>30</td>\n",
              "      <td>100</td>\n",
              "      <td>100</td>\n",
              "      <td>100</td>\n",
              "      <td>100</td>\n",
              "    </tr>\n",
              "    <tr>\n",
              "      <th>Patch size</th>\n",
              "      <td>4</td>\n",
              "      <td>4</td>\n",
              "      <td>4</td>\n",
              "      <td>4</td>\n",
              "      <td>8</td>\n",
              "      <td>4</td>\n",
              "      <td>4</td>\n",
              "      <td>4</td>\n",
              "      <td>4</td>\n",
              "      <td>4</td>\n",
              "      <td>4</td>\n",
              "    </tr>\n",
              "    <tr>\n",
              "      <th>Optimizer</th>\n",
              "      <td>SGD</td>\n",
              "      <td>Adam</td>\n",
              "      <td>SGD</td>\n",
              "      <td>AdamW</td>\n",
              "      <td>AdamW</td>\n",
              "      <td>AdamW</td>\n",
              "      <td>AdamW</td>\n",
              "      <td>AdamW</td>\n",
              "      <td>AdamW</td>\n",
              "      <td>AdamW</td>\n",
              "      <td>AdamW</td>\n",
              "    </tr>\n",
              "    <tr>\n",
              "      <th>Learning rate</th>\n",
              "      <td>0.001</td>\n",
              "      <td>0.001</td>\n",
              "      <td>0.1</td>\n",
              "      <td>0.0003</td>\n",
              "      <td>0.0003</td>\n",
              "      <td>0.0003</td>\n",
              "      <td>3e-4 with 1e-5 weight decay</td>\n",
              "      <td>0.003 with 0.05 weight decay</td>\n",
              "      <td>0.003 with 0.05 weight decay</td>\n",
              "      <td>0.003 with 0.05 weight decay</td>\n",
              "      <td>0.003 with 0.05 weight decay</td>\n",
              "    </tr>\n",
              "    <tr>\n",
              "      <th>Normalization</th>\n",
              "      <td>No</td>\n",
              "      <td>No</td>\n",
              "      <td>Yes</td>\n",
              "      <td>Yes</td>\n",
              "      <td>Yes</td>\n",
              "      <td>Yes</td>\n",
              "      <td>Yes</td>\n",
              "      <td>Yes</td>\n",
              "      <td>Yes</td>\n",
              "      <td>Yes</td>\n",
              "      <td>Yes</td>\n",
              "    </tr>\n",
              "    <tr>\n",
              "      <th>Loss function</th>\n",
              "      <td>Cross entropy</td>\n",
              "      <td>Cross entropy</td>\n",
              "      <td>Cross entropy</td>\n",
              "      <td>Cross entropy</td>\n",
              "      <td>Cross entropy</td>\n",
              "      <td>Cross entropy</td>\n",
              "      <td>Cross entropy</td>\n",
              "      <td>Cross entropy + soft cross entropy</td>\n",
              "      <td>Cross entropy + soft cross entropy</td>\n",
              "      <td>Cross entropy + soft cross entropy</td>\n",
              "      <td>Cross entropy + soft cross entropy</td>\n",
              "    </tr>\n",
              "    <tr>\n",
              "      <th>Dropout regularization value</th>\n",
              "      <td>NaN</td>\n",
              "      <td>0.15</td>\n",
              "      <td>0.15</td>\n",
              "      <td>0.15</td>\n",
              "      <td>0.15</td>\n",
              "      <td>0.15</td>\n",
              "      <td>0.1</td>\n",
              "      <td>0.05</td>\n",
              "      <td>0.05</td>\n",
              "      <td>0.05</td>\n",
              "      <td>0.05</td>\n",
              "    </tr>\n",
              "    <tr>\n",
              "      <th>Data Augmentation</th>\n",
              "      <td>None</td>\n",
              "      <td>None</td>\n",
              "      <td>Jittering + horizontal flip</td>\n",
              "      <td>Jittering + random crop + horizontal flip</td>\n",
              "      <td>Jittering + random crop + horizontal flip</td>\n",
              "      <td>Jittering + random crop + horizontal flip</td>\n",
              "      <td>Jittering + random crop + horizontal flip</td>\n",
              "      <td>Jittering + random crop + horizontal flip + mild mixup starting at epoch 20</td>\n",
              "      <td>Jittering + random crop + horizontal flip + mild mixup starting at epoch 20</td>\n",
              "      <td>Jittering + random crop + horizontal flip + mild mixup starting at epoch 10</td>\n",
              "      <td>Jittering + random crop + horizontal flip + mild mixup starting at epoch 10 + mild cutmix starting at epoch 20</td>\n",
              "    </tr>\n",
              "    <tr>\n",
              "      <th>Scheduler</th>\n",
              "      <td>None</td>\n",
              "      <td>None</td>\n",
              "      <td>None</td>\n",
              "      <td>Cosine Annealing LR</td>\n",
              "      <td>Cosine Annealing LR</td>\n",
              "      <td>Cosine Annealing LR</td>\n",
              "      <td>Cosine Annealing LR</td>\n",
              "      <td>Cosine Annealing LR + linear warmup</td>\n",
              "      <td>Cosine Annealing LR + linear warmup</td>\n",
              "      <td>Cosine Annealing LR + linear warmup</td>\n",
              "      <td>Custom scheduler implementation: Linear warmup + hold for 30 epochs + cosine decay</td>\n",
              "    </tr>\n",
              "    <tr>\n",
              "      <th>Accuracy %</th>\n",
              "      <td>23.24</td>\n",
              "      <td>23.24</td>\n",
              "      <td>33.36</td>\n",
              "      <td>10.0</td>\n",
              "      <td>37.53</td>\n",
              "      <td>70.49</td>\n",
              "      <td>71.44</td>\n",
              "      <td>75.69</td>\n",
              "      <td>83.07</td>\n",
              "      <td>84.21</td>\n",
              "      <td>85.68</td>\n",
              "    </tr>\n",
              "  </tbody>\n",
              "</table>\n",
              "</div>\n",
              "    <div class=\"colab-df-buttons\">\n",
              "\n",
              "  <div class=\"colab-df-container\">\n",
              "    <button class=\"colab-df-convert\" onclick=\"convertToInteractive('df-5c216782-0e0d-44cf-82ae-283200e7dad0')\"\n",
              "            title=\"Convert this dataframe to an interactive table.\"\n",
              "            style=\"display:none;\">\n",
              "\n",
              "  <svg xmlns=\"http://www.w3.org/2000/svg\" height=\"24px\" viewBox=\"0 -960 960 960\">\n",
              "    <path d=\"M120-120v-720h720v720H120Zm60-500h600v-160H180v160Zm220 220h160v-160H400v160Zm0 220h160v-160H400v160ZM180-400h160v-160H180v160Zm440 0h160v-160H620v160ZM180-180h160v-160H180v160Zm440 0h160v-160H620v160Z\"/>\n",
              "  </svg>\n",
              "    </button>\n",
              "\n",
              "  <style>\n",
              "    .colab-df-container {\n",
              "      display:flex;\n",
              "      gap: 12px;\n",
              "    }\n",
              "\n",
              "    .colab-df-convert {\n",
              "      background-color: #E8F0FE;\n",
              "      border: none;\n",
              "      border-radius: 50%;\n",
              "      cursor: pointer;\n",
              "      display: none;\n",
              "      fill: #1967D2;\n",
              "      height: 32px;\n",
              "      padding: 0 0 0 0;\n",
              "      width: 32px;\n",
              "    }\n",
              "\n",
              "    .colab-df-convert:hover {\n",
              "      background-color: #E2EBFA;\n",
              "      box-shadow: 0px 1px 2px rgba(60, 64, 67, 0.3), 0px 1px 3px 1px rgba(60, 64, 67, 0.15);\n",
              "      fill: #174EA6;\n",
              "    }\n",
              "\n",
              "    .colab-df-buttons div {\n",
              "      margin-bottom: 4px;\n",
              "    }\n",
              "\n",
              "    [theme=dark] .colab-df-convert {\n",
              "      background-color: #3B4455;\n",
              "      fill: #D2E3FC;\n",
              "    }\n",
              "\n",
              "    [theme=dark] .colab-df-convert:hover {\n",
              "      background-color: #434B5C;\n",
              "      box-shadow: 0px 1px 3px 1px rgba(0, 0, 0, 0.15);\n",
              "      filter: drop-shadow(0px 1px 2px rgba(0, 0, 0, 0.3));\n",
              "      fill: #FFFFFF;\n",
              "    }\n",
              "  </style>\n",
              "\n",
              "    <script>\n",
              "      const buttonEl =\n",
              "        document.querySelector('#df-5c216782-0e0d-44cf-82ae-283200e7dad0 button.colab-df-convert');\n",
              "      buttonEl.style.display =\n",
              "        google.colab.kernel.accessAllowed ? 'block' : 'none';\n",
              "\n",
              "      async function convertToInteractive(key) {\n",
              "        const element = document.querySelector('#df-5c216782-0e0d-44cf-82ae-283200e7dad0');\n",
              "        const dataTable =\n",
              "          await google.colab.kernel.invokeFunction('convertToInteractive',\n",
              "                                                    [key], {});\n",
              "        if (!dataTable) return;\n",
              "\n",
              "        const docLinkHtml = 'Like what you see? Visit the ' +\n",
              "          '<a target=\"_blank\" href=https://colab.research.google.com/notebooks/data_table.ipynb>data table notebook</a>'\n",
              "          + ' to learn more about interactive tables.';\n",
              "        element.innerHTML = '';\n",
              "        dataTable['output_type'] = 'display_data';\n",
              "        await google.colab.output.renderOutput(dataTable, element);\n",
              "        const docLink = document.createElement('div');\n",
              "        docLink.innerHTML = docLinkHtml;\n",
              "        element.appendChild(docLink);\n",
              "      }\n",
              "    </script>\n",
              "  </div>\n",
              "\n",
              "\n",
              "    <div id=\"df-b916419e-ea41-4da2-a4cb-db6c9d4c4c1b\">\n",
              "      <button class=\"colab-df-quickchart\" onclick=\"quickchart('df-b916419e-ea41-4da2-a4cb-db6c9d4c4c1b')\"\n",
              "                title=\"Suggest charts\"\n",
              "                style=\"display:none;\">\n",
              "\n",
              "<svg xmlns=\"http://www.w3.org/2000/svg\" height=\"24px\"viewBox=\"0 0 24 24\"\n",
              "     width=\"24px\">\n",
              "    <g>\n",
              "        <path d=\"M19 3H5c-1.1 0-2 .9-2 2v14c0 1.1.9 2 2 2h14c1.1 0 2-.9 2-2V5c0-1.1-.9-2-2-2zM9 17H7v-7h2v7zm4 0h-2V7h2v10zm4 0h-2v-4h2v4z\"/>\n",
              "    </g>\n",
              "</svg>\n",
              "      </button>\n",
              "\n",
              "<style>\n",
              "  .colab-df-quickchart {\n",
              "      --bg-color: #E8F0FE;\n",
              "      --fill-color: #1967D2;\n",
              "      --hover-bg-color: #E2EBFA;\n",
              "      --hover-fill-color: #174EA6;\n",
              "      --disabled-fill-color: #AAA;\n",
              "      --disabled-bg-color: #DDD;\n",
              "  }\n",
              "\n",
              "  [theme=dark] .colab-df-quickchart {\n",
              "      --bg-color: #3B4455;\n",
              "      --fill-color: #D2E3FC;\n",
              "      --hover-bg-color: #434B5C;\n",
              "      --hover-fill-color: #FFFFFF;\n",
              "      --disabled-bg-color: #3B4455;\n",
              "      --disabled-fill-color: #666;\n",
              "  }\n",
              "\n",
              "  .colab-df-quickchart {\n",
              "    background-color: var(--bg-color);\n",
              "    border: none;\n",
              "    border-radius: 50%;\n",
              "    cursor: pointer;\n",
              "    display: none;\n",
              "    fill: var(--fill-color);\n",
              "    height: 32px;\n",
              "    padding: 0;\n",
              "    width: 32px;\n",
              "  }\n",
              "\n",
              "  .colab-df-quickchart:hover {\n",
              "    background-color: var(--hover-bg-color);\n",
              "    box-shadow: 0 1px 2px rgba(60, 64, 67, 0.3), 0 1px 3px 1px rgba(60, 64, 67, 0.15);\n",
              "    fill: var(--button-hover-fill-color);\n",
              "  }\n",
              "\n",
              "  .colab-df-quickchart-complete:disabled,\n",
              "  .colab-df-quickchart-complete:disabled:hover {\n",
              "    background-color: var(--disabled-bg-color);\n",
              "    fill: var(--disabled-fill-color);\n",
              "    box-shadow: none;\n",
              "  }\n",
              "\n",
              "  .colab-df-spinner {\n",
              "    border: 2px solid var(--fill-color);\n",
              "    border-color: transparent;\n",
              "    border-bottom-color: var(--fill-color);\n",
              "    animation:\n",
              "      spin 1s steps(1) infinite;\n",
              "  }\n",
              "\n",
              "  @keyframes spin {\n",
              "    0% {\n",
              "      border-color: transparent;\n",
              "      border-bottom-color: var(--fill-color);\n",
              "      border-left-color: var(--fill-color);\n",
              "    }\n",
              "    20% {\n",
              "      border-color: transparent;\n",
              "      border-left-color: var(--fill-color);\n",
              "      border-top-color: var(--fill-color);\n",
              "    }\n",
              "    30% {\n",
              "      border-color: transparent;\n",
              "      border-left-color: var(--fill-color);\n",
              "      border-top-color: var(--fill-color);\n",
              "      border-right-color: var(--fill-color);\n",
              "    }\n",
              "    40% {\n",
              "      border-color: transparent;\n",
              "      border-right-color: var(--fill-color);\n",
              "      border-top-color: var(--fill-color);\n",
              "    }\n",
              "    60% {\n",
              "      border-color: transparent;\n",
              "      border-right-color: var(--fill-color);\n",
              "    }\n",
              "    80% {\n",
              "      border-color: transparent;\n",
              "      border-right-color: var(--fill-color);\n",
              "      border-bottom-color: var(--fill-color);\n",
              "    }\n",
              "    90% {\n",
              "      border-color: transparent;\n",
              "      border-bottom-color: var(--fill-color);\n",
              "    }\n",
              "  }\n",
              "</style>\n",
              "\n",
              "      <script>\n",
              "        async function quickchart(key) {\n",
              "          const quickchartButtonEl =\n",
              "            document.querySelector('#' + key + ' button');\n",
              "          quickchartButtonEl.disabled = true;  // To prevent multiple clicks.\n",
              "          quickchartButtonEl.classList.add('colab-df-spinner');\n",
              "          try {\n",
              "            const charts = await google.colab.kernel.invokeFunction(\n",
              "                'suggestCharts', [key], {});\n",
              "          } catch (error) {\n",
              "            console.error('Error during call to suggestCharts:', error);\n",
              "          }\n",
              "          quickchartButtonEl.classList.remove('colab-df-spinner');\n",
              "          quickchartButtonEl.classList.add('colab-df-quickchart-complete');\n",
              "        }\n",
              "        (() => {\n",
              "          let quickchartButtonEl =\n",
              "            document.querySelector('#df-b916419e-ea41-4da2-a4cb-db6c9d4c4c1b button');\n",
              "          quickchartButtonEl.style.display =\n",
              "            google.colab.kernel.accessAllowed ? 'block' : 'none';\n",
              "        })();\n",
              "      </script>\n",
              "    </div>\n",
              "\n",
              "    </div>\n",
              "  </div>\n"
            ],
            "application/vnd.google.colaboratory.intrinsic+json": {
              "type": "dataframe",
              "summary": "{\n  \"name\": \"df\",\n  \"rows\": 16,\n  \"fields\": [\n    {\n      \"column\": 0,\n      \"properties\": {\n        \"dtype\": \"string\",\n        \"num_unique_values\": 13,\n        \"samples\": [\n          \"Cross entropy\",\n          0.001,\n          1\n        ],\n        \"semantic_type\": \"\",\n        \"description\": \"\"\n      }\n    },\n    {\n      \"column\": 1,\n      \"properties\": {\n        \"dtype\": \"string\",\n        \"num_unique_values\": 14,\n        \"samples\": [\n          0.001,\n          \"Cross entropy\",\n          2\n        ],\n        \"semantic_type\": \"\",\n        \"description\": \"\"\n      }\n    },\n    {\n      \"column\": 2,\n      \"properties\": {\n        \"dtype\": \"string\",\n        \"num_unique_values\": 15,\n        \"samples\": [\n          0.1,\n          \"Cross entropy\",\n          3\n        ],\n        \"semantic_type\": \"\",\n        \"description\": \"\"\n      }\n    },\n    {\n      \"column\": 3,\n      \"properties\": {\n        \"dtype\": \"string\",\n        \"num_unique_values\": 15,\n        \"samples\": [\n          \"Yes\",\n          0.15,\n          4\n        ],\n        \"semantic_type\": \"\",\n        \"description\": \"\"\n      }\n    },\n    {\n      \"column\": 4,\n      \"properties\": {\n        \"dtype\": \"string\",\n        \"num_unique_values\": 15,\n        \"samples\": [\n          \"Yes\",\n          0.15,\n          5\n        ],\n        \"semantic_type\": \"\",\n        \"description\": \"\"\n      }\n    },\n    {\n      \"column\": 5,\n      \"properties\": {\n        \"dtype\": \"string\",\n        \"num_unique_values\": 15,\n        \"samples\": [\n          \"Yes\",\n          0.15,\n          6\n        ],\n        \"semantic_type\": \"\",\n        \"description\": \"\"\n      }\n    },\n    {\n      \"column\": 6,\n      \"properties\": {\n        \"dtype\": \"string\",\n        \"num_unique_values\": 16,\n        \"samples\": [\n          7,\n          32,\n          128\n        ],\n        \"semantic_type\": \"\",\n        \"description\": \"\"\n      }\n    },\n    {\n      \"column\": 7,\n      \"properties\": {\n        \"dtype\": \"string\",\n        \"num_unique_values\": 15,\n        \"samples\": [\n          \"Yes\",\n          0.05,\n          8\n        ],\n        \"semantic_type\": \"\",\n        \"description\": \"\"\n      }\n    },\n    {\n      \"column\": 8,\n      \"properties\": {\n        \"dtype\": \"string\",\n        \"num_unique_values\": 16,\n        \"samples\": [\n          9,\n          64,\n          128\n        ],\n        \"semantic_type\": \"\",\n        \"description\": \"\"\n      }\n    },\n    {\n      \"column\": 9,\n      \"properties\": {\n        \"dtype\": \"string\",\n        \"num_unique_values\": 16,\n        \"samples\": [\n          10,\n          64,\n          512\n        ],\n        \"semantic_type\": \"\",\n        \"description\": \"\"\n      }\n    },\n    {\n      \"column\": 10,\n      \"properties\": {\n        \"dtype\": \"string\",\n        \"num_unique_values\": 15,\n        \"samples\": [\n          \"Yes\",\n          0.05,\n          11\n        ],\n        \"semantic_type\": \"\",\n        \"description\": \"\"\n      }\n    }\n  ]\n}"
            }
          },
          "metadata": {},
          "execution_count": 16
        }
      ]
    },
    {
      "cell_type": "markdown",
      "source": [
        "## 📊 Final Results\n",
        "\n",
        "- **Dataset**: CIFAR-10\n",
        "- **Model**: Vision Transformer (ViT)\n",
        "- **Paper**: [An Image is Worth 16x16 Words (Dosovitskiy et al.)](https://arxiv.org/abs/2010.11929)\n",
        "- **Training Epochs**: 100\n",
        "- **Batch Size**: 512  \n",
        "- **Optimizer**: AdamW  \n",
        "- **Accelerator**: NVIDIA A100 GPU\n",
        "- **Learning Rate**: 0.003 with 0.05 weight decay\n",
        "- **Train Accuracy**: 87.2%\n",
        "- **Test Accuracy**: 85.9%\n",
        "\n"
      ],
      "metadata": {
        "id": "BLiDkRjv7cj6"
      }
    },
    {
      "cell_type": "markdown",
      "source": [
        "# Load pre-trained model and evaluate on CIFAR-10\n",
        "\n"
      ],
      "metadata": {
        "id": "x8BxupjInIp3"
      }
    },
    {
      "cell_type": "code",
      "source": [
        "model = VisionTransformer(\n",
        "    batches=params['batchsize'], in_channels=params['channels'],\n",
        "    patch_size=params['patchsize'], embed_dim=params['embeddim'],\n",
        "    heads=params['numheads'], depth=params['encoders'], size=params['imsize'],\n",
        "    num_classes=params['numclasses']\n",
        "  )\n",
        "\n",
        "\n",
        "url = \"https://huggingface.co/vjhawar12/vit-cifar10/resolve/main/vit_cifar10.pth\"\n",
        "device = torch.device(\"cuda\" if torch.cuda.is_available() else \"cpu\")\n",
        "model.to(device)\n",
        "state_dict = torch.hub.load_state_dict_from_url(url, map_location=device)\n",
        "state_dict = {k.replace('_orig_mod.', ''): v for k, v in state_dict.items()}\n",
        "model.load_state_dict(state_dict)\n",
        "model.eval()"
      ],
      "metadata": {
        "id": "r7DelB0knZCU",
        "collapsed": true
      },
      "execution_count": null,
      "outputs": []
    },
    {
      "cell_type": "code",
      "source": [
        "train_transform, test_transform = get_transforms()\n",
        "train_data = get_training_data(train_transform)\n",
        "test_data = get_test_data(test_transform)\n",
        "\n",
        "train_transform, test_dataloader = get_dataloaders(train_data, test_data, params['batchsize'])\n",
        "\n",
        "correct, total = test(model, test_dataloader, device)\n",
        "accuracy = correct / total\n",
        "\n",
        "print(f\"Accuracy: {accuracy}\")\n"
      ],
      "metadata": {
        "id": "4qbSBEb7p_fJ",
        "outputId": "59d67556-d02a-4056-983c-8b8028b45366",
        "colab": {
          "base_uri": "https://localhost:8080/"
        }
      },
      "execution_count": null,
      "outputs": [
        {
          "output_type": "stream",
          "name": "stderr",
          "text": [
            "100%|██████████| 170M/170M [00:01<00:00, 86.2MB/s]\n"
          ]
        },
        {
          "output_type": "stream",
          "name": "stdout",
          "text": [
            "Accuracy: 0.8588\n"
          ]
        }
      ]
    }
  ],
  "metadata": {
    "colab": {
      "provenance": [],
      "gpuType": "A100",
      "include_colab_link": true
    },
    "kernelspec": {
      "display_name": "Python 3",
      "name": "python3"
    },
    "language_info": {
      "name": "python"
    },
    "accelerator": "GPU"
  },
  "nbformat": 4,
  "nbformat_minor": 0
}