{
  "cells": [
    {
      "cell_type": "markdown",
      "metadata": {
        "id": "view-in-github",
        "colab_type": "text"
      },
      "source": [
        "<a href=\"https://colab.research.google.com/github/vjhawar12/Vision-Transformer-paper-implementation/blob/main/ViT_From_Scratch.ipynb\" target=\"_parent\"><img src=\"https://colab.research.google.com/assets/colab-badge.svg\" alt=\"Open In Colab\"/></a>"
      ]
    },
    {
      "cell_type": "code",
      "source": [
        "! pip install lightning-bolts"
      ],
      "metadata": {
        "id": "eZvA46AlIhO1",
        "outputId": "a47d1bbd-ae74-432b-d193-cc4412a89483",
        "colab": {
          "base_uri": "https://localhost:8080/"
        }
      },
      "execution_count": 2,
      "outputs": [
        {
          "output_type": "stream",
          "name": "stdout",
          "text": [
            "Collecting lightning-bolts\n",
            "  Downloading lightning_bolts-0.7.0-py3-none-any.whl.metadata (9.5 kB)\n",
            "Requirement already satisfied: numpy in /usr/local/lib/python3.11/dist-packages (from lightning-bolts) (2.0.2)\n",
            "Collecting pytorch-lightning<2.0.0,>1.7.0 (from lightning-bolts)\n",
            "  Downloading pytorch_lightning-1.9.5-py3-none-any.whl.metadata (23 kB)\n",
            "Collecting torchmetrics (from lightning-bolts)\n",
            "  Downloading torchmetrics-1.7.4-py3-none-any.whl.metadata (21 kB)\n",
            "Collecting lightning-utilities>0.3.1 (from lightning-bolts)\n",
            "  Downloading lightning_utilities-0.14.3-py3-none-any.whl.metadata (5.6 kB)\n",
            "Requirement already satisfied: torchvision>=0.10.0 in /usr/local/lib/python3.11/dist-packages (from lightning-bolts) (0.21.0+cu124)\n",
            "Requirement already satisfied: tensorboard>=2.9.1 in /usr/local/lib/python3.11/dist-packages (from lightning-bolts) (2.18.0)\n",
            "Requirement already satisfied: packaging>=17.1 in /usr/local/lib/python3.11/dist-packages (from lightning-utilities>0.3.1->lightning-bolts) (24.2)\n",
            "Requirement already satisfied: setuptools in /usr/local/lib/python3.11/dist-packages (from lightning-utilities>0.3.1->lightning-bolts) (75.2.0)\n",
            "Requirement already satisfied: typing_extensions in /usr/local/lib/python3.11/dist-packages (from lightning-utilities>0.3.1->lightning-bolts) (4.14.1)\n",
            "Requirement already satisfied: torch>=1.10.0 in /usr/local/lib/python3.11/dist-packages (from pytorch-lightning<2.0.0,>1.7.0->lightning-bolts) (2.6.0+cu124)\n",
            "Requirement already satisfied: tqdm>=4.57.0 in /usr/local/lib/python3.11/dist-packages (from pytorch-lightning<2.0.0,>1.7.0->lightning-bolts) (4.67.1)\n",
            "Requirement already satisfied: PyYAML>=5.4 in /usr/local/lib/python3.11/dist-packages (from pytorch-lightning<2.0.0,>1.7.0->lightning-bolts) (6.0.2)\n",
            "Requirement already satisfied: fsspec>2021.06.0 in /usr/local/lib/python3.11/dist-packages (from fsspec[http]>2021.06.0->pytorch-lightning<2.0.0,>1.7.0->lightning-bolts) (2025.3.2)\n",
            "Requirement already satisfied: absl-py>=0.4 in /usr/local/lib/python3.11/dist-packages (from tensorboard>=2.9.1->lightning-bolts) (1.4.0)\n",
            "Requirement already satisfied: grpcio>=1.48.2 in /usr/local/lib/python3.11/dist-packages (from tensorboard>=2.9.1->lightning-bolts) (1.73.1)\n",
            "Requirement already satisfied: markdown>=2.6.8 in /usr/local/lib/python3.11/dist-packages (from tensorboard>=2.9.1->lightning-bolts) (3.8.2)\n",
            "Requirement already satisfied: protobuf!=4.24.0,>=3.19.6 in /usr/local/lib/python3.11/dist-packages (from tensorboard>=2.9.1->lightning-bolts) (5.29.5)\n",
            "Requirement already satisfied: six>1.9 in /usr/local/lib/python3.11/dist-packages (from tensorboard>=2.9.1->lightning-bolts) (1.17.0)\n",
            "Requirement already satisfied: tensorboard-data-server<0.8.0,>=0.7.0 in /usr/local/lib/python3.11/dist-packages (from tensorboard>=2.9.1->lightning-bolts) (0.7.2)\n",
            "Requirement already satisfied: werkzeug>=1.0.1 in /usr/local/lib/python3.11/dist-packages (from tensorboard>=2.9.1->lightning-bolts) (3.1.3)\n",
            "Requirement already satisfied: pillow!=8.3.*,>=5.3.0 in /usr/local/lib/python3.11/dist-packages (from torchvision>=0.10.0->lightning-bolts) (11.2.1)\n",
            "Requirement already satisfied: filelock in /usr/local/lib/python3.11/dist-packages (from torch>=1.10.0->pytorch-lightning<2.0.0,>1.7.0->lightning-bolts) (3.18.0)\n",
            "Requirement already satisfied: networkx in /usr/local/lib/python3.11/dist-packages (from torch>=1.10.0->pytorch-lightning<2.0.0,>1.7.0->lightning-bolts) (3.5)\n",
            "Requirement already satisfied: jinja2 in /usr/local/lib/python3.11/dist-packages (from torch>=1.10.0->pytorch-lightning<2.0.0,>1.7.0->lightning-bolts) (3.1.6)\n",
            "Collecting nvidia-cuda-nvrtc-cu12==12.4.127 (from torch>=1.10.0->pytorch-lightning<2.0.0,>1.7.0->lightning-bolts)\n",
            "  Downloading nvidia_cuda_nvrtc_cu12-12.4.127-py3-none-manylinux2014_x86_64.whl.metadata (1.5 kB)\n",
            "Collecting nvidia-cuda-runtime-cu12==12.4.127 (from torch>=1.10.0->pytorch-lightning<2.0.0,>1.7.0->lightning-bolts)\n",
            "  Downloading nvidia_cuda_runtime_cu12-12.4.127-py3-none-manylinux2014_x86_64.whl.metadata (1.5 kB)\n",
            "Collecting nvidia-cuda-cupti-cu12==12.4.127 (from torch>=1.10.0->pytorch-lightning<2.0.0,>1.7.0->lightning-bolts)\n",
            "  Downloading nvidia_cuda_cupti_cu12-12.4.127-py3-none-manylinux2014_x86_64.whl.metadata (1.6 kB)\n",
            "Collecting nvidia-cudnn-cu12==9.1.0.70 (from torch>=1.10.0->pytorch-lightning<2.0.0,>1.7.0->lightning-bolts)\n",
            "  Downloading nvidia_cudnn_cu12-9.1.0.70-py3-none-manylinux2014_x86_64.whl.metadata (1.6 kB)\n",
            "Collecting nvidia-cublas-cu12==12.4.5.8 (from torch>=1.10.0->pytorch-lightning<2.0.0,>1.7.0->lightning-bolts)\n",
            "  Downloading nvidia_cublas_cu12-12.4.5.8-py3-none-manylinux2014_x86_64.whl.metadata (1.5 kB)\n",
            "Collecting nvidia-cufft-cu12==11.2.1.3 (from torch>=1.10.0->pytorch-lightning<2.0.0,>1.7.0->lightning-bolts)\n",
            "  Downloading nvidia_cufft_cu12-11.2.1.3-py3-none-manylinux2014_x86_64.whl.metadata (1.5 kB)\n",
            "Collecting nvidia-curand-cu12==10.3.5.147 (from torch>=1.10.0->pytorch-lightning<2.0.0,>1.7.0->lightning-bolts)\n",
            "  Downloading nvidia_curand_cu12-10.3.5.147-py3-none-manylinux2014_x86_64.whl.metadata (1.5 kB)\n",
            "Collecting nvidia-cusolver-cu12==11.6.1.9 (from torch>=1.10.0->pytorch-lightning<2.0.0,>1.7.0->lightning-bolts)\n",
            "  Downloading nvidia_cusolver_cu12-11.6.1.9-py3-none-manylinux2014_x86_64.whl.metadata (1.6 kB)\n",
            "Collecting nvidia-cusparse-cu12==12.3.1.170 (from torch>=1.10.0->pytorch-lightning<2.0.0,>1.7.0->lightning-bolts)\n",
            "  Downloading nvidia_cusparse_cu12-12.3.1.170-py3-none-manylinux2014_x86_64.whl.metadata (1.6 kB)\n",
            "Requirement already satisfied: nvidia-cusparselt-cu12==0.6.2 in /usr/local/lib/python3.11/dist-packages (from torch>=1.10.0->pytorch-lightning<2.0.0,>1.7.0->lightning-bolts) (0.6.2)\n",
            "Requirement already satisfied: nvidia-nccl-cu12==2.21.5 in /usr/local/lib/python3.11/dist-packages (from torch>=1.10.0->pytorch-lightning<2.0.0,>1.7.0->lightning-bolts) (2.21.5)\n",
            "Requirement already satisfied: nvidia-nvtx-cu12==12.4.127 in /usr/local/lib/python3.11/dist-packages (from torch>=1.10.0->pytorch-lightning<2.0.0,>1.7.0->lightning-bolts) (12.4.127)\n",
            "Collecting nvidia-nvjitlink-cu12==12.4.127 (from torch>=1.10.0->pytorch-lightning<2.0.0,>1.7.0->lightning-bolts)\n",
            "  Downloading nvidia_nvjitlink_cu12-12.4.127-py3-none-manylinux2014_x86_64.whl.metadata (1.5 kB)\n",
            "Requirement already satisfied: triton==3.2.0 in /usr/local/lib/python3.11/dist-packages (from torch>=1.10.0->pytorch-lightning<2.0.0,>1.7.0->lightning-bolts) (3.2.0)\n",
            "Requirement already satisfied: sympy==1.13.1 in /usr/local/lib/python3.11/dist-packages (from torch>=1.10.0->pytorch-lightning<2.0.0,>1.7.0->lightning-bolts) (1.13.1)\n",
            "Requirement already satisfied: mpmath<1.4,>=1.1.0 in /usr/local/lib/python3.11/dist-packages (from sympy==1.13.1->torch>=1.10.0->pytorch-lightning<2.0.0,>1.7.0->lightning-bolts) (1.3.0)\n",
            "Requirement already satisfied: aiohttp!=4.0.0a0,!=4.0.0a1 in /usr/local/lib/python3.11/dist-packages (from fsspec[http]>2021.06.0->pytorch-lightning<2.0.0,>1.7.0->lightning-bolts) (3.11.15)\n",
            "Requirement already satisfied: MarkupSafe>=2.1.1 in /usr/local/lib/python3.11/dist-packages (from werkzeug>=1.0.1->tensorboard>=2.9.1->lightning-bolts) (3.0.2)\n",
            "Requirement already satisfied: aiohappyeyeballs>=2.3.0 in /usr/local/lib/python3.11/dist-packages (from aiohttp!=4.0.0a0,!=4.0.0a1->fsspec[http]>2021.06.0->pytorch-lightning<2.0.0,>1.7.0->lightning-bolts) (2.6.1)\n",
            "Requirement already satisfied: aiosignal>=1.1.2 in /usr/local/lib/python3.11/dist-packages (from aiohttp!=4.0.0a0,!=4.0.0a1->fsspec[http]>2021.06.0->pytorch-lightning<2.0.0,>1.7.0->lightning-bolts) (1.4.0)\n",
            "Requirement already satisfied: attrs>=17.3.0 in /usr/local/lib/python3.11/dist-packages (from aiohttp!=4.0.0a0,!=4.0.0a1->fsspec[http]>2021.06.0->pytorch-lightning<2.0.0,>1.7.0->lightning-bolts) (25.3.0)\n",
            "Requirement already satisfied: frozenlist>=1.1.1 in /usr/local/lib/python3.11/dist-packages (from aiohttp!=4.0.0a0,!=4.0.0a1->fsspec[http]>2021.06.0->pytorch-lightning<2.0.0,>1.7.0->lightning-bolts) (1.7.0)\n",
            "Requirement already satisfied: multidict<7.0,>=4.5 in /usr/local/lib/python3.11/dist-packages (from aiohttp!=4.0.0a0,!=4.0.0a1->fsspec[http]>2021.06.0->pytorch-lightning<2.0.0,>1.7.0->lightning-bolts) (6.6.3)\n",
            "Requirement already satisfied: propcache>=0.2.0 in /usr/local/lib/python3.11/dist-packages (from aiohttp!=4.0.0a0,!=4.0.0a1->fsspec[http]>2021.06.0->pytorch-lightning<2.0.0,>1.7.0->lightning-bolts) (0.3.2)\n",
            "Requirement already satisfied: yarl<2.0,>=1.17.0 in /usr/local/lib/python3.11/dist-packages (from aiohttp!=4.0.0a0,!=4.0.0a1->fsspec[http]>2021.06.0->pytorch-lightning<2.0.0,>1.7.0->lightning-bolts) (1.20.1)\n",
            "Requirement already satisfied: idna>=2.0 in /usr/local/lib/python3.11/dist-packages (from yarl<2.0,>=1.17.0->aiohttp!=4.0.0a0,!=4.0.0a1->fsspec[http]>2021.06.0->pytorch-lightning<2.0.0,>1.7.0->lightning-bolts) (3.10)\n",
            "Downloading lightning_bolts-0.7.0-py3-none-any.whl (300 kB)\n",
            "\u001b[2K   \u001b[90m━━━━━━━━━━━━━━━━━━━━━━━━━━━━━━━━━━━━━━━━\u001b[0m \u001b[32m300.8/300.8 kB\u001b[0m \u001b[31m16.5 MB/s\u001b[0m eta \u001b[36m0:00:00\u001b[0m\n",
            "\u001b[?25hDownloading lightning_utilities-0.14.3-py3-none-any.whl (28 kB)\n",
            "Downloading pytorch_lightning-1.9.5-py3-none-any.whl (829 kB)\n",
            "\u001b[2K   \u001b[90m━━━━━━━━━━━━━━━━━━━━━━━━━━━━━━━━━━━━━━━━\u001b[0m \u001b[32m829.5/829.5 kB\u001b[0m \u001b[31m40.2 MB/s\u001b[0m eta \u001b[36m0:00:00\u001b[0m\n",
            "\u001b[?25hDownloading torchmetrics-1.7.4-py3-none-any.whl (963 kB)\n",
            "\u001b[2K   \u001b[90m━━━━━━━━━━━━━━━━━━━━━━━━━━━━━━━━━━━━━━━━\u001b[0m \u001b[32m963.5/963.5 kB\u001b[0m \u001b[31m51.0 MB/s\u001b[0m eta \u001b[36m0:00:00\u001b[0m\n",
            "\u001b[?25hDownloading nvidia_cublas_cu12-12.4.5.8-py3-none-manylinux2014_x86_64.whl (363.4 MB)\n",
            "\u001b[2K   \u001b[90m━━━━━━━━━━━━━━━━━━━━━━━━━━━━━━━━━━━━━━━━\u001b[0m \u001b[32m363.4/363.4 MB\u001b[0m \u001b[31m4.6 MB/s\u001b[0m eta \u001b[36m0:00:00\u001b[0m\n",
            "\u001b[?25hDownloading nvidia_cuda_cupti_cu12-12.4.127-py3-none-manylinux2014_x86_64.whl (13.8 MB)\n",
            "\u001b[2K   \u001b[90m━━━━━━━━━━━━━━━━━━━━━━━━━━━━━━━━━━━━━━━━\u001b[0m \u001b[32m13.8/13.8 MB\u001b[0m \u001b[31m99.3 MB/s\u001b[0m eta \u001b[36m0:00:00\u001b[0m\n",
            "\u001b[?25hDownloading nvidia_cuda_nvrtc_cu12-12.4.127-py3-none-manylinux2014_x86_64.whl (24.6 MB)\n",
            "\u001b[2K   \u001b[90m━━━━━━━━━━━━━━━━━━━━━━━━━━━━━━━━━━━━━━━━\u001b[0m \u001b[32m24.6/24.6 MB\u001b[0m \u001b[31m83.0 MB/s\u001b[0m eta \u001b[36m0:00:00\u001b[0m\n",
            "\u001b[?25hDownloading nvidia_cuda_runtime_cu12-12.4.127-py3-none-manylinux2014_x86_64.whl (883 kB)\n",
            "\u001b[2K   \u001b[90m━━━━━━━━━━━━━━━━━━━━━━━━━━━━━━━━━━━━━━━━\u001b[0m \u001b[32m883.7/883.7 kB\u001b[0m \u001b[31m47.5 MB/s\u001b[0m eta \u001b[36m0:00:00\u001b[0m\n",
            "\u001b[?25hDownloading nvidia_cudnn_cu12-9.1.0.70-py3-none-manylinux2014_x86_64.whl (664.8 MB)\n",
            "\u001b[2K   \u001b[90m━━━━━━━━━━━━━━━━━━━━━━━━━━━━━━━━━━━━━━━━\u001b[0m \u001b[32m664.8/664.8 MB\u001b[0m \u001b[31m3.2 MB/s\u001b[0m eta \u001b[36m0:00:00\u001b[0m\n",
            "\u001b[?25hDownloading nvidia_cufft_cu12-11.2.1.3-py3-none-manylinux2014_x86_64.whl (211.5 MB)\n",
            "\u001b[2K   \u001b[90m━━━━━━━━━━━━━━━━━━━━━━━━━━━━━━━━━━━━━━━━\u001b[0m \u001b[32m211.5/211.5 MB\u001b[0m \u001b[31m5.7 MB/s\u001b[0m eta \u001b[36m0:00:00\u001b[0m\n",
            "\u001b[?25hDownloading nvidia_curand_cu12-10.3.5.147-py3-none-manylinux2014_x86_64.whl (56.3 MB)\n",
            "\u001b[2K   \u001b[90m━━━━━━━━━━━━━━━━━━━━━━━━━━━━━━━━━━━━━━━━\u001b[0m \u001b[32m56.3/56.3 MB\u001b[0m \u001b[31m14.5 MB/s\u001b[0m eta \u001b[36m0:00:00\u001b[0m\n",
            "\u001b[?25hDownloading nvidia_cusolver_cu12-11.6.1.9-py3-none-manylinux2014_x86_64.whl (127.9 MB)\n",
            "\u001b[2K   \u001b[90m━━━━━━━━━━━━━━━━━━━━━━━━━━━━━━━━━━━━━━━━\u001b[0m \u001b[32m127.9/127.9 MB\u001b[0m \u001b[31m7.6 MB/s\u001b[0m eta \u001b[36m0:00:00\u001b[0m\n",
            "\u001b[?25hDownloading nvidia_cusparse_cu12-12.3.1.170-py3-none-manylinux2014_x86_64.whl (207.5 MB)\n",
            "\u001b[2K   \u001b[90m━━━━━━━━━━━━━━━━━━━━━━━━━━━━━━━━━━━━━━━━\u001b[0m \u001b[32m207.5/207.5 MB\u001b[0m \u001b[31m6.0 MB/s\u001b[0m eta \u001b[36m0:00:00\u001b[0m\n",
            "\u001b[?25hDownloading nvidia_nvjitlink_cu12-12.4.127-py3-none-manylinux2014_x86_64.whl (21.1 MB)\n",
            "\u001b[2K   \u001b[90m━━━━━━━━━━━━━━━━━━━━━━━━━━━━━━━━━━━━━━━━\u001b[0m \u001b[32m21.1/21.1 MB\u001b[0m \u001b[31m66.2 MB/s\u001b[0m eta \u001b[36m0:00:00\u001b[0m\n",
            "\u001b[?25hInstalling collected packages: nvidia-nvjitlink-cu12, nvidia-curand-cu12, nvidia-cufft-cu12, nvidia-cuda-runtime-cu12, nvidia-cuda-nvrtc-cu12, nvidia-cuda-cupti-cu12, nvidia-cublas-cu12, lightning-utilities, nvidia-cusparse-cu12, nvidia-cudnn-cu12, nvidia-cusolver-cu12, torchmetrics, pytorch-lightning, lightning-bolts\n",
            "  Attempting uninstall: nvidia-nvjitlink-cu12\n",
            "    Found existing installation: nvidia-nvjitlink-cu12 12.5.82\n",
            "    Uninstalling nvidia-nvjitlink-cu12-12.5.82:\n",
            "      Successfully uninstalled nvidia-nvjitlink-cu12-12.5.82\n",
            "  Attempting uninstall: nvidia-curand-cu12\n",
            "    Found existing installation: nvidia-curand-cu12 10.3.6.82\n",
            "    Uninstalling nvidia-curand-cu12-10.3.6.82:\n",
            "      Successfully uninstalled nvidia-curand-cu12-10.3.6.82\n",
            "  Attempting uninstall: nvidia-cufft-cu12\n",
            "    Found existing installation: nvidia-cufft-cu12 11.2.3.61\n",
            "    Uninstalling nvidia-cufft-cu12-11.2.3.61:\n",
            "      Successfully uninstalled nvidia-cufft-cu12-11.2.3.61\n",
            "  Attempting uninstall: nvidia-cuda-runtime-cu12\n",
            "    Found existing installation: nvidia-cuda-runtime-cu12 12.5.82\n",
            "    Uninstalling nvidia-cuda-runtime-cu12-12.5.82:\n",
            "      Successfully uninstalled nvidia-cuda-runtime-cu12-12.5.82\n",
            "  Attempting uninstall: nvidia-cuda-nvrtc-cu12\n",
            "    Found existing installation: nvidia-cuda-nvrtc-cu12 12.5.82\n",
            "    Uninstalling nvidia-cuda-nvrtc-cu12-12.5.82:\n",
            "      Successfully uninstalled nvidia-cuda-nvrtc-cu12-12.5.82\n",
            "  Attempting uninstall: nvidia-cuda-cupti-cu12\n",
            "    Found existing installation: nvidia-cuda-cupti-cu12 12.5.82\n",
            "    Uninstalling nvidia-cuda-cupti-cu12-12.5.82:\n",
            "      Successfully uninstalled nvidia-cuda-cupti-cu12-12.5.82\n",
            "  Attempting uninstall: nvidia-cublas-cu12\n",
            "    Found existing installation: nvidia-cublas-cu12 12.5.3.2\n",
            "    Uninstalling nvidia-cublas-cu12-12.5.3.2:\n",
            "      Successfully uninstalled nvidia-cublas-cu12-12.5.3.2\n",
            "  Attempting uninstall: nvidia-cusparse-cu12\n",
            "    Found existing installation: nvidia-cusparse-cu12 12.5.1.3\n",
            "    Uninstalling nvidia-cusparse-cu12-12.5.1.3:\n",
            "      Successfully uninstalled nvidia-cusparse-cu12-12.5.1.3\n",
            "  Attempting uninstall: nvidia-cudnn-cu12\n",
            "    Found existing installation: nvidia-cudnn-cu12 9.3.0.75\n",
            "    Uninstalling nvidia-cudnn-cu12-9.3.0.75:\n",
            "      Successfully uninstalled nvidia-cudnn-cu12-9.3.0.75\n",
            "  Attempting uninstall: nvidia-cusolver-cu12\n",
            "    Found existing installation: nvidia-cusolver-cu12 11.6.3.83\n",
            "    Uninstalling nvidia-cusolver-cu12-11.6.3.83:\n",
            "      Successfully uninstalled nvidia-cusolver-cu12-11.6.3.83\n",
            "Successfully installed lightning-bolts-0.7.0 lightning-utilities-0.14.3 nvidia-cublas-cu12-12.4.5.8 nvidia-cuda-cupti-cu12-12.4.127 nvidia-cuda-nvrtc-cu12-12.4.127 nvidia-cuda-runtime-cu12-12.4.127 nvidia-cudnn-cu12-9.1.0.70 nvidia-cufft-cu12-11.2.1.3 nvidia-curand-cu12-10.3.5.147 nvidia-cusolver-cu12-11.6.1.9 nvidia-cusparse-cu12-12.3.1.170 nvidia-nvjitlink-cu12-12.4.127 pytorch-lightning-1.9.5 torchmetrics-1.7.4\n"
          ]
        }
      ]
    },
    {
      "cell_type": "code",
      "source": [
        "!pip install timm"
      ],
      "metadata": {
        "id": "d9eTx9bDPC4S",
        "outputId": "d11e2b02-3f8c-4c28-b8d8-561b87e15693",
        "colab": {
          "base_uri": "https://localhost:8080/"
        }
      },
      "execution_count": 3,
      "outputs": [
        {
          "output_type": "stream",
          "name": "stdout",
          "text": [
            "Requirement already satisfied: timm in /usr/local/lib/python3.11/dist-packages (1.0.16)\n",
            "Requirement already satisfied: torch in /usr/local/lib/python3.11/dist-packages (from timm) (2.6.0+cu124)\n",
            "Requirement already satisfied: torchvision in /usr/local/lib/python3.11/dist-packages (from timm) (0.21.0+cu124)\n",
            "Requirement already satisfied: pyyaml in /usr/local/lib/python3.11/dist-packages (from timm) (6.0.2)\n",
            "Requirement already satisfied: huggingface_hub in /usr/local/lib/python3.11/dist-packages (from timm) (0.33.2)\n",
            "Requirement already satisfied: safetensors in /usr/local/lib/python3.11/dist-packages (from timm) (0.5.3)\n",
            "Requirement already satisfied: filelock in /usr/local/lib/python3.11/dist-packages (from huggingface_hub->timm) (3.18.0)\n",
            "Requirement already satisfied: fsspec>=2023.5.0 in /usr/local/lib/python3.11/dist-packages (from huggingface_hub->timm) (2025.3.2)\n",
            "Requirement already satisfied: packaging>=20.9 in /usr/local/lib/python3.11/dist-packages (from huggingface_hub->timm) (24.2)\n",
            "Requirement already satisfied: requests in /usr/local/lib/python3.11/dist-packages (from huggingface_hub->timm) (2.32.3)\n",
            "Requirement already satisfied: tqdm>=4.42.1 in /usr/local/lib/python3.11/dist-packages (from huggingface_hub->timm) (4.67.1)\n",
            "Requirement already satisfied: typing-extensions>=3.7.4.3 in /usr/local/lib/python3.11/dist-packages (from huggingface_hub->timm) (4.14.1)\n",
            "Requirement already satisfied: hf-xet<2.0.0,>=1.1.2 in /usr/local/lib/python3.11/dist-packages (from huggingface_hub->timm) (1.1.5)\n",
            "Requirement already satisfied: networkx in /usr/local/lib/python3.11/dist-packages (from torch->timm) (3.5)\n",
            "Requirement already satisfied: jinja2 in /usr/local/lib/python3.11/dist-packages (from torch->timm) (3.1.6)\n",
            "Requirement already satisfied: nvidia-cuda-nvrtc-cu12==12.4.127 in /usr/local/lib/python3.11/dist-packages (from torch->timm) (12.4.127)\n",
            "Requirement already satisfied: nvidia-cuda-runtime-cu12==12.4.127 in /usr/local/lib/python3.11/dist-packages (from torch->timm) (12.4.127)\n",
            "Requirement already satisfied: nvidia-cuda-cupti-cu12==12.4.127 in /usr/local/lib/python3.11/dist-packages (from torch->timm) (12.4.127)\n",
            "Requirement already satisfied: nvidia-cudnn-cu12==9.1.0.70 in /usr/local/lib/python3.11/dist-packages (from torch->timm) (9.1.0.70)\n",
            "Requirement already satisfied: nvidia-cublas-cu12==12.4.5.8 in /usr/local/lib/python3.11/dist-packages (from torch->timm) (12.4.5.8)\n",
            "Requirement already satisfied: nvidia-cufft-cu12==11.2.1.3 in /usr/local/lib/python3.11/dist-packages (from torch->timm) (11.2.1.3)\n",
            "Requirement already satisfied: nvidia-curand-cu12==10.3.5.147 in /usr/local/lib/python3.11/dist-packages (from torch->timm) (10.3.5.147)\n",
            "Requirement already satisfied: nvidia-cusolver-cu12==11.6.1.9 in /usr/local/lib/python3.11/dist-packages (from torch->timm) (11.6.1.9)\n",
            "Requirement already satisfied: nvidia-cusparse-cu12==12.3.1.170 in /usr/local/lib/python3.11/dist-packages (from torch->timm) (12.3.1.170)\n",
            "Requirement already satisfied: nvidia-cusparselt-cu12==0.6.2 in /usr/local/lib/python3.11/dist-packages (from torch->timm) (0.6.2)\n",
            "Requirement already satisfied: nvidia-nccl-cu12==2.21.5 in /usr/local/lib/python3.11/dist-packages (from torch->timm) (2.21.5)\n",
            "Requirement already satisfied: nvidia-nvtx-cu12==12.4.127 in /usr/local/lib/python3.11/dist-packages (from torch->timm) (12.4.127)\n",
            "Requirement already satisfied: nvidia-nvjitlink-cu12==12.4.127 in /usr/local/lib/python3.11/dist-packages (from torch->timm) (12.4.127)\n",
            "Requirement already satisfied: triton==3.2.0 in /usr/local/lib/python3.11/dist-packages (from torch->timm) (3.2.0)\n",
            "Requirement already satisfied: sympy==1.13.1 in /usr/local/lib/python3.11/dist-packages (from torch->timm) (1.13.1)\n",
            "Requirement already satisfied: mpmath<1.4,>=1.1.0 in /usr/local/lib/python3.11/dist-packages (from sympy==1.13.1->torch->timm) (1.3.0)\n",
            "Requirement already satisfied: numpy in /usr/local/lib/python3.11/dist-packages (from torchvision->timm) (2.0.2)\n",
            "Requirement already satisfied: pillow!=8.3.*,>=5.3.0 in /usr/local/lib/python3.11/dist-packages (from torchvision->timm) (11.2.1)\n",
            "Requirement already satisfied: MarkupSafe>=2.0 in /usr/local/lib/python3.11/dist-packages (from jinja2->torch->timm) (3.0.2)\n",
            "Requirement already satisfied: charset-normalizer<4,>=2 in /usr/local/lib/python3.11/dist-packages (from requests->huggingface_hub->timm) (3.4.2)\n",
            "Requirement already satisfied: idna<4,>=2.5 in /usr/local/lib/python3.11/dist-packages (from requests->huggingface_hub->timm) (3.10)\n",
            "Requirement already satisfied: urllib3<3,>=1.21.1 in /usr/local/lib/python3.11/dist-packages (from requests->huggingface_hub->timm) (2.4.0)\n",
            "Requirement already satisfied: certifi>=2017.4.17 in /usr/local/lib/python3.11/dist-packages (from requests->huggingface_hub->timm) (2025.6.15)\n"
          ]
        }
      ]
    },
    {
      "cell_type": "code",
      "execution_count": 4,
      "metadata": {
        "id": "Ib_-nKcWpubJ",
        "outputId": "bdb8e7dc-0aca-4103-d8c7-863b0d7af7c7",
        "colab": {
          "base_uri": "https://localhost:8080/"
        }
      },
      "outputs": [
        {
          "output_type": "stream",
          "name": "stderr",
          "text": [
            "/usr/local/lib/python3.11/dist-packages/timm/models/layers/__init__.py:48: FutureWarning: Importing from timm.models.layers is deprecated, please import via timm.layers\n",
            "  warnings.warn(f\"Importing from {__name__} is deprecated, please import via timm.layers\", FutureWarning)\n"
          ]
        }
      ],
      "source": [
        "import torch\n",
        "import torchvision\n",
        "import torch.nn as nn\n",
        "from math import sqrt, cos, pi\n",
        "from tqdm import tqdm\n",
        "from torch.utils.data import Dataset, DataLoader\n",
        "from torchvision import datasets\n",
        "from torchvision.transforms import ToTensor\n",
        "import pandas as pd\n",
        "import matplotlib.pyplot as plt\n",
        "from torchvision.transforms.v2 import CutMix, MixUp, RandomChoice\n",
        "from timm.loss import SoftTargetCrossEntropy\n",
        "from timm.models.layers import DropPath\n",
        "from torch.optim.lr_scheduler import LambdaLR, CosineAnnealingLR"
      ]
    },
    {
      "cell_type": "code",
      "execution_count": null,
      "metadata": {
        "id": "jsVKhKRFB-uc"
      },
      "outputs": [],
      "source": [
        "# image pre-processing helper class\n",
        "\n",
        "class PatchEmbedding(nn.Module):\n",
        "\n",
        "    def __init__(self, batches=32, in_channels=3, patch_size=16, size=128, embed_dim=768):\n",
        "        super().__init__()\n",
        "\n",
        "        assert size % patch_size == 0, \"Image size must be divisible by patch size\"\n",
        "\n",
        "        self.batches = batches\n",
        "        self.in_channels = in_channels # rgb ==> 3 channels\n",
        "        self.patch_size = patch_size # size of each patch (like a token)\n",
        "        self.embed_dim = embed_dim # the higher-dimensional space to project the patches to\n",
        "        self.size = size # size of input image\n",
        "        self.N = (self.size // self.patch_size) ** 2 # number of patches\n",
        "\n",
        "        self.proj = nn.Conv2d(in_channels=self.in_channels, # B, C, H, W --> B, D, H_p, W_p\n",
        "                              out_channels=self.embed_dim, # 3D space --> 768D space to extract more information\n",
        "                              kernel_size=self.patch_size, # so that the patches don't overlap\n",
        "                              stride=self.patch_size) # divides input image into patches\n",
        "\n",
        "        self.cls_token = nn.Parameter(torch.randn(1, 1, self.embed_dim)) # token which captures the 'meaning' of the image in a vector\n",
        "        self.pos_embeddings = nn.Parameter(torch.randn(1, self.N + 1, self.embed_dim)) # learnable positional embeddings\n",
        "\n",
        "    def forward(self, x):\n",
        "        x = self.proj(x) # applying conv2d projection\n",
        "        x = torch.flatten(x, 2) # B, D, N\n",
        "        x = x.transpose(1, 2) # B, N, D\n",
        "        B = x.shape[0]\n",
        "        cls_token = self.cls_token.expand(B, -1, -1) # expanding the cls token along the batch dimension so it can be added later\n",
        "        x = torch.cat((cls_token, x), dim=1) # adding the cls token to the input tensor\n",
        "        x = x + self.pos_embeddings # adding the positional embeddings to the input tensor\n",
        "\n",
        "        return x"
      ]
    },
    {
      "cell_type": "code",
      "execution_count": null,
      "metadata": {
        "id": "dIAuFEHgB8ka"
      },
      "outputs": [],
      "source": [
        "# A head has unique Q, K, V matrices and computes attention\n",
        "\n",
        "class ManualMultiHeadSelfAttention(nn.Module):\n",
        "    def __init__(self, embed_dim=768, heads=12, dropout=0.15):\n",
        "        super().__init__()\n",
        "\n",
        "        assert embed_dim % heads == 0, \"Embedding dimension must be divisible by heads\"\n",
        "\n",
        "        self.embed_dim = embed_dim\n",
        "        self.heads = heads\n",
        "        self.head_dim = embed_dim // heads\n",
        "\n",
        "        # fully connected NN layers with # of input neurons = embed_dim = # output neurons\n",
        "        self.Q_proj = nn.Linear(embed_dim, embed_dim)\n",
        "        self.V_proj = nn.Linear(embed_dim, embed_dim)\n",
        "        self.K_proj = nn.Linear(embed_dim, embed_dim)\n",
        "\n",
        "        self.dropout = nn.Dropout(dropout)\n",
        "\n",
        "        self.output = nn.Linear(embed_dim, embed_dim)\n",
        "\n",
        "    def forward(self, x):\n",
        "        B, N, D = x.shape\n",
        "\n",
        "        # Q: what it's looking for\n",
        "        # K: the kind of features it has\n",
        "        # V: the actual representation\n",
        "\n",
        "        # sending the input tensor through proj NN layers\n",
        "        Q = self.Q_proj(x) # batches, patches, embed_dim\n",
        "        Q = Q.view(B, N, self.heads, self.head_dim).permute(0, 2, 1, 3) # single head --> multihead\n",
        "\n",
        "        V = self.V_proj(x) # batches, patches, embed_dim\n",
        "        V = V.view(B, N, self.heads, self.head_dim).permute(0, 2, 1, 3) # single head --> multihead\n",
        "\n",
        "        K = self.K_proj(x) # batches, patches, embed_dim\n",
        "        K = K.view(B, N, self.heads, self.head_dim).permute(0, 2, 1, 3) # single head --> multihead\n",
        "\n",
        "        # computing attention\n",
        "        x = self.compute_attention(Q, K, V).permute(0, 2, 1, 3).contiguous() # B, heads, N, head_dim --> B, N, heads, head_dim\n",
        "        x = self.dropout(x)\n",
        "        x = x.view(B, N, D)\n",
        "        x = self.output(x)\n",
        "\n",
        "        return x\n",
        "\n",
        "    def compute_attention(self, Q, K, V):\n",
        "        K_T = torch.transpose(K, -2, -1) # transpose so that multiplication is defined\n",
        "        scaling = sqrt(self.head_dim)\n",
        "        val = torch.matmul(Q, K_T) / scaling\n",
        "\n",
        "        return torch.matmul(torch.softmax(val, dim=-1), V)\n"
      ]
    },
    {
      "cell_type": "code",
      "execution_count": null,
      "metadata": {
        "id": "U1mBFPKCB63T"
      },
      "outputs": [],
      "source": [
        "class TransformerEncoder(nn.Module):\n",
        "    def __init__(self, embed_dim=768, heads=12, dropout=0.15):\n",
        "        super().__init__()\n",
        "\n",
        "        self.mhsa = ManualMultiHeadSelfAttention(embed_dim, heads)\n",
        "        self.ln1 = nn.LayerNorm(embed_dim)\n",
        "        self.drop_path_1 = DropPath(0.05)\n",
        "        self.drop_path_2 = DropPath(0.05)\n",
        "\n",
        "        self.ffn = nn.Sequential(\n",
        "            nn.Linear(embed_dim, embed_dim),\n",
        "            nn.GELU(),\n",
        "            nn.Dropout(dropout),\n",
        "            nn.Linear(embed_dim, embed_dim),\n",
        "            nn.GELU(),\n",
        "            nn.Dropout(dropout),\n",
        "        )\n",
        "\n",
        "        self.ln2 = nn.LayerNorm(embed_dim)\n",
        "\n",
        "    def forward(self, x):\n",
        "        x = self.ln1(x) # normalizing activation functions to prevent saturation. Pre-norm is expected to lead to faster convergence.\n",
        "        attn_out = self.mhsa(x) # computing residual\n",
        "        x = x + self.drop_path_1(attn_out) # skip connection\n",
        "        x = self.ln2(x) # normalizing activation functions to prevent saturation\n",
        "        ffn_out = self.ffn(x) # computing residual\n",
        "        x = x + self.drop_path_2(ffn_out) # skip connection\n",
        "\n",
        "        return x\n"
      ]
    },
    {
      "cell_type": "code",
      "execution_count": null,
      "metadata": {
        "id": "yImRUHuKB3y8"
      },
      "outputs": [],
      "source": [
        "class VisionTransformer(nn.Module):\n",
        "    def __init__(self,  batches=32, in_channels=3, patch_size=16, size=128, embed_dim=768, heads=12, depth=8, num_classes=10, dropout=0.15):\n",
        "        super().__init__()\n",
        "\n",
        "        self.patch_embedding = PatchEmbedding(batches, in_channels, patch_size, size, embed_dim)\n",
        "\n",
        "        # each transformer applies attention through various heads -- each with unique Q, K, and V matrices\n",
        "        self.transformer_stack = nn.ModuleList(TransformerEncoder(embed_dim, heads) for _ in range(depth))\n",
        "\n",
        "        self.mlp_head = nn.Sequential( # maps cls token to logits\n",
        "            nn.Dropout(dropout),\n",
        "            nn.Linear(in_features=embed_dim, out_features=num_classes),\n",
        "        )\n",
        "\n",
        "    def forward(self, x):\n",
        "        x = self.patch_embedding(x)\n",
        "\n",
        "        for t in self.transformer_stack:\n",
        "            x = t(x)\n",
        "\n",
        "        cls = x[:, 0]\n",
        "        x = self.mlp_head(cls)\n",
        "\n",
        "        return x"
      ]
    },
    {
      "cell_type": "code",
      "execution_count": null,
      "metadata": {
        "id": "q7KmwLxCByjQ",
        "colab": {
          "base_uri": "https://localhost:8080/"
        },
        "outputId": "d51cd454-69ad-4387-c4d3-a6ee9e3e694d"
      },
      "outputs": [
        {
          "output_type": "stream",
          "name": "stderr",
          "text": [
            "100%|██████████| 170M/170M [00:13<00:00, 13.0MB/s]\n"
          ]
        }
      ],
      "source": [
        "train_transform = torchvision.transforms.Compose([\n",
        "    torchvision.transforms.Resize(64),\n",
        "    torchvision.transforms.RandomHorizontalFlip(),\n",
        "    torchvision.transforms.RandomCrop(64, padding=4),\n",
        "    torchvision.transforms.ColorJitter(brightness=0.2, contrast=0.2, saturation=0.2, hue=0.1),\n",
        "    torchvision.transforms.ToTensor(),\n",
        "    torchvision.transforms.Normalize((0.49139968, 0.48215827, 0.44653124), (0.24703233, 0.24348505, 0.26158768)) # normalizing mean helps optims like Adam, scaling ensures uniformity across the inputs\n",
        "])\n",
        "\n",
        "test_transform = torchvision.transforms.Compose([\n",
        "    torchvision.transforms.Resize(64),\n",
        "    torchvision.transforms.ToTensor(),\n",
        "    torchvision.transforms.Normalize((0.49139968, 0.48215827, 0.44653124), (0.24703233, 0.24348505, 0.26158768))\n",
        "])\n",
        "\n",
        "\n",
        "training_data = datasets.CIFAR10(root=\"data\", train=True, download=True, transform=train_transform)\n",
        "test_data = datasets.CIFAR10(root=\"data\", train=False, download=False,  transform=test_transform)"
      ]
    },
    {
      "cell_type": "code",
      "execution_count": null,
      "metadata": {
        "id": "OchZkcJJBvvT"
      },
      "outputs": [],
      "source": [
        "batchsize = 512\n",
        "channels = 3\n",
        "patchsize = 4\n",
        "imsize = 64\n",
        "embeddim = 252\n",
        "numheads = 12\n",
        "encoders = 8\n",
        "numclasses = 10\n",
        "epochs = 100\n",
        "dropout = 0.05\n",
        "mixup_start = 10\n",
        "cutmix_or_mixup_start = 20\n",
        "max_mixup = 0.5\n",
        "max_cutmix_or_mixup = 0.5\n",
        "alpha = 0.25"
      ]
    },
    {
      "cell_type": "code",
      "source": [
        "torch.backends.cuda.matmul.allow_tf32 = True\n",
        "torch.backends.cudnn.allow_tf32 = True\n",
        "torch.backends.cuda.enable_flash_sdp(True)\n",
        "torch.backends.cuda.enable_mem_efficient_sdp(True)\n",
        "torch.backends.cuda.enable_math_sdp(True)"
      ],
      "metadata": {
        "id": "tEvvPLKgLote"
      },
      "execution_count": null,
      "outputs": []
    },
    {
      "cell_type": "code",
      "execution_count": null,
      "metadata": {
        "id": "mje1v_iSBr5N",
        "colab": {
          "base_uri": "https://localhost:8080/"
        },
        "outputId": "ec78dcce-dc3c-4769-a282-96bdf4a29638"
      },
      "outputs": [
        {
          "output_type": "execute_result",
          "data": {
            "text/plain": [
              "OptimizedModule(\n",
              "  (_orig_mod): VisionTransformer(\n",
              "    (patch_embedding): PatchEmbedding(\n",
              "      (proj): Conv2d(3, 252, kernel_size=(4, 4), stride=(4, 4))\n",
              "    )\n",
              "    (transformer_stack): ModuleList(\n",
              "      (0-7): 8 x TransformerEncoder(\n",
              "        (mhsa): ManualMultiHeadSelfAttention(\n",
              "          (Q_proj): Linear(in_features=252, out_features=252, bias=True)\n",
              "          (V_proj): Linear(in_features=252, out_features=252, bias=True)\n",
              "          (K_proj): Linear(in_features=252, out_features=252, bias=True)\n",
              "          (dropout): Dropout(p=0.15, inplace=False)\n",
              "          (output): Linear(in_features=252, out_features=252, bias=True)\n",
              "        )\n",
              "        (ln1): LayerNorm((252,), eps=1e-05, elementwise_affine=True)\n",
              "        (drop_path_1): DropPath(drop_prob=0.050)\n",
              "        (drop_path_2): DropPath(drop_prob=0.050)\n",
              "        (ffn): Sequential(\n",
              "          (0): Linear(in_features=252, out_features=252, bias=True)\n",
              "          (1): GELU(approximate='none')\n",
              "          (2): Dropout(p=0.15, inplace=False)\n",
              "          (3): Linear(in_features=252, out_features=252, bias=True)\n",
              "          (4): GELU(approximate='none')\n",
              "          (5): Dropout(p=0.15, inplace=False)\n",
              "        )\n",
              "        (ln2): LayerNorm((252,), eps=1e-05, elementwise_affine=True)\n",
              "      )\n",
              "    )\n",
              "    (mlp_head): Sequential(\n",
              "      (0): Dropout(p=0.15, inplace=False)\n",
              "      (1): Linear(in_features=252, out_features=10, bias=True)\n",
              "    )\n",
              "  )\n",
              ")"
            ]
          },
          "metadata": {},
          "execution_count": 11
        }
      ],
      "source": [
        "train_dataloader = DataLoader(dataset=training_data, batch_size=batchsize, shuffle=True, pin_memory=True, num_workers=8)\n",
        "test_dataloader = DataLoader(dataset=test_data, batch_size=batchsize, shuffle=False)\n",
        "\n",
        "cutmix = CutMix(num_classes=numclasses)\n",
        "mixup = MixUp(num_classes=numclasses, alpha=alpha)\n",
        "\n",
        "vit = VisionTransformer(\n",
        "    batches=batchsize, in_channels=channels,\n",
        "    patch_size=patchsize, embed_dim=embeddim,\n",
        "    heads=numheads, depth=encoders, size=imsize,\n",
        "    num_classes=numclasses,\n",
        ")\n",
        "\n",
        "vit = torch.compile(vit)\n",
        "\n",
        "loss_fn = torch.nn.CrossEntropyLoss(label_smoothing=0.1)\n",
        "sft_loss_fn = SoftTargetCrossEntropy()\n",
        "optim = torch.optim.AdamW(params=vit.parameters(), lr=1e-3, weight_decay=0.05)\n",
        "\n",
        "def sched_func(epoch):\n",
        "  if epoch < 10:\n",
        "    return 1 - ((10 - epoch) / 10)\n",
        "\n",
        "  if 10 <= epoch <= 40:\n",
        "    return 1\n",
        "\n",
        "  progress = (epoch - 40) / 60\n",
        "  return 0.5 * (1 + cos(pi * progress))\n",
        "\n",
        "scheduler = LambdaLR(optim, lr_lambda=sched_func)\n",
        "\n",
        "scaler = torch.amp.GradScaler()\n",
        "\n",
        "device = torch.device(\"cuda\" if torch.cuda.is_available() else \"cpu\")\n",
        "vit.to(device)"
      ]
    },
    {
      "cell_type": "code",
      "execution_count": null,
      "metadata": {
        "id": "tWF2eUuhBmS3",
        "colab": {
          "base_uri": "https://localhost:8080/"
        },
        "outputId": "b809fd4a-9736-4c5d-a25e-ee6b98c1508d"
      },
      "outputs": [
        {
          "output_type": "stream",
          "name": "stderr",
          "text": [
            "Epoch 1/100: 100%|██████████| 98/98 [02:38<00:00,  1.61s/it, loss=2.53]\n"
          ]
        },
        {
          "output_type": "stream",
          "name": "stdout",
          "text": [
            "Epoch 1: LR=0.000100 \t Train Acc: 0.1034 \t Val Acc: 0.1102\n"
          ]
        },
        {
          "output_type": "stream",
          "name": "stderr",
          "text": [
            "Epoch 2/100: 100%|██████████| 98/98 [00:20<00:00,  4.89it/s, loss=2.16]\n"
          ]
        },
        {
          "output_type": "stream",
          "name": "stdout",
          "text": [
            "Epoch 2: LR=0.000200 \t Train Acc: 0.2071 \t Val Acc: 0.2693\n"
          ]
        },
        {
          "output_type": "stream",
          "name": "stderr",
          "text": [
            "Epoch 3/100: 100%|██████████| 98/98 [00:20<00:00,  4.84it/s, loss=2.02]\n"
          ]
        },
        {
          "output_type": "stream",
          "name": "stdout",
          "text": [
            "Epoch 3: LR=0.000300 \t Train Acc: 0.2839 \t Val Acc: 0.3741\n"
          ]
        },
        {
          "output_type": "stream",
          "name": "stderr",
          "text": [
            "Epoch 4/100: 100%|██████████| 98/98 [00:20<00:00,  4.84it/s, loss=1.85]\n"
          ]
        },
        {
          "output_type": "stream",
          "name": "stdout",
          "text": [
            "Epoch 4: LR=0.000400 \t Train Acc: 0.3756 \t Val Acc: 0.4646\n"
          ]
        },
        {
          "output_type": "stream",
          "name": "stderr",
          "text": [
            "Epoch 5/100: 100%|██████████| 98/98 [00:20<00:00,  4.86it/s, loss=1.72]\n"
          ]
        },
        {
          "output_type": "stream",
          "name": "stdout",
          "text": [
            "Epoch 5: LR=0.000500 \t Train Acc: 0.4406 \t Val Acc: 0.5182\n"
          ]
        },
        {
          "output_type": "stream",
          "name": "stderr",
          "text": [
            "Epoch 6/100: 100%|██████████| 98/98 [00:20<00:00,  4.87it/s, loss=1.63]\n"
          ]
        },
        {
          "output_type": "stream",
          "name": "stdout",
          "text": [
            "Epoch 6: LR=0.000600 \t Train Acc: 0.4819 \t Val Acc: 0.5509\n"
          ]
        },
        {
          "output_type": "stream",
          "name": "stderr",
          "text": [
            "Epoch 7/100: 100%|██████████| 98/98 [00:20<00:00,  4.82it/s, loss=1.57]\n"
          ]
        },
        {
          "output_type": "stream",
          "name": "stdout",
          "text": [
            "Epoch 7: LR=0.000700 \t Train Acc: 0.5123 \t Val Acc: 0.5581\n"
          ]
        },
        {
          "output_type": "stream",
          "name": "stderr",
          "text": [
            "Epoch 8/100: 100%|██████████| 98/98 [00:20<00:00,  4.86it/s, loss=1.52]\n"
          ]
        },
        {
          "output_type": "stream",
          "name": "stdout",
          "text": [
            "Epoch 8: LR=0.000800 \t Train Acc: 0.5376 \t Val Acc: 0.5822\n"
          ]
        },
        {
          "output_type": "stream",
          "name": "stderr",
          "text": [
            "Epoch 9/100: 100%|██████████| 98/98 [00:20<00:00,  4.82it/s, loss=1.47]\n"
          ]
        },
        {
          "output_type": "stream",
          "name": "stdout",
          "text": [
            "Epoch 9: LR=0.000900 \t Train Acc: 0.5607 \t Val Acc: 0.5799\n"
          ]
        },
        {
          "output_type": "stream",
          "name": "stderr",
          "text": [
            "Epoch 10/100: 100%|██████████| 98/98 [00:20<00:00,  4.86it/s, loss=1.45]\n"
          ]
        },
        {
          "output_type": "stream",
          "name": "stdout",
          "text": [
            "Epoch 10: LR=0.001000 \t Train Acc: 0.5697 \t Val Acc: 0.6086\n"
          ]
        },
        {
          "output_type": "stream",
          "name": "stderr",
          "text": [
            "Epoch 11/100: 100%|██████████| 98/98 [00:20<00:00,  4.83it/s, loss=1.41]\n"
          ]
        },
        {
          "output_type": "stream",
          "name": "stdout",
          "text": [
            "Epoch 11: LR=0.001000 \t Train Acc: 0.5785 \t Val Acc: 0.6154\n"
          ]
        },
        {
          "output_type": "stream",
          "name": "stderr",
          "text": [
            "Epoch 12/100: 100%|██████████| 98/98 [00:20<00:00,  4.80it/s, loss=1.38]\n"
          ]
        },
        {
          "output_type": "stream",
          "name": "stdout",
          "text": [
            "Epoch 12: LR=0.001000 \t Train Acc: 0.5982 \t Val Acc: 0.6405\n"
          ]
        },
        {
          "output_type": "stream",
          "name": "stderr",
          "text": [
            "Epoch 13/100: 100%|██████████| 98/98 [00:20<00:00,  4.82it/s, loss=1.34]\n"
          ]
        },
        {
          "output_type": "stream",
          "name": "stdout",
          "text": [
            "Epoch 13: LR=0.001000 \t Train Acc: 0.6170 \t Val Acc: 0.6489\n"
          ]
        },
        {
          "output_type": "stream",
          "name": "stderr",
          "text": [
            "Epoch 14/100: 100%|██████████| 98/98 [00:20<00:00,  4.81it/s, loss=1.32]\n"
          ]
        },
        {
          "output_type": "stream",
          "name": "stdout",
          "text": [
            "Epoch 14: LR=0.001000 \t Train Acc: 0.6265 \t Val Acc: 0.6506\n"
          ]
        },
        {
          "output_type": "stream",
          "name": "stderr",
          "text": [
            "Epoch 15/100: 100%|██████████| 98/98 [00:20<00:00,  4.82it/s, loss=1.29]\n"
          ]
        },
        {
          "output_type": "stream",
          "name": "stdout",
          "text": [
            "Epoch 15: LR=0.001000 \t Train Acc: 0.6424 \t Val Acc: 0.6707\n"
          ]
        },
        {
          "output_type": "stream",
          "name": "stderr",
          "text": [
            "Epoch 16/100: 100%|██████████| 98/98 [00:20<00:00,  4.81it/s, loss=1.28]\n"
          ]
        },
        {
          "output_type": "stream",
          "name": "stdout",
          "text": [
            "Epoch 16: LR=0.001000 \t Train Acc: 0.6443 \t Val Acc: 0.6899\n"
          ]
        },
        {
          "output_type": "stream",
          "name": "stderr",
          "text": [
            "Epoch 17/100: 100%|██████████| 98/98 [00:20<00:00,  4.89it/s, loss=1.25]\n"
          ]
        },
        {
          "output_type": "stream",
          "name": "stdout",
          "text": [
            "Epoch 17: LR=0.001000 \t Train Acc: 0.6591 \t Val Acc: 0.6950\n"
          ]
        },
        {
          "output_type": "stream",
          "name": "stderr",
          "text": [
            "Epoch 18/100: 100%|██████████| 98/98 [00:20<00:00,  4.83it/s, loss=1.26]\n"
          ]
        },
        {
          "output_type": "stream",
          "name": "stdout",
          "text": [
            "Epoch 18: LR=0.001000 \t Train Acc: 0.6581 \t Val Acc: 0.6936\n"
          ]
        },
        {
          "output_type": "stream",
          "name": "stderr",
          "text": [
            "Epoch 19/100: 100%|██████████| 98/98 [00:20<00:00,  4.85it/s, loss=1.27]\n"
          ]
        },
        {
          "output_type": "stream",
          "name": "stdout",
          "text": [
            "Epoch 19: LR=0.001000 \t Train Acc: 0.6572 \t Val Acc: 0.7030\n"
          ]
        },
        {
          "output_type": "stream",
          "name": "stderr",
          "text": [
            "Epoch 20/100: 100%|██████████| 98/98 [00:20<00:00,  4.86it/s, loss=1.2]\n"
          ]
        },
        {
          "output_type": "stream",
          "name": "stdout",
          "text": [
            "Epoch 20: LR=0.001000 \t Train Acc: 0.6828 \t Val Acc: 0.7026\n"
          ]
        },
        {
          "output_type": "stream",
          "name": "stderr",
          "text": [
            "Epoch 21/100: 100%|██████████| 98/98 [00:20<00:00,  4.87it/s, loss=1.25]\n"
          ]
        },
        {
          "output_type": "stream",
          "name": "stdout",
          "text": [
            "Epoch 21: LR=0.001000 \t Train Acc: 0.6594 \t Val Acc: 0.7066\n"
          ]
        },
        {
          "output_type": "stream",
          "name": "stderr",
          "text": [
            "Epoch 22/100: 100%|██████████| 98/98 [00:20<00:00,  4.80it/s, loss=1.28]\n"
          ]
        },
        {
          "output_type": "stream",
          "name": "stdout",
          "text": [
            "Epoch 22: LR=0.001000 \t Train Acc: 0.6526 \t Val Acc: 0.6786\n"
          ]
        },
        {
          "output_type": "stream",
          "name": "stderr",
          "text": [
            "Epoch 23/100: 100%|██████████| 98/98 [00:20<00:00,  4.83it/s, loss=1.2]\n"
          ]
        },
        {
          "output_type": "stream",
          "name": "stdout",
          "text": [
            "Epoch 23: LR=0.001000 \t Train Acc: 0.6847 \t Val Acc: 0.7114\n"
          ]
        },
        {
          "output_type": "stream",
          "name": "stderr",
          "text": [
            "Epoch 24/100: 100%|██████████| 98/98 [00:20<00:00,  4.82it/s, loss=1.26]\n"
          ]
        },
        {
          "output_type": "stream",
          "name": "stdout",
          "text": [
            "Epoch 24: LR=0.001000 \t Train Acc: 0.6557 \t Val Acc: 0.7126\n"
          ]
        },
        {
          "output_type": "stream",
          "name": "stderr",
          "text": [
            "Epoch 25/100: 100%|██████████| 98/98 [00:20<00:00,  4.80it/s, loss=1.24]\n"
          ]
        },
        {
          "output_type": "stream",
          "name": "stdout",
          "text": [
            "Epoch 25: LR=0.001000 \t Train Acc: 0.6701 \t Val Acc: 0.7129\n"
          ]
        },
        {
          "output_type": "stream",
          "name": "stderr",
          "text": [
            "Epoch 26/100: 100%|██████████| 98/98 [00:20<00:00,  4.81it/s, loss=1.21]\n"
          ]
        },
        {
          "output_type": "stream",
          "name": "stdout",
          "text": [
            "Epoch 26: LR=0.001000 \t Train Acc: 0.6816 \t Val Acc: 0.7012\n"
          ]
        },
        {
          "output_type": "stream",
          "name": "stderr",
          "text": [
            "Epoch 27/100: 100%|██████████| 98/98 [00:20<00:00,  4.79it/s, loss=1.13]\n"
          ]
        },
        {
          "output_type": "stream",
          "name": "stdout",
          "text": [
            "Epoch 27: LR=0.001000 \t Train Acc: 0.7027 \t Val Acc: 0.7298\n"
          ]
        },
        {
          "output_type": "stream",
          "name": "stderr",
          "text": [
            "Epoch 28/100: 100%|██████████| 98/98 [00:20<00:00,  4.82it/s, loss=1.2]\n"
          ]
        },
        {
          "output_type": "stream",
          "name": "stdout",
          "text": [
            "Epoch 28: LR=0.001000 \t Train Acc: 0.6885 \t Val Acc: 0.7400\n"
          ]
        },
        {
          "output_type": "stream",
          "name": "stderr",
          "text": [
            "Epoch 29/100: 100%|██████████| 98/98 [00:20<00:00,  4.85it/s, loss=1.23]\n"
          ]
        },
        {
          "output_type": "stream",
          "name": "stdout",
          "text": [
            "Epoch 29: LR=0.001000 \t Train Acc: 0.6821 \t Val Acc: 0.7377\n"
          ]
        },
        {
          "output_type": "stream",
          "name": "stderr",
          "text": [
            "Epoch 30/100: 100%|██████████| 98/98 [00:20<00:00,  4.77it/s, loss=1.12]\n"
          ]
        },
        {
          "output_type": "stream",
          "name": "stdout",
          "text": [
            "Epoch 30: LR=0.001000 \t Train Acc: 0.7080 \t Val Acc: 0.7485\n"
          ]
        },
        {
          "output_type": "stream",
          "name": "stderr",
          "text": [
            "Epoch 31/100: 100%|██████████| 98/98 [00:20<00:00,  4.84it/s, loss=1.12]\n"
          ]
        },
        {
          "output_type": "stream",
          "name": "stdout",
          "text": [
            "Epoch 31: LR=0.001000 \t Train Acc: 0.7057 \t Val Acc: 0.7508\n"
          ]
        },
        {
          "output_type": "stream",
          "name": "stderr",
          "text": [
            "Epoch 32/100: 100%|██████████| 98/98 [00:20<00:00,  4.88it/s, loss=1.14]\n"
          ]
        },
        {
          "output_type": "stream",
          "name": "stdout",
          "text": [
            "Epoch 32: LR=0.001000 \t Train Acc: 0.7050 \t Val Acc: 0.7471\n"
          ]
        },
        {
          "output_type": "stream",
          "name": "stderr",
          "text": [
            "Epoch 33/100: 100%|██████████| 98/98 [00:20<00:00,  4.87it/s, loss=1.21]\n"
          ]
        },
        {
          "output_type": "stream",
          "name": "stdout",
          "text": [
            "Epoch 33: LR=0.001000 \t Train Acc: 0.6907 \t Val Acc: 0.7552\n"
          ]
        },
        {
          "output_type": "stream",
          "name": "stderr",
          "text": [
            "Epoch 34/100: 100%|██████████| 98/98 [00:20<00:00,  4.81it/s, loss=1.16]\n"
          ]
        },
        {
          "output_type": "stream",
          "name": "stdout",
          "text": [
            "Epoch 34: LR=0.001000 \t Train Acc: 0.7069 \t Val Acc: 0.7624\n"
          ]
        },
        {
          "output_type": "stream",
          "name": "stderr",
          "text": [
            "Epoch 35/100: 100%|██████████| 98/98 [00:20<00:00,  4.87it/s, loss=1.16]\n"
          ]
        },
        {
          "output_type": "stream",
          "name": "stdout",
          "text": [
            "Epoch 35: LR=0.001000 \t Train Acc: 0.7034 \t Val Acc: 0.7692\n"
          ]
        },
        {
          "output_type": "stream",
          "name": "stderr",
          "text": [
            "Epoch 36/100: 100%|██████████| 98/98 [00:20<00:00,  4.86it/s, loss=1.15]\n"
          ]
        },
        {
          "output_type": "stream",
          "name": "stdout",
          "text": [
            "Epoch 36: LR=0.001000 \t Train Acc: 0.7136 \t Val Acc: 0.7693\n"
          ]
        },
        {
          "output_type": "stream",
          "name": "stderr",
          "text": [
            "Epoch 37/100: 100%|██████████| 98/98 [00:20<00:00,  4.83it/s, loss=1.1]\n"
          ]
        },
        {
          "output_type": "stream",
          "name": "stdout",
          "text": [
            "Epoch 37: LR=0.001000 \t Train Acc: 0.7210 \t Val Acc: 0.7632\n"
          ]
        },
        {
          "output_type": "stream",
          "name": "stderr",
          "text": [
            "Epoch 38/100: 100%|██████████| 98/98 [00:20<00:00,  4.80it/s, loss=1.16]\n"
          ]
        },
        {
          "output_type": "stream",
          "name": "stdout",
          "text": [
            "Epoch 38: LR=0.001000 \t Train Acc: 0.7056 \t Val Acc: 0.7784\n"
          ]
        },
        {
          "output_type": "stream",
          "name": "stderr",
          "text": [
            "Epoch 39/100: 100%|██████████| 98/98 [00:20<00:00,  4.81it/s, loss=1.09]\n"
          ]
        },
        {
          "output_type": "stream",
          "name": "stdout",
          "text": [
            "Epoch 39: LR=0.001000 \t Train Acc: 0.7321 \t Val Acc: 0.7687\n"
          ]
        },
        {
          "output_type": "stream",
          "name": "stderr",
          "text": [
            "Epoch 40/100: 100%|██████████| 98/98 [00:20<00:00,  4.81it/s, loss=1.1]\n"
          ]
        },
        {
          "output_type": "stream",
          "name": "stdout",
          "text": [
            "Epoch 40: LR=0.001000 \t Train Acc: 0.7163 \t Val Acc: 0.7778\n"
          ]
        },
        {
          "output_type": "stream",
          "name": "stderr",
          "text": [
            "Epoch 41/100: 100%|██████████| 98/98 [00:20<00:00,  4.82it/s, loss=1.1]\n"
          ]
        },
        {
          "output_type": "stream",
          "name": "stdout",
          "text": [
            "Epoch 41: LR=0.000999 \t Train Acc: 0.7281 \t Val Acc: 0.7585\n"
          ]
        },
        {
          "output_type": "stream",
          "name": "stderr",
          "text": [
            "Epoch 42/100: 100%|██████████| 98/98 [00:20<00:00,  4.80it/s, loss=1.12]\n"
          ]
        },
        {
          "output_type": "stream",
          "name": "stdout",
          "text": [
            "Epoch 42: LR=0.000997 \t Train Acc: 0.7090 \t Val Acc: 0.7735\n"
          ]
        },
        {
          "output_type": "stream",
          "name": "stderr",
          "text": [
            "Epoch 43/100: 100%|██████████| 98/98 [00:20<00:00,  4.81it/s, loss=1.03]\n"
          ]
        },
        {
          "output_type": "stream",
          "name": "stdout",
          "text": [
            "Epoch 43: LR=0.000994 \t Train Acc: 0.7417 \t Val Acc: 0.7815\n"
          ]
        },
        {
          "output_type": "stream",
          "name": "stderr",
          "text": [
            "Epoch 44/100: 100%|██████████| 98/98 [00:20<00:00,  4.85it/s, loss=1.11]\n"
          ]
        },
        {
          "output_type": "stream",
          "name": "stdout",
          "text": [
            "Epoch 44: LR=0.000989 \t Train Acc: 0.7267 \t Val Acc: 0.7721\n"
          ]
        },
        {
          "output_type": "stream",
          "name": "stderr",
          "text": [
            "Epoch 45/100: 100%|██████████| 98/98 [00:20<00:00,  4.80it/s, loss=1.13]\n"
          ]
        },
        {
          "output_type": "stream",
          "name": "stdout",
          "text": [
            "Epoch 45: LR=0.000983 \t Train Acc: 0.7265 \t Val Acc: 0.7647\n"
          ]
        },
        {
          "output_type": "stream",
          "name": "stderr",
          "text": [
            "Epoch 46/100: 100%|██████████| 98/98 [00:20<00:00,  4.88it/s, loss=1.12]\n"
          ]
        },
        {
          "output_type": "stream",
          "name": "stdout",
          "text": [
            "Epoch 46: LR=0.000976 \t Train Acc: 0.7258 \t Val Acc: 0.7662\n"
          ]
        },
        {
          "output_type": "stream",
          "name": "stderr",
          "text": [
            "Epoch 47/100: 100%|██████████| 98/98 [00:20<00:00,  4.80it/s, loss=1.08]\n"
          ]
        },
        {
          "output_type": "stream",
          "name": "stdout",
          "text": [
            "Epoch 47: LR=0.000967 \t Train Acc: 0.7348 \t Val Acc: 0.7929\n"
          ]
        },
        {
          "output_type": "stream",
          "name": "stderr",
          "text": [
            "Epoch 48/100: 100%|██████████| 98/98 [00:20<00:00,  4.81it/s, loss=1.01]\n"
          ]
        },
        {
          "output_type": "stream",
          "name": "stdout",
          "text": [
            "Epoch 48: LR=0.000957 \t Train Acc: 0.7573 \t Val Acc: 0.7873\n"
          ]
        },
        {
          "output_type": "stream",
          "name": "stderr",
          "text": [
            "Epoch 49/100: 100%|██████████| 98/98 [00:20<00:00,  4.89it/s, loss=1.15]\n"
          ]
        },
        {
          "output_type": "stream",
          "name": "stdout",
          "text": [
            "Epoch 49: LR=0.000946 \t Train Acc: 0.7130 \t Val Acc: 0.7813\n"
          ]
        },
        {
          "output_type": "stream",
          "name": "stderr",
          "text": [
            "Epoch 50/100: 100%|██████████| 98/98 [00:20<00:00,  4.87it/s, loss=1.04]\n"
          ]
        },
        {
          "output_type": "stream",
          "name": "stdout",
          "text": [
            "Epoch 50: LR=0.000933 \t Train Acc: 0.7500 \t Val Acc: 0.7863\n"
          ]
        },
        {
          "output_type": "stream",
          "name": "stderr",
          "text": [
            "Epoch 51/100: 100%|██████████| 98/98 [00:20<00:00,  4.89it/s, loss=1.09]\n"
          ]
        },
        {
          "output_type": "stream",
          "name": "stdout",
          "text": [
            "Epoch 51: LR=0.000919 \t Train Acc: 0.7212 \t Val Acc: 0.7884\n"
          ]
        },
        {
          "output_type": "stream",
          "name": "stderr",
          "text": [
            "Epoch 52/100: 100%|██████████| 98/98 [00:20<00:00,  4.87it/s, loss=1.07]\n"
          ]
        },
        {
          "output_type": "stream",
          "name": "stdout",
          "text": [
            "Epoch 52: LR=0.000905 \t Train Acc: 0.7436 \t Val Acc: 0.7980\n"
          ]
        },
        {
          "output_type": "stream",
          "name": "stderr",
          "text": [
            "Epoch 53/100: 100%|██████████| 98/98 [00:20<00:00,  4.89it/s, loss=0.977]\n"
          ]
        },
        {
          "output_type": "stream",
          "name": "stdout",
          "text": [
            "Epoch 53: LR=0.000889 \t Train Acc: 0.7655 \t Val Acc: 0.7971\n"
          ]
        },
        {
          "output_type": "stream",
          "name": "stderr",
          "text": [
            "Epoch 54/100: 100%|██████████| 98/98 [00:20<00:00,  4.85it/s, loss=1.02]\n"
          ]
        },
        {
          "output_type": "stream",
          "name": "stdout",
          "text": [
            "Epoch 54: LR=0.000872 \t Train Acc: 0.7624 \t Val Acc: 0.7917\n"
          ]
        },
        {
          "output_type": "stream",
          "name": "stderr",
          "text": [
            "Epoch 55/100: 100%|██████████| 98/98 [00:20<00:00,  4.85it/s, loss=1.08]\n"
          ]
        },
        {
          "output_type": "stream",
          "name": "stdout",
          "text": [
            "Epoch 55: LR=0.000854 \t Train Acc: 0.7387 \t Val Acc: 0.7991\n"
          ]
        },
        {
          "output_type": "stream",
          "name": "stderr",
          "text": [
            "Epoch 56/100: 100%|██████████| 98/98 [00:20<00:00,  4.79it/s, loss=1.07]\n"
          ]
        },
        {
          "output_type": "stream",
          "name": "stdout",
          "text": [
            "Epoch 56: LR=0.000835 \t Train Acc: 0.7381 \t Val Acc: 0.8070\n"
          ]
        },
        {
          "output_type": "stream",
          "name": "stderr",
          "text": [
            "Epoch 57/100: 100%|██████████| 98/98 [00:20<00:00,  4.86it/s, loss=1.04]\n"
          ]
        },
        {
          "output_type": "stream",
          "name": "stdout",
          "text": [
            "Epoch 57: LR=0.000815 \t Train Acc: 0.7559 \t Val Acc: 0.8012\n"
          ]
        },
        {
          "output_type": "stream",
          "name": "stderr",
          "text": [
            "Epoch 58/100: 100%|██████████| 98/98 [00:20<00:00,  4.85it/s, loss=1.01]\n"
          ]
        },
        {
          "output_type": "stream",
          "name": "stdout",
          "text": [
            "Epoch 58: LR=0.000794 \t Train Acc: 0.7738 \t Val Acc: 0.8130\n"
          ]
        },
        {
          "output_type": "stream",
          "name": "stderr",
          "text": [
            "Epoch 59/100: 100%|██████████| 98/98 [00:20<00:00,  4.82it/s, loss=0.993]\n"
          ]
        },
        {
          "output_type": "stream",
          "name": "stdout",
          "text": [
            "Epoch 59: LR=0.000772 \t Train Acc: 0.7711 \t Val Acc: 0.8100\n"
          ]
        },
        {
          "output_type": "stream",
          "name": "stderr",
          "text": [
            "Epoch 60/100: 100%|██████████| 98/98 [00:20<00:00,  4.82it/s, loss=1.01]\n"
          ]
        },
        {
          "output_type": "stream",
          "name": "stdout",
          "text": [
            "Epoch 60: LR=0.000750 \t Train Acc: 0.7594 \t Val Acc: 0.8193\n"
          ]
        },
        {
          "output_type": "stream",
          "name": "stderr",
          "text": [
            "Epoch 61/100: 100%|██████████| 98/98 [00:20<00:00,  4.85it/s, loss=1.04]\n"
          ]
        },
        {
          "output_type": "stream",
          "name": "stdout",
          "text": [
            "Epoch 61: LR=0.000727 \t Train Acc: 0.7651 \t Val Acc: 0.8223\n"
          ]
        },
        {
          "output_type": "stream",
          "name": "stderr",
          "text": [
            "Epoch 62/100: 100%|██████████| 98/98 [00:20<00:00,  4.86it/s, loss=1]\n"
          ]
        },
        {
          "output_type": "stream",
          "name": "stdout",
          "text": [
            "Epoch 62: LR=0.000703 \t Train Acc: 0.7686 \t Val Acc: 0.8124\n"
          ]
        },
        {
          "output_type": "stream",
          "name": "stderr",
          "text": [
            "Epoch 63/100: 100%|██████████| 98/98 [00:20<00:00,  4.85it/s, loss=0.95]\n"
          ]
        },
        {
          "output_type": "stream",
          "name": "stdout",
          "text": [
            "Epoch 63: LR=0.000679 \t Train Acc: 0.7901 \t Val Acc: 0.8258\n"
          ]
        },
        {
          "output_type": "stream",
          "name": "stderr",
          "text": [
            "Epoch 64/100: 100%|██████████| 98/98 [00:20<00:00,  4.81it/s, loss=0.966]\n"
          ]
        },
        {
          "output_type": "stream",
          "name": "stdout",
          "text": [
            "Epoch 64: LR=0.000655 \t Train Acc: 0.7853 \t Val Acc: 0.8146\n"
          ]
        },
        {
          "output_type": "stream",
          "name": "stderr",
          "text": [
            "Epoch 65/100: 100%|██████████| 98/98 [00:20<00:00,  4.87it/s, loss=0.927]\n"
          ]
        },
        {
          "output_type": "stream",
          "name": "stdout",
          "text": [
            "Epoch 65: LR=0.000629 \t Train Acc: 0.8024 \t Val Acc: 0.8288\n"
          ]
        },
        {
          "output_type": "stream",
          "name": "stderr",
          "text": [
            "Epoch 66/100: 100%|██████████| 98/98 [00:20<00:00,  4.80it/s, loss=0.989]\n"
          ]
        },
        {
          "output_type": "stream",
          "name": "stdout",
          "text": [
            "Epoch 66: LR=0.000604 \t Train Acc: 0.7813 \t Val Acc: 0.8181\n"
          ]
        },
        {
          "output_type": "stream",
          "name": "stderr",
          "text": [
            "Epoch 67/100: 100%|██████████| 98/98 [00:20<00:00,  4.83it/s, loss=0.998]\n"
          ]
        },
        {
          "output_type": "stream",
          "name": "stdout",
          "text": [
            "Epoch 67: LR=0.000578 \t Train Acc: 0.7858 \t Val Acc: 0.8265\n"
          ]
        },
        {
          "output_type": "stream",
          "name": "stderr",
          "text": [
            "Epoch 68/100: 100%|██████████| 98/98 [00:20<00:00,  4.80it/s, loss=0.979]\n"
          ]
        },
        {
          "output_type": "stream",
          "name": "stdout",
          "text": [
            "Epoch 68: LR=0.000552 \t Train Acc: 0.7864 \t Val Acc: 0.8275\n"
          ]
        },
        {
          "output_type": "stream",
          "name": "stderr",
          "text": [
            "Epoch 69/100: 100%|██████████| 98/98 [00:20<00:00,  4.85it/s, loss=0.962]\n"
          ]
        },
        {
          "output_type": "stream",
          "name": "stdout",
          "text": [
            "Epoch 69: LR=0.000526 \t Train Acc: 0.8004 \t Val Acc: 0.8255\n"
          ]
        },
        {
          "output_type": "stream",
          "name": "stderr",
          "text": [
            "Epoch 70/100: 100%|██████████| 98/98 [00:20<00:00,  4.80it/s, loss=0.892]\n"
          ]
        },
        {
          "output_type": "stream",
          "name": "stdout",
          "text": [
            "Epoch 70: LR=0.000500 \t Train Acc: 0.8184 \t Val Acc: 0.8314\n"
          ]
        },
        {
          "output_type": "stream",
          "name": "stderr",
          "text": [
            "Epoch 71/100: 100%|██████████| 98/98 [00:20<00:00,  4.81it/s, loss=0.93]\n"
          ]
        },
        {
          "output_type": "stream",
          "name": "stdout",
          "text": [
            "Epoch 71: LR=0.000474 \t Train Acc: 0.8122 \t Val Acc: 0.8302\n"
          ]
        },
        {
          "output_type": "stream",
          "name": "stderr",
          "text": [
            "Epoch 72/100: 100%|██████████| 98/98 [00:20<00:00,  4.85it/s, loss=0.861]\n"
          ]
        },
        {
          "output_type": "stream",
          "name": "stdout",
          "text": [
            "Epoch 72: LR=0.000448 \t Train Acc: 0.8241 \t Val Acc: 0.8341\n"
          ]
        },
        {
          "output_type": "stream",
          "name": "stderr",
          "text": [
            "Epoch 73/100: 100%|██████████| 98/98 [00:20<00:00,  4.81it/s, loss=1.04]\n"
          ]
        },
        {
          "output_type": "stream",
          "name": "stdout",
          "text": [
            "Epoch 73: LR=0.000422 \t Train Acc: 0.7788 \t Val Acc: 0.8357\n"
          ]
        },
        {
          "output_type": "stream",
          "name": "stderr",
          "text": [
            "Epoch 74/100: 100%|██████████| 98/98 [00:20<00:00,  4.78it/s, loss=0.824]\n"
          ]
        },
        {
          "output_type": "stream",
          "name": "stdout",
          "text": [
            "Epoch 74: LR=0.000396 \t Train Acc: 0.8399 \t Val Acc: 0.8381\n"
          ]
        },
        {
          "output_type": "stream",
          "name": "stderr",
          "text": [
            "Epoch 75/100: 100%|██████████| 98/98 [00:20<00:00,  4.79it/s, loss=0.879]\n"
          ]
        },
        {
          "output_type": "stream",
          "name": "stdout",
          "text": [
            "Epoch 75: LR=0.000371 \t Train Acc: 0.8254 \t Val Acc: 0.8367\n"
          ]
        },
        {
          "output_type": "stream",
          "name": "stderr",
          "text": [
            "Epoch 76/100: 100%|██████████| 98/98 [00:20<00:00,  4.87it/s, loss=0.983]\n"
          ]
        },
        {
          "output_type": "stream",
          "name": "stdout",
          "text": [
            "Epoch 76: LR=0.000345 \t Train Acc: 0.7898 \t Val Acc: 0.8428\n"
          ]
        },
        {
          "output_type": "stream",
          "name": "stderr",
          "text": [
            "Epoch 77/100: 100%|██████████| 98/98 [00:20<00:00,  4.86it/s, loss=0.85]\n"
          ]
        },
        {
          "output_type": "stream",
          "name": "stdout",
          "text": [
            "Epoch 77: LR=0.000321 \t Train Acc: 0.8362 \t Val Acc: 0.8405\n"
          ]
        },
        {
          "output_type": "stream",
          "name": "stderr",
          "text": [
            "Epoch 78/100: 100%|██████████| 98/98 [00:20<00:00,  4.87it/s, loss=0.822]\n"
          ]
        },
        {
          "output_type": "stream",
          "name": "stdout",
          "text": [
            "Epoch 78: LR=0.000297 \t Train Acc: 0.8249 \t Val Acc: 0.8395\n"
          ]
        },
        {
          "output_type": "stream",
          "name": "stderr",
          "text": [
            "Epoch 79/100: 100%|██████████| 98/98 [00:20<00:00,  4.79it/s, loss=0.83]\n"
          ]
        },
        {
          "output_type": "stream",
          "name": "stdout",
          "text": [
            "Epoch 79: LR=0.000273 \t Train Acc: 0.8479 \t Val Acc: 0.8432\n"
          ]
        },
        {
          "output_type": "stream",
          "name": "stderr",
          "text": [
            "Epoch 80/100: 100%|██████████| 98/98 [00:20<00:00,  4.87it/s, loss=0.823]\n"
          ]
        },
        {
          "output_type": "stream",
          "name": "stdout",
          "text": [
            "Epoch 80: LR=0.000250 \t Train Acc: 0.8453 \t Val Acc: 0.8447\n"
          ]
        },
        {
          "output_type": "stream",
          "name": "stderr",
          "text": [
            "Epoch 81/100: 100%|██████████| 98/98 [00:20<00:00,  4.85it/s, loss=0.778]\n"
          ]
        },
        {
          "output_type": "stream",
          "name": "stdout",
          "text": [
            "Epoch 81: LR=0.000228 \t Train Acc: 0.8558 \t Val Acc: 0.8443\n"
          ]
        },
        {
          "output_type": "stream",
          "name": "stderr",
          "text": [
            "Epoch 82/100: 100%|██████████| 98/98 [00:20<00:00,  4.80it/s, loss=0.894]\n"
          ]
        },
        {
          "output_type": "stream",
          "name": "stdout",
          "text": [
            "Epoch 82: LR=0.000206 \t Train Acc: 0.8232 \t Val Acc: 0.8469\n"
          ]
        },
        {
          "output_type": "stream",
          "name": "stderr",
          "text": [
            "Epoch 83/100: 100%|██████████| 98/98 [00:20<00:00,  4.84it/s, loss=0.713]\n"
          ]
        },
        {
          "output_type": "stream",
          "name": "stdout",
          "text": [
            "Epoch 83: LR=0.000185 \t Train Acc: 0.8710 \t Val Acc: 0.8514\n"
          ]
        },
        {
          "output_type": "stream",
          "name": "stderr",
          "text": [
            "Epoch 84/100: 100%|██████████| 98/98 [00:20<00:00,  4.79it/s, loss=0.928]\n"
          ]
        },
        {
          "output_type": "stream",
          "name": "stdout",
          "text": [
            "Epoch 84: LR=0.000165 \t Train Acc: 0.8128 \t Val Acc: 0.8514\n"
          ]
        },
        {
          "output_type": "stream",
          "name": "stderr",
          "text": [
            "Epoch 85/100: 100%|██████████| 98/98 [00:20<00:00,  4.81it/s, loss=0.794]\n"
          ]
        },
        {
          "output_type": "stream",
          "name": "stdout",
          "text": [
            "Epoch 85: LR=0.000146 \t Train Acc: 0.8543 \t Val Acc: 0.8491\n"
          ]
        },
        {
          "output_type": "stream",
          "name": "stderr",
          "text": [
            "Epoch 86/100: 100%|██████████| 98/98 [00:20<00:00,  4.89it/s, loss=0.849]\n"
          ]
        },
        {
          "output_type": "stream",
          "name": "stdout",
          "text": [
            "Epoch 86: LR=0.000128 \t Train Acc: 0.8421 \t Val Acc: 0.8500\n"
          ]
        },
        {
          "output_type": "stream",
          "name": "stderr",
          "text": [
            "Epoch 87/100: 100%|██████████| 98/98 [00:20<00:00,  4.78it/s, loss=0.692]\n"
          ]
        },
        {
          "output_type": "stream",
          "name": "stdout",
          "text": [
            "Epoch 87: LR=0.000111 \t Train Acc: 0.8810 \t Val Acc: 0.8500\n"
          ]
        },
        {
          "output_type": "stream",
          "name": "stderr",
          "text": [
            "Epoch 88/100: 100%|██████████| 98/98 [00:20<00:00,  4.80it/s, loss=0.665]\n"
          ]
        },
        {
          "output_type": "stream",
          "name": "stdout",
          "text": [
            "Epoch 88: LR=0.000095 \t Train Acc: 0.8833 \t Val Acc: 0.8467\n"
          ]
        },
        {
          "output_type": "stream",
          "name": "stderr",
          "text": [
            "Epoch 89/100: 100%|██████████| 98/98 [00:20<00:00,  4.87it/s, loss=0.81]\n"
          ]
        },
        {
          "output_type": "stream",
          "name": "stdout",
          "text": [
            "Epoch 89: LR=0.000081 \t Train Acc: 0.8621 \t Val Acc: 0.8523\n"
          ]
        },
        {
          "output_type": "stream",
          "name": "stderr",
          "text": [
            "Epoch 90/100: 100%|██████████| 98/98 [00:20<00:00,  4.83it/s, loss=0.758]\n"
          ]
        },
        {
          "output_type": "stream",
          "name": "stdout",
          "text": [
            "Epoch 90: LR=0.000067 \t Train Acc: 0.8792 \t Val Acc: 0.8533\n"
          ]
        },
        {
          "output_type": "stream",
          "name": "stderr",
          "text": [
            "Epoch 91/100: 100%|██████████| 98/98 [00:20<00:00,  4.76it/s, loss=0.878]\n"
          ]
        },
        {
          "output_type": "stream",
          "name": "stdout",
          "text": [
            "Epoch 91: LR=0.000054 \t Train Acc: 0.8312 \t Val Acc: 0.8545\n"
          ]
        },
        {
          "output_type": "stream",
          "name": "stderr",
          "text": [
            "Epoch 92/100: 100%|██████████| 98/98 [00:20<00:00,  4.82it/s, loss=0.75]\n"
          ]
        },
        {
          "output_type": "stream",
          "name": "stdout",
          "text": [
            "Epoch 92: LR=0.000043 \t Train Acc: 0.8753 \t Val Acc: 0.8558\n"
          ]
        },
        {
          "output_type": "stream",
          "name": "stderr",
          "text": [
            "Epoch 93/100: 100%|██████████| 98/98 [00:20<00:00,  4.82it/s, loss=0.792]\n"
          ]
        },
        {
          "output_type": "stream",
          "name": "stdout",
          "text": [
            "Epoch 93: LR=0.000033 \t Train Acc: 0.8620 \t Val Acc: 0.8560\n"
          ]
        },
        {
          "output_type": "stream",
          "name": "stderr",
          "text": [
            "Epoch 94/100: 100%|██████████| 98/98 [00:20<00:00,  4.87it/s, loss=0.786]\n"
          ]
        },
        {
          "output_type": "stream",
          "name": "stdout",
          "text": [
            "Epoch 94: LR=0.000024 \t Train Acc: 0.8762 \t Val Acc: 0.8556\n"
          ]
        },
        {
          "output_type": "stream",
          "name": "stderr",
          "text": [
            "Epoch 95/100: 100%|██████████| 98/98 [00:20<00:00,  4.89it/s, loss=0.708]\n"
          ]
        },
        {
          "output_type": "stream",
          "name": "stdout",
          "text": [
            "Epoch 95: LR=0.000017 \t Train Acc: 0.8874 \t Val Acc: 0.8538\n"
          ]
        },
        {
          "output_type": "stream",
          "name": "stderr",
          "text": [
            "Epoch 96/100: 100%|██████████| 98/98 [00:20<00:00,  4.87it/s, loss=0.768]\n"
          ]
        },
        {
          "output_type": "stream",
          "name": "stdout",
          "text": [
            "Epoch 96: LR=0.000011 \t Train Acc: 0.8693 \t Val Acc: 0.8558\n"
          ]
        },
        {
          "output_type": "stream",
          "name": "stderr",
          "text": [
            "Epoch 97/100: 100%|██████████| 98/98 [00:20<00:00,  4.87it/s, loss=0.857]\n"
          ]
        },
        {
          "output_type": "stream",
          "name": "stdout",
          "text": [
            "Epoch 97: LR=0.000006 \t Train Acc: 0.8478 \t Val Acc: 0.8555\n"
          ]
        },
        {
          "output_type": "stream",
          "name": "stderr",
          "text": [
            "Epoch 98/100: 100%|██████████| 98/98 [00:20<00:00,  4.86it/s, loss=0.758]\n"
          ]
        },
        {
          "output_type": "stream",
          "name": "stdout",
          "text": [
            "Epoch 98: LR=0.000003 \t Train Acc: 0.8570 \t Val Acc: 0.8572\n"
          ]
        },
        {
          "output_type": "stream",
          "name": "stderr",
          "text": [
            "Epoch 99/100: 100%|██████████| 98/98 [00:20<00:00,  4.82it/s, loss=0.713]\n"
          ]
        },
        {
          "output_type": "stream",
          "name": "stdout",
          "text": [
            "Epoch 99: LR=0.000001 \t Train Acc: 0.8945 \t Val Acc: 0.8571\n"
          ]
        },
        {
          "output_type": "stream",
          "name": "stderr",
          "text": [
            "Epoch 100/100: 100%|██████████| 98/98 [00:20<00:00,  4.82it/s, loss=0.761]\n"
          ]
        },
        {
          "output_type": "stream",
          "name": "stdout",
          "text": [
            "Epoch 100: LR=0.000000 \t Train Acc: 0.8722 \t Val Acc: 0.8568\n"
          ]
        }
      ],
      "source": [
        "for i in range(epochs):\n",
        "    torch.cuda.empty_cache()\n",
        "    correct, total = 0, 0\n",
        "    running_loss = 0\n",
        "\n",
        "    vit.train(True)\n",
        "\n",
        "    loop = tqdm(train_dataloader, desc=f\"Epoch {i+1}/{epochs}\", leave=True, disable=False)\n",
        "\n",
        "    for j, (input, labels) in enumerate(loop, 1):\n",
        "        input, labels = input.to(device), labels.to(device)\n",
        "        optim.zero_grad()\n",
        "\n",
        "        if i >= cutmix_or_mixup_start and torch.rand(1) < min(max_cutmix_or_mixup, i/100):\n",
        "          cutmix_or_mixup = RandomChoice([cutmix, mixup], p=[0.3, 0.7])\n",
        "          input, labels = cutmix_or_mixup(input, labels)\n",
        "\n",
        "        elif i >= mixup_start and torch.rand(1) < min(max_mixup, i/100):\n",
        "          input, labels = mixup(input, labels)\n",
        "\n",
        "        with torch.amp.autocast(device_type='cuda', dtype=torch.float16):\n",
        "          output = vit(input)\n",
        "\n",
        "          if labels.ndim == 2:\n",
        "            loss = sft_loss_fn(output, labels)\n",
        "            running_loss += loss.mean().item()\n",
        "          else:\n",
        "            loss = loss_fn(output, labels)\n",
        "            running_loss += loss.item()\n",
        "\n",
        "        scaler.scale(loss).backward()\n",
        "        scaler.step(optim)\n",
        "        scaler.update()\n",
        "\n",
        "        avg_loss = running_loss / j\n",
        "        loop.set_postfix(loss=avg_loss)\n",
        "\n",
        "        pred = torch.argmax(output, dim=1)\n",
        "\n",
        "        if labels.ndim == 2:\n",
        "          labels = labels.argmax(dim=1)\n",
        "\n",
        "        total += labels.size(0)\n",
        "        correct += (pred == labels).sum().item()\n",
        "\n",
        "\n",
        "    vit.eval()\n",
        "    val_total, val_correct = 0, 0\n",
        "\n",
        "    with torch.no_grad():\n",
        "        for image, label in test_dataloader:\n",
        "            image, label = image.to(device), label.to(device)\n",
        "\n",
        "            with torch.amp.autocast(device_type='cuda', dtype=torch.float16):\n",
        "              output = vit(image)\n",
        "\n",
        "            pred = torch.argmax(output, dim=1)\n",
        "            val_total += label.size(0)\n",
        "            val_correct += (pred == label).sum().item()\n",
        "\n",
        "        val_accuracy = val_correct / val_total\n",
        "        accuracy = correct / total\n",
        "\n",
        "\n",
        "    scheduler.step()\n",
        "\n",
        "    current_lr = optim.param_groups[0]['lr']\n",
        "    print(f\"Epoch {i + 1}: LR={current_lr:.6f} \\t Train Acc: {accuracy:.4f} \\t Val Acc: {val_accuracy:.4f}\")"
      ]
    },
    {
      "cell_type": "code",
      "execution_count": null,
      "metadata": {
        "id": "SdddyiTcrdY2",
        "colab": {
          "base_uri": "https://localhost:8080/"
        },
        "outputId": "9c374bd3-ec8f-49c9-d97e-77666ac3c332"
      },
      "outputs": [
        {
          "output_type": "stream",
          "name": "stderr",
          "text": [
            "/tmp/ipython-input-14-3739515497.py:8: FutureWarning: `torch.cuda.amp.autocast(args...)` is deprecated. Please use `torch.amp.autocast('cuda', args...)` instead.\n",
            "  with torch.cuda.amp.autocast():\n"
          ]
        },
        {
          "output_type": "stream",
          "name": "stdout",
          "text": [
            "Accuracy: 0.8568\n"
          ]
        }
      ],
      "source": [
        "vit.eval()\n",
        "total, correct = 0, 0\n",
        "\n",
        "with torch.no_grad():\n",
        "    for image, label in test_dataloader:\n",
        "        image, label = image.to(device), label.to(device)\n",
        "\n",
        "        with torch.cuda.amp.autocast():\n",
        "          output = vit(image)\n",
        "\n",
        "        pred = torch.argmax(output, dim=1)\n",
        "        total += label.size(0)\n",
        "        correct += (pred == label).sum().item()\n",
        "\n",
        "    accuracy = correct / total\n",
        "\n",
        "    print(f\"Accuracy: {accuracy}\")"
      ]
    },
    {
      "cell_type": "code",
      "source": [
        "# final graphs\n",
        "\n",
        "train_acc = [\n",
        "    0.1034, 0.2071, 0.2839, 0.3756, 0.4406, 0.4819, 0.5123, 0.5376, 0.5607, 0.5697,\n",
        "    0.5785, 0.5982, 0.6170, 0.6265, 0.6424, 0.6443, 0.6591, 0.6581, 0.6572, 0.6828,\n",
        "    0.6594, 0.6526, 0.6847, 0.6557, 0.6701, 0.6816, 0.7027, 0.6885, 0.6821, 0.7080,\n",
        "    0.7057, 0.7050, 0.6907, 0.7069, 0.7034, 0.7136, 0.7210, 0.7056, 0.7321, 0.7163,\n",
        "    0.7281, 0.7090, 0.7417, 0.7267, 0.7265, 0.7258, 0.7348, 0.7573, 0.7130, 0.7500,\n",
        "    0.7212, 0.7436, 0.7655, 0.7624, 0.7387, 0.7381, 0.7559, 0.7738, 0.7711, 0.7594,\n",
        "    0.7651, 0.7686, 0.7901, 0.7853, 0.8024, 0.7813, 0.7858, 0.7864, 0.8004, 0.8184,\n",
        "    0.8122, 0.8241, 0.7788, 0.8399, 0.8254, 0.7898, 0.8362, 0.8249, 0.8479, 0.8453,\n",
        "    0.8558, 0.8232, 0.8710, 0.8128, 0.8543, 0.8421, 0.8810, 0.8833, 0.8621, 0.8792,\n",
        "    0.8312, 0.8753, 0.8620, 0.8762, 0.8874, 0.8693, 0.8478, 0.8570, 0.8945, 0.8722\n",
        "]\n",
        "\n",
        "val_acc = [\n",
        "    0.1102, 0.2693, 0.3741, 0.4646, 0.5182, 0.5509, 0.5581, 0.5822, 0.5799, 0.6086,\n",
        "    0.6154, 0.6405, 0.6489, 0.6506, 0.6707, 0.6899, 0.6950, 0.6936, 0.7030, 0.7026,\n",
        "    0.7066, 0.6786, 0.7114, 0.7126, 0.7129, 0.7012, 0.7298, 0.7400, 0.7377, 0.7485,\n",
        "    0.7508, 0.7471, 0.7552, 0.7624, 0.7692, 0.7693, 0.7632, 0.7784, 0.7687, 0.7778,\n",
        "    0.7585, 0.7735, 0.7815, 0.7721, 0.7647, 0.7662, 0.7929, 0.7873, 0.7813, 0.7863,\n",
        "    0.7884, 0.7980, 0.7971, 0.7917, 0.7991, 0.8070, 0.8012, 0.8130, 0.8100, 0.8193,\n",
        "    0.8223, 0.8124, 0.8258, 0.8146, 0.8288, 0.8181, 0.8265, 0.8275, 0.8255, 0.8314,\n",
        "    0.8302, 0.8341, 0.8357, 0.8381, 0.8367, 0.8428, 0.8405, 0.8395, 0.8432, 0.8447,\n",
        "    0.8443, 0.8469, 0.8514, 0.8514, 0.8491, 0.8500, 0.8500, 0.8467, 0.8523, 0.8533,\n",
        "    0.8545, 0.8558, 0.8560, 0.8556, 0.8538, 0.8558, 0.8555, 0.8572, 0.8571, 0.8568\n",
        "]\n",
        "\n",
        "learning_rates = [\n",
        "    0.000100, 0.000200, 0.000300, 0.000400, 0.000500, 0.000600, 0.000700, 0.000800, 0.000900, 0.001000,\n",
        "    0.001000, 0.001000, 0.001000, 0.001000, 0.001000, 0.001000, 0.001000, 0.001000, 0.001000, 0.001000,\n",
        "    0.001000, 0.001000, 0.001000, 0.001000, 0.001000, 0.001000, 0.001000, 0.001000, 0.001000, 0.001000,\n",
        "    0.001000, 0.001000, 0.001000, 0.001000, 0.001000, 0.001000, 0.001000, 0.001000, 0.001000, 0.001000,\n",
        "    0.000999, 0.000997, 0.000994, 0.000989, 0.000983, 0.000976, 0.000967, 0.000957, 0.000946, 0.000933,\n",
        "    0.000919, 0.000905, 0.000889, 0.000872, 0.000854, 0.000835, 0.000815, 0.000794, 0.000772, 0.000750,\n",
        "    0.000727, 0.000703, 0.000679, 0.000655, 0.000629, 0.000604, 0.000578, 0.000552, 0.000526, 0.000500,\n",
        "    0.000474, 0.000448, 0.000422, 0.000396, 0.000371, 0.000345, 0.000321, 0.000297, 0.000273, 0.000250,\n",
        "    0.000228, 0.000206, 0.000185, 0.000165, 0.000146, 0.000128, 0.000111, 0.000095, 0.000081, 0.000067,\n",
        "    0.000054, 0.000043, 0.000033, 0.000024, 0.000017, 0.000011, 0.000006, 0.000003, 0.000001, 0.000000\n",
        "]\n",
        "\n",
        "losses = [\n",
        "    2.53, 2.16, 2.02, 1.85, 1.72, 1.63, 1.57, 1.52, 1.47, 1.45,\n",
        "    1.41, 1.38, 1.34, 1.32, 1.29, 1.28, 1.25, 1.26, 1.27, 1.20,\n",
        "    1.25, 1.28, 1.20, 1.26, 1.24, 1.21, 1.13, 1.20, 1.23, 1.12,\n",
        "    1.12, 1.14, 1.21, 1.16, 1.16, 1.15, 1.10, 1.16, 1.09, 1.10,\n",
        "    1.10, 1.12, 1.03, 1.11, 1.13, 1.12, 1.08, 1.01, 1.15, 1.04,\n",
        "    1.09, 1.07, 0.977, 1.02, 1.08, 1.07, 1.04, 1.01, 0.993, 1.01,\n",
        "    1.04, 1.00, 0.95, 0.966, 0.927, 0.989, 0.998, 0.979, 0.962, 0.892,\n",
        "    0.93, 0.861, 1.04, 0.824, 0.879, 0.983, 0.85, 0.822, 0.83, 0.823,\n",
        "    0.778, 0.894, 0.713, 0.928, 0.794, 0.849, 0.692, 0.665, 0.81, 0.758,\n",
        "    0.878, 0.75, 0.792, 0.786, 0.708, 0.768, 0.857, 0.758, 0.713, 0.761\n",
        "]"
      ],
      "metadata": {
        "id": "egg1IKtHiADi"
      },
      "execution_count": null,
      "outputs": []
    },
    {
      "cell_type": "code",
      "source": [
        "plt.plot(losses)"
      ],
      "metadata": {
        "colab": {
          "base_uri": "https://localhost:8080/",
          "height": 448
        },
        "id": "0ZqEdbFIgRYZ",
        "outputId": "fa4bc710-4ad2-49ab-d7bb-8cba88ca6a19"
      },
      "execution_count": null,
      "outputs": [
        {
          "output_type": "execute_result",
          "data": {
            "text/plain": [
              "[<matplotlib.lines.Line2D at 0x7e4369ac4150>]"
            ]
          },
          "metadata": {},
          "execution_count": 21
        },
        {
          "output_type": "display_data",
          "data": {
            "text/plain": [
              "<Figure size 640x480 with 1 Axes>"
            ],
            "image/png": "[encoded data removed]"
          },
          "metadata": {}
        }
      ]
    },
    {
      "cell_type": "code",
      "source": [
        "plt.plot(learning_rates)"
      ],
      "metadata": {
        "colab": {
          "base_uri": "https://localhost:8080/",
          "height": 448
        },
        "id": "osaDjrP0gS7G",
        "outputId": "b18c50a5-0980-4c33-fe31-61ffe4a0943d"
      },
      "execution_count": null,
      "outputs": [
        {
          "output_type": "execute_result",
          "data": {
            "text/plain": [
              "[<matplotlib.lines.Line2D at 0x7e45e7dbe950>]"
            ]
          },
          "metadata": {},
          "execution_count": 22
        },
        {
          "output_type": "display_data",
          "data": {
            "text/plain": [
              "<Figure size 640x480 with 1 Axes>"
            ],
            "image/png": "[encoded data removed]"
          },
          "metadata": {}
        }
      ]
    },
    {
      "cell_type": "code",
      "source": [
        "plt.plot(train_acc, label=\"Train Accuracy\")\n",
        "plt.plot(val_acc, label=\"Val Accuracy\")\n",
        "plt.legend()\n",
        "plt.show()"
      ],
      "metadata": {
        "colab": {
          "base_uri": "https://localhost:8080/",
          "height": 430
        },
        "id": "uqtuDSfBgXfS",
        "outputId": "d0ff976f-ea57-4ee5-fecf-68e93843f8f1"
      },
      "execution_count": null,
      "outputs": [
        {
          "output_type": "display_data",
          "data": {
            "text/plain": [
              "<Figure size 640x480 with 1 Axes>"
            ],
            "image/png": "[encoded data removed]"
          },
          "metadata": {}
        }
      ]
    },
    {
      "cell_type": "code",
      "execution_count": null,
      "metadata": {
        "id": "SUV1MIa8GqYs",
        "colab": {
          "base_uri": "https://localhost:8080/",
          "height": 811
        },
        "outputId": "e6c264e6-59a8-4da1-e23b-5aa81642a93b"
      },
      "outputs": [
        {
          "output_type": "execute_result",
          "data": {
            "text/plain": [
              "                                         0              1   \\\n",
              "Trial #                                   1              2   \n",
              "Image size                               32             32   \n",
              "Embedding dimension                     384            384   \n",
              "Number of heads                          12             12   \n",
              "Number of encoders                        8              8   \n",
              "Batch size                              128            128   \n",
              "Epochs                                   20             20   \n",
              "Patch size                                4              4   \n",
              "Optimizer                               SGD           Adam   \n",
              "Learning rate                         0.001          0.001   \n",
              "Normalization                            No             No   \n",
              "Loss function                 Cross entropy  Cross entropy   \n",
              "Dropout regularization value            NaN           0.15   \n",
              "Data Augmentation                      None           None   \n",
              "Scheduler                              None           None   \n",
              "Accuracy %                            23.24          23.24   \n",
              "\n",
              "                                                       2   \\\n",
              "Trial #                                                 3   \n",
              "Image size                                             32   \n",
              "Embedding dimension                                   384   \n",
              "Number of heads                                        12   \n",
              "Number of encoders                                      8   \n",
              "Batch size                                            128   \n",
              "Epochs                                                 50   \n",
              "Patch size                                              4   \n",
              "Optimizer                                             SGD   \n",
              "Learning rate                                         0.1   \n",
              "Normalization                                         Yes   \n",
              "Loss function                               Cross entropy   \n",
              "Dropout regularization value                         0.15   \n",
              "Data Augmentation             Jittering + horizontal flip   \n",
              "Scheduler                                            None   \n",
              "Accuracy %                                          33.36   \n",
              "\n",
              "                                                                     3   \\\n",
              "Trial #                                                               4   \n",
              "Image size                                                           32   \n",
              "Embedding dimension                                                 192   \n",
              "Number of heads                                                      12   \n",
              "Number of encoders                                                    8   \n",
              "Batch size                                                          128   \n",
              "Epochs                                                               30   \n",
              "Patch size                                                            4   \n",
              "Optimizer                                                         AdamW   \n",
              "Learning rate                                                    0.0003   \n",
              "Normalization                                                       Yes   \n",
              "Loss function                                             Cross entropy   \n",
              "Dropout regularization value                                       0.15   \n",
              "Data Augmentation             Jittering + random crop + horizontal flip   \n",
              "Scheduler                                           Cosine Annealing LR   \n",
              "Accuracy %                                                         10.0   \n",
              "\n",
              "                                                                     4   \\\n",
              "Trial #                                                               5   \n",
              "Image size                                                           32   \n",
              "Embedding dimension                                                 192   \n",
              "Number of heads                                                      12   \n",
              "Number of encoders                                                    8   \n",
              "Batch size                                                          128   \n",
              "Epochs                                                               30   \n",
              "Patch size                                                            8   \n",
              "Optimizer                                                         AdamW   \n",
              "Learning rate                                                    0.0003   \n",
              "Normalization                                                       Yes   \n",
              "Loss function                                             Cross entropy   \n",
              "Dropout regularization value                                       0.15   \n",
              "Data Augmentation             Jittering + random crop + horizontal flip   \n",
              "Scheduler                                           Cosine Annealing LR   \n",
              "Accuracy %                                                        37.53   \n",
              "\n",
              "                                                                     5   \\\n",
              "Trial #                                                               6   \n",
              "Image size                                                           32   \n",
              "Embedding dimension                                                 192   \n",
              "Number of heads                                                       8   \n",
              "Number of encoders                                                    8   \n",
              "Batch size                                                          128   \n",
              "Epochs                                                               30   \n",
              "Patch size                                                            4   \n",
              "Optimizer                                                         AdamW   \n",
              "Learning rate                                                    0.0003   \n",
              "Normalization                                                       Yes   \n",
              "Loss function                                             Cross entropy   \n",
              "Dropout regularization value                                       0.15   \n",
              "Data Augmentation             Jittering + random crop + horizontal flip   \n",
              "Scheduler                                           Cosine Annealing LR   \n",
              "Accuracy %                                                        70.49   \n",
              "\n",
              "                                                                     6   \\\n",
              "Trial #                                                               7   \n",
              "Image size                                                           32   \n",
              "Embedding dimension                                                 192   \n",
              "Number of heads                                                       8   \n",
              "Number of encoders                                                    6   \n",
              "Batch size                                                          128   \n",
              "Epochs                                                               30   \n",
              "Patch size                                                            4   \n",
              "Optimizer                                                         AdamW   \n",
              "Learning rate                               3e-4 with 1e-5 weight decay   \n",
              "Normalization                                                       Yes   \n",
              "Loss function                                             Cross entropy   \n",
              "Dropout regularization value                                        0.1   \n",
              "Data Augmentation             Jittering + random crop + horizontal flip   \n",
              "Scheduler                                           Cosine Annealing LR   \n",
              "Accuracy %                                                        71.44   \n",
              "\n",
              "                                                                                                       7   \\\n",
              "Trial #                                                                                                 8   \n",
              "Image size                                                                                             64   \n",
              "Embedding dimension                                                                                   252   \n",
              "Number of heads                                                                                        12   \n",
              "Number of encoders                                                                                      8   \n",
              "Batch size                                                                                            128   \n",
              "Epochs                                                                                                100   \n",
              "Patch size                                                                                              4   \n",
              "Optimizer                                                                                           AdamW   \n",
              "Learning rate                                                                0.003 with 0.05 weight decay   \n",
              "Normalization                                                                                         Yes   \n",
              "Loss function                                                          Cross entropy + soft cross entropy   \n",
              "Dropout regularization value                                                                         0.05   \n",
              "Data Augmentation             Jittering + random crop + horizontal flip + mild mixup starting at epoch 20   \n",
              "Scheduler                                                             Cosine Annealing LR + linear warmup   \n",
              "Accuracy %                                                                                          75.69   \n",
              "\n",
              "                                                                                                       8   \\\n",
              "Trial #                                                                                                 9   \n",
              "Image size                                                                                             64   \n",
              "Embedding dimension                                                                                   252   \n",
              "Number of heads                                                                                        12   \n",
              "Number of encoders                                                                                      8   \n",
              "Batch size                                                                                            128   \n",
              "Epochs                                                                                                100   \n",
              "Patch size                                                                                              4   \n",
              "Optimizer                                                                                           AdamW   \n",
              "Learning rate                                                                0.003 with 0.05 weight decay   \n",
              "Normalization                                                                                         Yes   \n",
              "Loss function                                                          Cross entropy + soft cross entropy   \n",
              "Dropout regularization value                                                                         0.05   \n",
              "Data Augmentation             Jittering + random crop + horizontal flip + mild mixup starting at epoch 20   \n",
              "Scheduler                                                             Cosine Annealing LR + linear warmup   \n",
              "Accuracy %                                                                                          83.07   \n",
              "\n",
              "                                                                                                       9   \\\n",
              "Trial #                                                                                                10   \n",
              "Image size                                                                                             64   \n",
              "Embedding dimension                                                                                   252   \n",
              "Number of heads                                                                                        12   \n",
              "Number of encoders                                                                                      8   \n",
              "Batch size                                                                                            512   \n",
              "Epochs                                                                                                100   \n",
              "Patch size                                                                                              4   \n",
              "Optimizer                                                                                           AdamW   \n",
              "Learning rate                                                                0.003 with 0.05 weight decay   \n",
              "Normalization                                                                                         Yes   \n",
              "Loss function                                                          Cross entropy + soft cross entropy   \n",
              "Dropout regularization value                                                                         0.05   \n",
              "Data Augmentation             Jittering + random crop + horizontal flip + mild mixup starting at epoch 10   \n",
              "Scheduler                                                             Cosine Annealing LR + linear warmup   \n",
              "Accuracy %                                                                                          84.21   \n",
              "\n",
              "                                                                                                                                          10  \n",
              "Trial #                                                                                                                                   11  \n",
              "Image size                                                                                                                                64  \n",
              "Embedding dimension                                                                                                                      252  \n",
              "Number of heads                                                                                                                           12  \n",
              "Number of encoders                                                                                                                        12  \n",
              "Batch size                                                                                                                               512  \n",
              "Epochs                                                                                                                                   100  \n",
              "Patch size                                                                                                                                 4  \n",
              "Optimizer                                                                                                                              AdamW  \n",
              "Learning rate                                                                                                   0.003 with 0.05 weight decay  \n",
              "Normalization                                                                                                                            Yes  \n",
              "Loss function                                                                                             Cross entropy + soft cross entropy  \n",
              "Dropout regularization value                                                                                                            0.05  \n",
              "Data Augmentation             Jittering + random crop + horizontal flip + mild mixup starting at epoch 10 + mild cutmix starting at epoch 20  \n",
              "Scheduler                                                 Custom scheduler implementation: Linear warmup + hold for 30 epochs + cosine decay  \n",
              "Accuracy %                                                                                                                             85.68  "
            ],
            "text/html": [
              "\n",
              "  <div id=\"df-1950cb91-1a20-4861-9ad2-b10854f208a4\" class=\"colab-df-container\">\n",
              "    <div>\n",
              "<style scoped>\n",
              "    .dataframe tbody tr th:only-of-type {\n",
              "        vertical-align: middle;\n",
              "    }\n",
              "\n",
              "    .dataframe tbody tr th {\n",
              "        vertical-align: top;\n",
              "    }\n",
              "\n",
              "    .dataframe thead th {\n",
              "        text-align: right;\n",
              "    }\n",
              "</style>\n",
              "<table border=\"1\" class=\"dataframe\">\n",
              "  <thead>\n",
              "    <tr style=\"text-align: right;\">\n",
              "      <th></th>\n",
              "      <th>0</th>\n",
              "      <th>1</th>\n",
              "      <th>2</th>\n",
              "      <th>3</th>\n",
              "      <th>4</th>\n",
              "      <th>5</th>\n",
              "      <th>6</th>\n",
              "      <th>7</th>\n",
              "      <th>8</th>\n",
              "      <th>9</th>\n",
              "      <th>10</th>\n",
              "    </tr>\n",
              "  </thead>\n",
              "  <tbody>\n",
              "    <tr>\n",
              "      <th>Trial #</th>\n",
              "      <td>1</td>\n",
              "      <td>2</td>\n",
              "      <td>3</td>\n",
              "      <td>4</td>\n",
              "      <td>5</td>\n",
              "      <td>6</td>\n",
              "      <td>7</td>\n",
              "      <td>8</td>\n",
              "      <td>9</td>\n",
              "      <td>10</td>\n",
              "      <td>11</td>\n",
              "    </tr>\n",
              "    <tr>\n",
              "      <th>Image size</th>\n",
              "      <td>32</td>\n",
              "      <td>32</td>\n",
              "      <td>32</td>\n",
              "      <td>32</td>\n",
              "      <td>32</td>\n",
              "      <td>32</td>\n",
              "      <td>32</td>\n",
              "      <td>64</td>\n",
              "      <td>64</td>\n",
              "      <td>64</td>\n",
              "      <td>64</td>\n",
              "    </tr>\n",
              "    <tr>\n",
              "      <th>Embedding dimension</th>\n",
              "      <td>384</td>\n",
              "      <td>384</td>\n",
              "      <td>384</td>\n",
              "      <td>192</td>\n",
              "      <td>192</td>\n",
              "      <td>192</td>\n",
              "      <td>192</td>\n",
              "      <td>252</td>\n",
              "      <td>252</td>\n",
              "      <td>252</td>\n",
              "      <td>252</td>\n",
              "    </tr>\n",
              "    <tr>\n",
              "      <th>Number of heads</th>\n",
              "      <td>12</td>\n",
              "      <td>12</td>\n",
              "      <td>12</td>\n",
              "      <td>12</td>\n",
              "      <td>12</td>\n",
              "      <td>8</td>\n",
              "      <td>8</td>\n",
              "      <td>12</td>\n",
              "      <td>12</td>\n",
              "      <td>12</td>\n",
              "      <td>12</td>\n",
              "    </tr>\n",
              "    <tr>\n",
              "      <th>Number of encoders</th>\n",
              "      <td>8</td>\n",
              "      <td>8</td>\n",
              "      <td>8</td>\n",
              "      <td>8</td>\n",
              "      <td>8</td>\n",
              "      <td>8</td>\n",
              "      <td>6</td>\n",
              "      <td>8</td>\n",
              "      <td>8</td>\n",
              "      <td>8</td>\n",
              "      <td>12</td>\n",
              "    </tr>\n",
              "    <tr>\n",
              "      <th>Batch size</th>\n",
              "      <td>128</td>\n",
              "      <td>128</td>\n",
              "      <td>128</td>\n",
              "      <td>128</td>\n",
              "      <td>128</td>\n",
              "      <td>128</td>\n",
              "      <td>128</td>\n",
              "      <td>128</td>\n",
              "      <td>128</td>\n",
              "      <td>512</td>\n",
              "      <td>512</td>\n",
              "    </tr>\n",
              "    <tr>\n",
              "      <th>Epochs</th>\n",
              "      <td>20</td>\n",
              "      <td>20</td>\n",
              "      <td>50</td>\n",
              "      <td>30</td>\n",
              "      <td>30</td>\n",
              "      <td>30</td>\n",
              "      <td>30</td>\n",
              "      <td>100</td>\n",
              "      <td>100</td>\n",
              "      <td>100</td>\n",
              "      <td>100</td>\n",
              "    </tr>\n",
              "    <tr>\n",
              "      <th>Patch size</th>\n",
              "      <td>4</td>\n",
              "      <td>4</td>\n",
              "      <td>4</td>\n",
              "      <td>4</td>\n",
              "      <td>8</td>\n",
              "      <td>4</td>\n",
              "      <td>4</td>\n",
              "      <td>4</td>\n",
              "      <td>4</td>\n",
              "      <td>4</td>\n",
              "      <td>4</td>\n",
              "    </tr>\n",
              "    <tr>\n",
              "      <th>Optimizer</th>\n",
              "      <td>SGD</td>\n",
              "      <td>Adam</td>\n",
              "      <td>SGD</td>\n",
              "      <td>AdamW</td>\n",
              "      <td>AdamW</td>\n",
              "      <td>AdamW</td>\n",
              "      <td>AdamW</td>\n",
              "      <td>AdamW</td>\n",
              "      <td>AdamW</td>\n",
              "      <td>AdamW</td>\n",
              "      <td>AdamW</td>\n",
              "    </tr>\n",
              "    <tr>\n",
              "      <th>Learning rate</th>\n",
              "      <td>0.001</td>\n",
              "      <td>0.001</td>\n",
              "      <td>0.1</td>\n",
              "      <td>0.0003</td>\n",
              "      <td>0.0003</td>\n",
              "      <td>0.0003</td>\n",
              "      <td>3e-4 with 1e-5 weight decay</td>\n",
              "      <td>0.003 with 0.05 weight decay</td>\n",
              "      <td>0.003 with 0.05 weight decay</td>\n",
              "      <td>0.003 with 0.05 weight decay</td>\n",
              "      <td>0.003 with 0.05 weight decay</td>\n",
              "    </tr>\n",
              "    <tr>\n",
              "      <th>Normalization</th>\n",
              "      <td>No</td>\n",
              "      <td>No</td>\n",
              "      <td>Yes</td>\n",
              "      <td>Yes</td>\n",
              "      <td>Yes</td>\n",
              "      <td>Yes</td>\n",
              "      <td>Yes</td>\n",
              "      <td>Yes</td>\n",
              "      <td>Yes</td>\n",
              "      <td>Yes</td>\n",
              "      <td>Yes</td>\n",
              "    </tr>\n",
              "    <tr>\n",
              "      <th>Loss function</th>\n",
              "      <td>Cross entropy</td>\n",
              "      <td>Cross entropy</td>\n",
              "      <td>Cross entropy</td>\n",
              "      <td>Cross entropy</td>\n",
              "      <td>Cross entropy</td>\n",
              "      <td>Cross entropy</td>\n",
              "      <td>Cross entropy</td>\n",
              "      <td>Cross entropy + soft cross entropy</td>\n",
              "      <td>Cross entropy + soft cross entropy</td>\n",
              "      <td>Cross entropy + soft cross entropy</td>\n",
              "      <td>Cross entropy + soft cross entropy</td>\n",
              "    </tr>\n",
              "    <tr>\n",
              "      <th>Dropout regularization value</th>\n",
              "      <td>NaN</td>\n",
              "      <td>0.15</td>\n",
              "      <td>0.15</td>\n",
              "      <td>0.15</td>\n",
              "      <td>0.15</td>\n",
              "      <td>0.15</td>\n",
              "      <td>0.1</td>\n",
              "      <td>0.05</td>\n",
              "      <td>0.05</td>\n",
              "      <td>0.05</td>\n",
              "      <td>0.05</td>\n",
              "    </tr>\n",
              "    <tr>\n",
              "      <th>Data Augmentation</th>\n",
              "      <td>None</td>\n",
              "      <td>None</td>\n",
              "      <td>Jittering + horizontal flip</td>\n",
              "      <td>Jittering + random crop + horizontal flip</td>\n",
              "      <td>Jittering + random crop + horizontal flip</td>\n",
              "      <td>Jittering + random crop + horizontal flip</td>\n",
              "      <td>Jittering + random crop + horizontal flip</td>\n",
              "      <td>Jittering + random crop + horizontal flip + mild mixup starting at epoch 20</td>\n",
              "      <td>Jittering + random crop + horizontal flip + mild mixup starting at epoch 20</td>\n",
              "      <td>Jittering + random crop + horizontal flip + mild mixup starting at epoch 10</td>\n",
              "      <td>Jittering + random crop + horizontal flip + mild mixup starting at epoch 10 + mild cutmix starting at epoch 20</td>\n",
              "    </tr>\n",
              "    <tr>\n",
              "      <th>Scheduler</th>\n",
              "      <td>None</td>\n",
              "      <td>None</td>\n",
              "      <td>None</td>\n",
              "      <td>Cosine Annealing LR</td>\n",
              "      <td>Cosine Annealing LR</td>\n",
              "      <td>Cosine Annealing LR</td>\n",
              "      <td>Cosine Annealing LR</td>\n",
              "      <td>Cosine Annealing LR + linear warmup</td>\n",
              "      <td>Cosine Annealing LR + linear warmup</td>\n",
              "      <td>Cosine Annealing LR + linear warmup</td>\n",
              "      <td>Custom scheduler implementation: Linear warmup + hold for 30 epochs + cosine decay</td>\n",
              "    </tr>\n",
              "    <tr>\n",
              "      <th>Accuracy %</th>\n",
              "      <td>23.24</td>\n",
              "      <td>23.24</td>\n",
              "      <td>33.36</td>\n",
              "      <td>10.0</td>\n",
              "      <td>37.53</td>\n",
              "      <td>70.49</td>\n",
              "      <td>71.44</td>\n",
              "      <td>75.69</td>\n",
              "      <td>83.07</td>\n",
              "      <td>84.21</td>\n",
              "      <td>85.68</td>\n",
              "    </tr>\n",
              "  </tbody>\n",
              "</table>\n",
              "</div>\n",
              "    <div class=\"colab-df-buttons\">\n",
              "\n",
              "  <div class=\"colab-df-container\">\n",
              "    <button class=\"colab-df-convert\" onclick=\"convertToInteractive('df-1950cb91-1a20-4861-9ad2-b10854f208a4')\"\n",
              "            title=\"Convert this dataframe to an interactive table.\"\n",
              "            style=\"display:none;\">\n",
              "\n",
              "  <svg xmlns=\"http://www.w3.org/2000/svg\" height=\"24px\" viewBox=\"0 -960 960 960\">\n",
              "    <path d=\"M120-120v-720h720v720H120Zm60-500h600v-160H180v160Zm220 220h160v-160H400v160Zm0 220h160v-160H400v160ZM180-400h160v-160H180v160Zm440 0h160v-160H620v160ZM180-180h160v-160H180v160Zm440 0h160v-160H620v160Z\"/>\n",
              "  </svg>\n",
              "    </button>\n",
              "\n",
              "  <style>\n",
              "    .colab-df-container {\n",
              "      display:flex;\n",
              "      gap: 12px;\n",
              "    }\n",
              "\n",
              "    .colab-df-convert {\n",
              "      background-color: #E8F0FE;\n",
              "      border: none;\n",
              "      border-radius: 50%;\n",
              "      cursor: pointer;\n",
              "      display: none;\n",
              "      fill: #1967D2;\n",
              "      height: 32px;\n",
              "      padding: 0 0 0 0;\n",
              "      width: 32px;\n",
              "    }\n",
              "\n",
              "    .colab-df-convert:hover {\n",
              "      background-color: #E2EBFA;\n",
              "      box-shadow: 0px 1px 2px rgba(60, 64, 67, 0.3), 0px 1px 3px 1px rgba(60, 64, 67, 0.15);\n",
              "      fill: #174EA6;\n",
              "    }\n",
              "\n",
              "    .colab-df-buttons div {\n",
              "      margin-bottom: 4px;\n",
              "    }\n",
              "\n",
              "    [theme=dark] .colab-df-convert {\n",
              "      background-color: #3B4455;\n",
              "      fill: #D2E3FC;\n",
              "    }\n",
              "\n",
              "    [theme=dark] .colab-df-convert:hover {\n",
              "      background-color: #434B5C;\n",
              "      box-shadow: 0px 1px 3px 1px rgba(0, 0, 0, 0.15);\n",
              "      filter: drop-shadow(0px 1px 2px rgba(0, 0, 0, 0.3));\n",
              "      fill: #FFFFFF;\n",
              "    }\n",
              "  </style>\n",
              "\n",
              "    <script>\n",
              "      const buttonEl =\n",
              "        document.querySelector('#df-1950cb91-1a20-4861-9ad2-b10854f208a4 button.colab-df-convert');\n",
              "      buttonEl.style.display =\n",
              "        google.colab.kernel.accessAllowed ? 'block' : 'none';\n",
              "\n",
              "      async function convertToInteractive(key) {\n",
              "        const element = document.querySelector('#df-1950cb91-1a20-4861-9ad2-b10854f208a4');\n",
              "        const dataTable =\n",
              "          await google.colab.kernel.invokeFunction('convertToInteractive',\n",
              "                                                    [key], {});\n",
              "        if (!dataTable) return;\n",
              "\n",
              "        const docLinkHtml = 'Like what you see? Visit the ' +\n",
              "          '<a target=\"_blank\" href=https://colab.research.google.com/notebooks/data_table.ipynb>data table notebook</a>'\n",
              "          + ' to learn more about interactive tables.';\n",
              "        element.innerHTML = '';\n",
              "        dataTable['output_type'] = 'display_data';\n",
              "        await google.colab.output.renderOutput(dataTable, element);\n",
              "        const docLink = document.createElement('div');\n",
              "        docLink.innerHTML = docLinkHtml;\n",
              "        element.appendChild(docLink);\n",
              "      }\n",
              "    </script>\n",
              "  </div>\n",
              "\n",
              "\n",
              "    <div id=\"df-22b31ff6-ba19-4492-a502-495426113ec6\">\n",
              "      <button class=\"colab-df-quickchart\" onclick=\"quickchart('df-22b31ff6-ba19-4492-a502-495426113ec6')\"\n",
              "                title=\"Suggest charts\"\n",
              "                style=\"display:none;\">\n",
              "\n",
              "<svg xmlns=\"http://www.w3.org/2000/svg\" height=\"24px\"viewBox=\"0 0 24 24\"\n",
              "     width=\"24px\">\n",
              "    <g>\n",
              "        <path d=\"M19 3H5c-1.1 0-2 .9-2 2v14c0 1.1.9 2 2 2h14c1.1 0 2-.9 2-2V5c0-1.1-.9-2-2-2zM9 17H7v-7h2v7zm4 0h-2V7h2v10zm4 0h-2v-4h2v4z\"/>\n",
              "    </g>\n",
              "</svg>\n",
              "      </button>\n",
              "\n",
              "<style>\n",
              "  .colab-df-quickchart {\n",
              "      --bg-color: #E8F0FE;\n",
              "      --fill-color: #1967D2;\n",
              "      --hover-bg-color: #E2EBFA;\n",
              "      --hover-fill-color: #174EA6;\n",
              "      --disabled-fill-color: #AAA;\n",
              "      --disabled-bg-color: #DDD;\n",
              "  }\n",
              "\n",
              "  [theme=dark] .colab-df-quickchart {\n",
              "      --bg-color: #3B4455;\n",
              "      --fill-color: #D2E3FC;\n",
              "      --hover-bg-color: #434B5C;\n",
              "      --hover-fill-color: #FFFFFF;\n",
              "      --disabled-bg-color: #3B4455;\n",
              "      --disabled-fill-color: #666;\n",
              "  }\n",
              "\n",
              "  .colab-df-quickchart {\n",
              "    background-color: var(--bg-color);\n",
              "    border: none;\n",
              "    border-radius: 50%;\n",
              "    cursor: pointer;\n",
              "    display: none;\n",
              "    fill: var(--fill-color);\n",
              "    height: 32px;\n",
              "    padding: 0;\n",
              "    width: 32px;\n",
              "  }\n",
              "\n",
              "  .colab-df-quickchart:hover {\n",
              "    background-color: var(--hover-bg-color);\n",
              "    box-shadow: 0 1px 2px rgba(60, 64, 67, 0.3), 0 1px 3px 1px rgba(60, 64, 67, 0.15);\n",
              "    fill: var(--button-hover-fill-color);\n",
              "  }\n",
              "\n",
              "  .colab-df-quickchart-complete:disabled,\n",
              "  .colab-df-quickchart-complete:disabled:hover {\n",
              "    background-color: var(--disabled-bg-color);\n",
              "    fill: var(--disabled-fill-color);\n",
              "    box-shadow: none;\n",
              "  }\n",
              "\n",
              "  .colab-df-spinner {\n",
              "    border: 2px solid var(--fill-color);\n",
              "    border-color: transparent;\n",
              "    border-bottom-color: var(--fill-color);\n",
              "    animation:\n",
              "      spin 1s steps(1) infinite;\n",
              "  }\n",
              "\n",
              "  @keyframes spin {\n",
              "    0% {\n",
              "      border-color: transparent;\n",
              "      border-bottom-color: var(--fill-color);\n",
              "      border-left-color: var(--fill-color);\n",
              "    }\n",
              "    20% {\n",
              "      border-color: transparent;\n",
              "      border-left-color: var(--fill-color);\n",
              "      border-top-color: var(--fill-color);\n",
              "    }\n",
              "    30% {\n",
              "      border-color: transparent;\n",
              "      border-left-color: var(--fill-color);\n",
              "      border-top-color: var(--fill-color);\n",
              "      border-right-color: var(--fill-color);\n",
              "    }\n",
              "    40% {\n",
              "      border-color: transparent;\n",
              "      border-right-color: var(--fill-color);\n",
              "      border-top-color: var(--fill-color);\n",
              "    }\n",
              "    60% {\n",
              "      border-color: transparent;\n",
              "      border-right-color: var(--fill-color);\n",
              "    }\n",
              "    80% {\n",
              "      border-color: transparent;\n",
              "      border-right-color: var(--fill-color);\n",
              "      border-bottom-color: var(--fill-color);\n",
              "    }\n",
              "    90% {\n",
              "      border-color: transparent;\n",
              "      border-bottom-color: var(--fill-color);\n",
              "    }\n",
              "  }\n",
              "</style>\n",
              "\n",
              "      <script>\n",
              "        async function quickchart(key) {\n",
              "          const quickchartButtonEl =\n",
              "            document.querySelector('#' + key + ' button');\n",
              "          quickchartButtonEl.disabled = true;  // To prevent multiple clicks.\n",
              "          quickchartButtonEl.classList.add('colab-df-spinner');\n",
              "          try {\n",
              "            const charts = await google.colab.kernel.invokeFunction(\n",
              "                'suggestCharts', [key], {});\n",
              "          } catch (error) {\n",
              "            console.error('Error during call to suggestCharts:', error);\n",
              "          }\n",
              "          quickchartButtonEl.classList.remove('colab-df-spinner');\n",
              "          quickchartButtonEl.classList.add('colab-df-quickchart-complete');\n",
              "        }\n",
              "        (() => {\n",
              "          let quickchartButtonEl =\n",
              "            document.querySelector('#df-22b31ff6-ba19-4492-a502-495426113ec6 button');\n",
              "          quickchartButtonEl.style.display =\n",
              "            google.colab.kernel.accessAllowed ? 'block' : 'none';\n",
              "        })();\n",
              "      </script>\n",
              "    </div>\n",
              "\n",
              "    </div>\n",
              "  </div>\n"
            ],
            "application/vnd.google.colaboratory.intrinsic+json": {
              "type": "dataframe",
              "summary": "{\n  \"name\": \"df\",\n  \"rows\": 16,\n  \"fields\": [\n    {\n      \"column\": 0,\n      \"properties\": {\n        \"dtype\": \"string\",\n        \"num_unique_values\": 13,\n        \"samples\": [\n          \"Cross entropy\",\n          0.001,\n          1\n        ],\n        \"semantic_type\": \"\",\n        \"description\": \"\"\n      }\n    },\n    {\n      \"column\": 1,\n      \"properties\": {\n        \"dtype\": \"string\",\n        \"num_unique_values\": 14,\n        \"samples\": [\n          0.001,\n          \"Cross entropy\",\n          2\n        ],\n        \"semantic_type\": \"\",\n        \"description\": \"\"\n      }\n    },\n    {\n      \"column\": 2,\n      \"properties\": {\n        \"dtype\": \"string\",\n        \"num_unique_values\": 15,\n        \"samples\": [\n          0.1,\n          \"Cross entropy\",\n          3\n        ],\n        \"semantic_type\": \"\",\n        \"description\": \"\"\n      }\n    },\n    {\n      \"column\": 3,\n      \"properties\": {\n        \"dtype\": \"string\",\n        \"num_unique_values\": 15,\n        \"samples\": [\n          \"Yes\",\n          0.15,\n          4\n        ],\n        \"semantic_type\": \"\",\n        \"description\": \"\"\n      }\n    },\n    {\n      \"column\": 4,\n      \"properties\": {\n        \"dtype\": \"string\",\n        \"num_unique_values\": 15,\n        \"samples\": [\n          \"Yes\",\n          0.15,\n          5\n        ],\n        \"semantic_type\": \"\",\n        \"description\": \"\"\n      }\n    },\n    {\n      \"column\": 5,\n      \"properties\": {\n        \"dtype\": \"string\",\n        \"num_unique_values\": 15,\n        \"samples\": [\n          \"Yes\",\n          0.15,\n          6\n        ],\n        \"semantic_type\": \"\",\n        \"description\": \"\"\n      }\n    },\n    {\n      \"column\": 6,\n      \"properties\": {\n        \"dtype\": \"string\",\n        \"num_unique_values\": 16,\n        \"samples\": [\n          7,\n          32,\n          128\n        ],\n        \"semantic_type\": \"\",\n        \"description\": \"\"\n      }\n    },\n    {\n      \"column\": 7,\n      \"properties\": {\n        \"dtype\": \"string\",\n        \"num_unique_values\": 15,\n        \"samples\": [\n          \"Yes\",\n          0.05,\n          8\n        ],\n        \"semantic_type\": \"\",\n        \"description\": \"\"\n      }\n    },\n    {\n      \"column\": 8,\n      \"properties\": {\n        \"dtype\": \"string\",\n        \"num_unique_values\": 16,\n        \"samples\": [\n          9,\n          64,\n          128\n        ],\n        \"semantic_type\": \"\",\n        \"description\": \"\"\n      }\n    },\n    {\n      \"column\": 9,\n      \"properties\": {\n        \"dtype\": \"string\",\n        \"num_unique_values\": 16,\n        \"samples\": [\n          10,\n          64,\n          512\n        ],\n        \"semantic_type\": \"\",\n        \"description\": \"\"\n      }\n    },\n    {\n      \"column\": 10,\n      \"properties\": {\n        \"dtype\": \"string\",\n        \"num_unique_values\": 15,\n        \"samples\": [\n          \"Yes\",\n          0.05,\n          11\n        ],\n        \"semantic_type\": \"\",\n        \"description\": \"\"\n      }\n    }\n  ]\n}"
            }
          },
          "metadata": {},
          "execution_count": 18
        }
      ],
      "source": [
        "import pandas as pd\n",
        "\n",
        "data = {\n",
        "    'Trial #': [1, 2, 3, 4, 5, 6, 7, 8, 9, 10, 11],\n",
        "    'Image size': [32, 32, 32, 32, 32, 32, 32, 64, 64, 64, 64],\n",
        "    'Embedding dimension': [384, 384, 384, 192, 192, 192, 192, 252, 252, 252, 252],\n",
        "    'Number of heads': [12, 12, 12, 12, 12, 8, 8, 12, 12, 12, 12],\n",
        "    'Number of encoders': [8, 8, 8,  8, 8, 8, 6, 8, 8, 8, 12],\n",
        "    'Batch size': [128, 128, 128, 128, 128, 128, 128, 128, 128, 512, 512],\n",
        "    'Epochs': [20, 20, 50,  30, 30, 30, 30, 100, 100, 100, 100],\n",
        "    'Patch size': [4, 4, 4,  4, 8, 4, 4, 4, 4, 4, 4],\n",
        "    'Optimizer': ['SGD', 'Adam', 'SGD',  \"AdamW\", \"AdamW\", \"AdamW\", \"AdamW\", \"AdamW\", \"AdamW\", \"AdamW\", \"AdamW\"],\n",
        "    'Learning rate': [0.001, 0.001, 0.1,  3e-4, 3e-4, 3e-4, \"3e-4 with 1e-5 weight decay\", \"0.003 with 0.05 weight decay\", \"0.003 with 0.05 weight decay\", \"0.003 with 0.05 weight decay\", \"0.003 with 0.05 weight decay\"],\n",
        "    'Normalization': ['No', 'No', 'Yes',  'Yes', 'Yes', 'Yes', 'Yes', 'Yes', 'Yes', 'Yes', 'Yes'],\n",
        "    'Loss function': ['Cross entropy', 'Cross entropy', 'Cross entropy',  'Cross entropy', 'Cross entropy', 'Cross entropy', 'Cross entropy', 'Cross entropy + soft cross entropy', 'Cross entropy + soft cross entropy', 'Cross entropy + soft cross entropy', 'Cross entropy + soft cross entropy'],\n",
        "    'Dropout regularization value': [None, 0.15, 0.15, 0.15, 0.15, 0.15, 0.10, 0.05, 0.05, 0.05, 0.05],\n",
        "    'Data Augmentation': [None, None, \"Jittering + horizontal flip\", \"Jittering + random crop + horizontal flip\", \"Jittering + random crop + horizontal flip\",  \"Jittering + random crop + horizontal flip\", \"Jittering + random crop + horizontal flip\", \"Jittering + random crop + horizontal flip + mild mixup starting at epoch 20\", \"Jittering + random crop + horizontal flip + mild mixup starting at epoch 20\" , \"Jittering + random crop + horizontal flip + mild mixup starting at epoch 10\", \"Jittering + random crop + horizontal flip + mild mixup starting at epoch 10 + mild cutmix starting at epoch 20\"],\n",
        "    'Scheduler': [None, None, None, \"Cosine Annealing LR\", \"Cosine Annealing LR\", \"Cosine Annealing LR\", \"Cosine Annealing LR\", \"Cosine Annealing LR + linear warmup\", \"Cosine Annealing LR + linear warmup\", \"Cosine Annealing LR + linear warmup\", \"Custom scheduler implementation: Linear warmup + hold for 30 epochs + cosine decay\"],\n",
        "    'Accuracy %': [23.24, 23.24, 33.36, 10.00, 37.53,  70.49, 71.44, 75.69, 83.07, 84.21, 85.68],\n",
        "}\n",
        "\n",
        "# Create DataFrame\n",
        "df = pd.DataFrame(data)\n",
        "pd.set_option('display.max_colwidth', None)\n",
        "df.transpose()"
      ]
    },
    {
      "cell_type": "code",
      "source": [
        "print(\"torch:\", torch.__version__)\n",
        "print(\"torchvision:\", torchvision.__version__)"
      ],
      "metadata": {
        "id": "q_m40LYHc4H8",
        "outputId": "010287b0-192a-4ce0-bf4f-5a8706671376",
        "colab": {
          "base_uri": "https://localhost:8080/"
        }
      },
      "execution_count": 7,
      "outputs": [
        {
          "output_type": "stream",
          "name": "stdout",
          "text": [
            "torch: 2.6.0+cu124\n",
            "torchvision: 0.21.0+cu124\n"
          ]
        }
      ]
    },
    {
      "cell_type": "code",
      "source": [],
      "metadata": {
        "id": "AbKyKfN0WhH3"
      },
      "execution_count": null,
      "outputs": []
    }
  ],
  "metadata": {
    "colab": {
      "provenance": [],
      "gpuType": "A100",
      "authorship_tag": "ABX9TyO1YqiGQ9fMP3EokJGnIh4m",
      "include_colab_link": true
    },
    "kernelspec": {
      "display_name": "Python 3",
      "name": "python3"
    },
    "language_info": {
      "name": "python"
    },
    "accelerator": "GPU"
  },
  "nbformat": 4,
  "nbformat_minor": 0
}